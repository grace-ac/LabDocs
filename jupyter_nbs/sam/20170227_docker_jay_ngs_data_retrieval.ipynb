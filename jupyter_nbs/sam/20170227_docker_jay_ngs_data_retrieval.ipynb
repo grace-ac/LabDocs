{
 "cells": [
  {
   "cell_type": "markdown",
   "metadata": {},
   "source": [
    "### Running in Docker container on Ostrich\n",
    "\n",
    "#### Started Docker container with the following command:\n",
    "\n",
    "```docker run -p 8888:8888 -v /Users/sam/data/:/data -v /Users/sam/owl_home/:/owl_home -v /Users/sam/owl_web/:/owl_web -v /Users/sam/gitrepos:/gitrepos -it f99537d7e06a```\n",
    "\n",
    "The command allows access to Jupyter Notebook over port 8888 and makes my Jupyter Notebook GitHub repo and my data files on Owl/home and Owl/web accessible to the Docker container.\n",
    "\n",
    "Once the container was started, started Jupyter Notebook with the following command inside the Docker container:\n",
    "\n",
    "```jupyter notebook```\n",
    "\n",
    "This is configured in the Docker container to launch a Jupyter Notebook without a browser on port 8888.\n",
    "\n",
    "The Docker container is running on an image created from this [Dockerfile (Git commit 443bc42)](https://github.com/sr320/LabDocs/blob/443bc425cd36d23a07cf12625f38b7e3a397b9be/code/dockerfiles/Dockerfile.bio)"
   ]
  },
  {
   "cell_type": "code",
   "execution_count": 1,
   "metadata": {
    "collapsed": false
   },
   "outputs": [
    {
     "name": "stdout",
     "output_type": "stream",
     "text": [
      "Mon Feb 27 18:32:53 UTC 2017\n"
     ]
    }
   ],
   "source": [
    "%%bash\n",
    "date"
   ]
  },
  {
   "cell_type": "markdown",
   "metadata": {},
   "source": [
    "### Check computer specs"
   ]
  },
  {
   "cell_type": "code",
   "execution_count": 2,
   "metadata": {
    "collapsed": false
   },
   "outputs": [
    {
     "name": "stdout",
     "output_type": "stream",
     "text": [
      "0f2bca9c664b\n"
     ]
    }
   ],
   "source": [
    "%%bash\n",
    "hostname"
   ]
  },
  {
   "cell_type": "code",
   "execution_count": 3,
   "metadata": {
    "collapsed": false
   },
   "outputs": [
    {
     "name": "stdout",
     "output_type": "stream",
     "text": [
      "Architecture:          x86_64\n",
      "CPU op-mode(s):        32-bit, 64-bit\n",
      "Byte Order:            Little Endian\n",
      "CPU(s):                8\n",
      "On-line CPU(s) list:   0-7\n",
      "Thread(s) per core:    1\n",
      "Core(s) per socket:    8\n",
      "Socket(s):             1\n",
      "Vendor ID:             GenuineIntel\n",
      "CPU family:            6\n",
      "Model:                 26\n",
      "Model name:            Intel(R) Xeon(R) CPU           E5520  @ 2.27GHz\n",
      "Stepping:              5\n",
      "CPU MHz:               2260.998\n",
      "BogoMIPS:              4521.99\n",
      "Hypervisor vendor:     KVM\n",
      "Virtualization type:   full\n",
      "L1d cache:             32K\n",
      "L1i cache:             32K\n",
      "L2 cache:              256K\n",
      "L3 cache:              8192K\n"
     ]
    }
   ],
   "source": [
    "%%bash\n",
    "lscpu"
   ]
  },
  {
   "cell_type": "markdown",
   "metadata": {},
   "source": [
    "### Download Jay's Non-Demultiplexed data"
   ]
  },
  {
   "cell_type": "markdown",
   "metadata": {},
   "source": [
    "#### The files in this folder are as follows (email correspondence):\n",
    "> Hi Sam,\n",
    ">\n",
    "Your new directory is on the server \"Dimond_170224\", the checksum info in listed in a text file for the three files. Is there a better way to list the checksums? I'm new to this.  \n",
    ">  \n",
    ">Also, I gave you the 2 reads and the 6bp index file.  \n",
    ">  \n",
    ">Best,\n",
    ">\n",
    ">Shana\n",
    "\n",
    ">Shana McDevitt\n",
    "\n",
    ">Director\n",
    "\n",
    ">Vincent J. Coates Genomics Sequencing Laboratory\n",
    "\n",
    ">California Institute for Quantitative Biosciences (QB3)\n",
    "\n",
    ">University of California, Berkeley"
   ]
  },
  {
   "cell_type": "code",
   "execution_count": 1,
   "metadata": {
    "collapsed": false
   },
   "outputs": [
    {
     "name": "stdout",
     "output_type": "stream",
     "text": [
      "/data/20170227_jay_data_tmp\n"
     ]
    }
   ],
   "source": [
    "cd /data/20170227_jay_data_tmp/"
   ]
  },
  {
   "cell_type": "markdown",
   "metadata": {},
   "source": [
    "#### The following command uses ```wget``` to download all of the files in the target directory. Here's an explanation of the code:\n",
    "\n",
    "- ```time```: Evaluates how long it takes for the command to complete. \n",
    "\n",
    "- ```WGETRC=/data/wgetrc_berk_seq```: This assigns the value of the bash variable ```WGETRC``` to the contents of the ```wgetrc_berk_seq``` file. This file contains the username and password needed to ftp the data from the UC Berkeley server. Using this allows me to run the command in a Jupyter notebook without the need for pasting the actual username and password into the command string.\n",
    "\n",
    "- ```-r```: Recursive; i.e. download all things in this directory and anything in any subdirectories.\n",
    "\n",
    "- ```-np```: No parent; i.e. do not ascend to higher directories.\n",
    "\n",
    "- ```-nc```: No clobber; i.e. do not overwrite any existing files in the download directory.\n",
    "\n",
    "- ```-q```: Quiet; i.e. do not print wget status to screen. This is to prevent bogging down the Jupyter notebook with thousands of output lines."
   ]
  },
  {
   "cell_type": "code",
   "execution_count": 5,
   "metadata": {
    "collapsed": false
   },
   "outputs": [
    {
     "name": "stderr",
     "output_type": "stream",
     "text": [
      "\n",
      "real\t37m7.999s\n",
      "user\t0m3.130s\n",
      "sys\t20m34.060s\n"
     ]
    }
   ],
   "source": [
    "%%bash\n",
    "time WGETRC=/data/wgetrc_berk_seq wget -r -np -nc -q ftp://gslserver.qb3.berkeley.edu/Dimond_170224"
   ]
  },
  {
   "cell_type": "code",
   "execution_count": 6,
   "metadata": {
    "collapsed": false
   },
   "outputs": [
    {
     "name": "stdout",
     "output_type": "stream",
     "text": [
      "total 0\n",
      "drwxr-xr-x 1 srlab staff 102 Feb 27 19:54 gslserver.qb3.berkeley.edu\n"
     ]
    }
   ],
   "source": [
    "%%bash\n",
    "ls -lh"
   ]
  },
  {
   "cell_type": "code",
   "execution_count": 7,
   "metadata": {
    "collapsed": false
   },
   "outputs": [
    {
     "name": "stdout",
     "output_type": "stream",
     "text": [
      "/data/20170227_jay_data_tmp/gslserver.qb3.berkeley.edu/Dimond_170224\n"
     ]
    }
   ],
   "source": [
    "cd gslserver.qb3.berkeley.edu/Dimond_170224/"
   ]
  },
  {
   "cell_type": "code",
   "execution_count": 8,
   "metadata": {
    "collapsed": false
   },
   "outputs": [
    {
     "name": "stdout",
     "output_type": "stream",
     "text": [
      "total 41G\n",
      "-rw-r--r-- 1 srlab staff 2.1G Feb 24 23:28 JD002_S0_L005_I1_001.fastq.gz\n",
      "-rw-r--r-- 1 srlab staff  18G Feb 24 23:28 JD002_S0_L005_R1_001.fastq.gz\n",
      "-rw-r--r-- 1 srlab staff  22G Feb 24 23:28 JD002_S0_L005_R2_001.fastq.gz\n",
      "-rw-r--r-- 1 srlab staff  192 Feb 25 00:01 md5sum_report\n"
     ]
    }
   ],
   "source": [
    "%%bash\n",
    "ls -lh"
   ]
  },
  {
   "cell_type": "code",
   "execution_count": 9,
   "metadata": {
    "collapsed": false
   },
   "outputs": [
    {
     "name": "stdout",
     "output_type": "stream",
     "text": [
      "baa87464b77f937fccf496351bb7f000  JD002_S0_L005_I1_001.fastq.gz\r\n",
      "e05eea61dbd405c890f241f824b2012b  JD002_S0_L005_R1_001.fastq.gz\r\n",
      "9e34ddfc4dbdd9a96bd4f8f102f52693  JD002_S0_L005_R2_001.fastq.gz\r\n"
     ]
    }
   ],
   "source": [
    "cat md5sum_report"
   ]
  },
  {
   "cell_type": "markdown",
   "metadata": {},
   "source": [
    "### Generate our own MD5 checksums"
   ]
  },
  {
   "cell_type": "code",
   "execution_count": 10,
   "metadata": {
    "collapsed": false
   },
   "outputs": [
    {
     "name": "stderr",
     "output_type": "stream",
     "text": [
      "\n",
      "real\t8m0.815s\n",
      "user\t0m4.260s\n",
      "sys\t4m44.580s\n"
     ]
    }
   ],
   "source": [
    "%%bash\n",
    "time for i in *.gz\n",
    "    do\n",
    "    md5sum \"$i\" >> checksums.md5\n",
    "    done"
   ]
  },
  {
   "cell_type": "code",
   "execution_count": 11,
   "metadata": {
    "collapsed": false
   },
   "outputs": [
    {
     "name": "stdout",
     "output_type": "stream",
     "text": [
      "baa87464b77f937fccf496351bb7f000  JD002_S0_L005_I1_001.fastq.gz\r\n",
      "e05eea61dbd405c890f241f824b2012b  JD002_S0_L005_R1_001.fastq.gz\r\n",
      "9e34ddfc4dbdd9a96bd4f8f102f52693  JD002_S0_L005_R2_001.fastq.gz\r\n"
     ]
    }
   ],
   "source": [
    "cat checksums.md5"
   ]
  },
  {
   "cell_type": "markdown",
   "metadata": {},
   "source": [
    "### Compare MD5 checksums\n",
    "\n",
    "Visual inspection suggests that these are good to go, but we'll compare them programmatically anyway..."
   ]
  },
  {
   "cell_type": "code",
   "execution_count": 12,
   "metadata": {
    "collapsed": true
   },
   "outputs": [],
   "source": [
    "%%bash\n",
    "diff checksums.md5 md5sum_report"
   ]
  },
  {
   "cell_type": "markdown",
   "metadata": {},
   "source": [
    "No output means no differences between the two files. However, to further verify, we'll check the exit status of the last command run (should be 0 if last command completed successfully with no errors). This is accomplished by calling the bash variable ```$?```."
   ]
  },
  {
   "cell_type": "code",
   "execution_count": 13,
   "metadata": {
    "collapsed": false
   },
   "outputs": [
    {
     "name": "stdout",
     "output_type": "stream",
     "text": [
      "0\n"
     ]
    }
   ],
   "source": [
    "%%bash\n",
    "echo $?"
   ]
  },
  {
   "cell_type": "markdown",
   "metadata": {},
   "source": [
    "### Copy files to directories on Owl\n",
    "\n",
    "Jay has three different species in his sequencing data, so I'm copying the data to each of three different species folders on Owl. The code below uses the ```-no-clobber``` argument to prevent the program from overwriting any existing files in the destination directory that might have the same file name."
   ]
  },
  {
   "cell_type": "code",
   "execution_count": 14,
   "metadata": {
    "collapsed": false
   },
   "outputs": [
    {
     "name": "stderr",
     "output_type": "stream",
     "text": [
      "\n",
      "real\t130m18.473s\n",
      "user\t0m0.020s\n",
      "sys\t18m23.290s\n"
     ]
    }
   ],
   "source": [
    "%%bash\n",
    "time for file in *.gz\n",
    "    do\n",
    "    cp --no-clobber \"$file\" /owl_web/nightingales/P_generosa/\n",
    "    cp --no-clobber \"$file\" /owl_web/nightingales/Porites_spp/\n",
    "    cp --no-clobber \"$file\" /owl_web/nightingales/A_elegantissima/\n",
    "    done"
   ]
  },
  {
   "cell_type": "markdown",
   "metadata": {},
   "source": [
    "### Generate new checksums for files copied to Owl"
   ]
  },
  {
   "cell_type": "code",
   "execution_count": 17,
   "metadata": {
    "collapsed": false
   },
   "outputs": [
    {
     "name": "stderr",
     "output_type": "stream",
     "text": [
      "\n",
      "real\t31m19.144s\n",
      "user\t0m3.860s\n",
      "sys\t4m44.720s\n"
     ]
    }
   ],
   "source": [
    "%%bash\n",
    "time for i in /owl_web/nightingales/P_generosa/JD002_S0_L005*.gz\n",
    "    do\n",
    "    md5sum \"$i\" >> temp_checksums.md5\n",
    "    done"
   ]
  },
  {
   "cell_type": "code",
   "execution_count": 18,
   "metadata": {
    "collapsed": false
   },
   "outputs": [
    {
     "name": "stderr",
     "output_type": "stream",
     "text": [
      "\n",
      "real\t27m17.756s\n",
      "user\t0m4.390s\n",
      "sys\t4m44.170s\n"
     ]
    }
   ],
   "source": [
    "%%bash\n",
    "time for i in /owl_web/nightingales/Porites_spp/JD002_S0_L005*.gz\n",
    "    do\n",
    "    md5sum \"$i\" >> temp_checksums.md5\n",
    "    done"
   ]
  },
  {
   "cell_type": "code",
   "execution_count": 19,
   "metadata": {
    "collapsed": false
   },
   "outputs": [
    {
     "name": "stderr",
     "output_type": "stream",
     "text": [
      "\n",
      "real\t26m45.605s\n",
      "user\t0m4.870s\n",
      "sys\t4m43.930s\n"
     ]
    }
   ],
   "source": [
    "%%bash\n",
    "time for i in /owl_web/nightingales/A_elegantissima/JD002_S0_L005*.gz\n",
    "    do\n",
    "    md5sum \"$i\" >> temp_checksums.md5\n",
    "    done"
   ]
  },
  {
   "cell_type": "markdown",
   "metadata": {},
   "source": [
    "### Compare initial checksums with temporary checksums on Owl"
   ]
  },
  {
   "cell_type": "markdown",
   "metadata": {},
   "source": [
    "I screwed up and didn't create/write the ```temp_checksums.md5``` file into the different directories on Owl. Will create a concatenated ```md5sum_report``` file that mimics the contents of the ```temp_checksums.md5``` file."
   ]
  },
  {
   "cell_type": "code",
   "execution_count": 20,
   "metadata": {
    "collapsed": false
   },
   "outputs": [
    {
     "name": "stdout",
     "output_type": "stream",
     "text": [
      "baa87464b77f937fccf496351bb7f000  /owl_web/nightingales/P_generosa/JD002_S0_L005_I1_001.fastq.gz\n",
      "e05eea61dbd405c890f241f824b2012b  /owl_web/nightingales/P_generosa/JD002_S0_L005_R1_001.fastq.gz\n",
      "9e34ddfc4dbdd9a96bd4f8f102f52693  /owl_web/nightingales/P_generosa/JD002_S0_L005_R2_001.fastq.gz\n",
      "baa87464b77f937fccf496351bb7f000  /owl_web/nightingales/Porites_spp/JD002_S0_L005_I1_001.fastq.gz\n",
      "e05eea61dbd405c890f241f824b2012b  /owl_web/nightingales/Porites_spp/JD002_S0_L005_R1_001.fastq.gz\n",
      "9e34ddfc4dbdd9a96bd4f8f102f52693  /owl_web/nightingales/Porites_spp/JD002_S0_L005_R2_001.fastq.gz\n",
      "baa87464b77f937fccf496351bb7f000  /owl_web/nightingales/A_elegantissima/JD002_S0_L005_I1_001.fastq.gz\n",
      "e05eea61dbd405c890f241f824b2012b  /owl_web/nightingales/A_elegantissima/JD002_S0_L005_R1_001.fastq.gz\n",
      "9e34ddfc4dbdd9a96bd4f8f102f52693  /owl_web/nightingales/A_elegantissima/JD002_S0_L005_R2_001.fastq.gz\n"
     ]
    }
   ],
   "source": [
    "%%bash\n",
    "cat temp_checksums.md5"
   ]
  },
  {
   "cell_type": "code",
   "execution_count": 21,
   "metadata": {
    "collapsed": true
   },
   "outputs": [],
   "source": [
    "%%bash\n",
    "cat md5sum_report >> md5sum_report_cat\n",
    "cat md5sum_report >> md5sum_report_cat\n",
    "cat md5sum_report >> md5sum_report_cat"
   ]
  },
  {
   "cell_type": "code",
   "execution_count": 22,
   "metadata": {
    "collapsed": false
   },
   "outputs": [
    {
     "name": "stdout",
     "output_type": "stream",
     "text": [
      "baa87464b77f937fccf496351bb7f000  JD002_S0_L005_I1_001.fastq.gz\n",
      "e05eea61dbd405c890f241f824b2012b  JD002_S0_L005_R1_001.fastq.gz\n",
      "9e34ddfc4dbdd9a96bd4f8f102f52693  JD002_S0_L005_R2_001.fastq.gz\n",
      "baa87464b77f937fccf496351bb7f000  JD002_S0_L005_I1_001.fastq.gz\n",
      "e05eea61dbd405c890f241f824b2012b  JD002_S0_L005_R1_001.fastq.gz\n",
      "9e34ddfc4dbdd9a96bd4f8f102f52693  JD002_S0_L005_R2_001.fastq.gz\n",
      "baa87464b77f937fccf496351bb7f000  JD002_S0_L005_I1_001.fastq.gz\n",
      "e05eea61dbd405c890f241f824b2012b  JD002_S0_L005_R1_001.fastq.gz\n",
      "9e34ddfc4dbdd9a96bd4f8f102f52693  JD002_S0_L005_R2_001.fastq.gz\n"
     ]
    }
   ],
   "source": [
    "%%bash\n",
    "cat md5sum_report_cat"
   ]
  },
  {
   "cell_type": "code",
   "execution_count": 23,
   "metadata": {
    "collapsed": false
   },
   "outputs": [
    {
     "name": "stdout",
     "output_type": "stream",
     "text": [
      "1,9c1,9\n",
      "< baa87464b77f937fccf496351bb7f000  JD002_S0_L005_I1_001.fastq.gz\n",
      "< e05eea61dbd405c890f241f824b2012b  JD002_S0_L005_R1_001.fastq.gz\n",
      "< 9e34ddfc4dbdd9a96bd4f8f102f52693  JD002_S0_L005_R2_001.fastq.gz\n",
      "< baa87464b77f937fccf496351bb7f000  JD002_S0_L005_I1_001.fastq.gz\n",
      "< e05eea61dbd405c890f241f824b2012b  JD002_S0_L005_R1_001.fastq.gz\n",
      "< 9e34ddfc4dbdd9a96bd4f8f102f52693  JD002_S0_L005_R2_001.fastq.gz\n",
      "< baa87464b77f937fccf496351bb7f000  JD002_S0_L005_I1_001.fastq.gz\n",
      "< e05eea61dbd405c890f241f824b2012b  JD002_S0_L005_R1_001.fastq.gz\n",
      "< 9e34ddfc4dbdd9a96bd4f8f102f52693  JD002_S0_L005_R2_001.fastq.gz\n",
      "---\n",
      "> baa87464b77f937fccf496351bb7f000  /owl_web/nightingales/P_generosa/JD002_S0_L005_I1_001.fastq.gz\n",
      "> e05eea61dbd405c890f241f824b2012b  /owl_web/nightingales/P_generosa/JD002_S0_L005_R1_001.fastq.gz\n",
      "> 9e34ddfc4dbdd9a96bd4f8f102f52693  /owl_web/nightingales/P_generosa/JD002_S0_L005_R2_001.fastq.gz\n",
      "> baa87464b77f937fccf496351bb7f000  /owl_web/nightingales/Porites_spp/JD002_S0_L005_I1_001.fastq.gz\n",
      "> e05eea61dbd405c890f241f824b2012b  /owl_web/nightingales/Porites_spp/JD002_S0_L005_R1_001.fastq.gz\n",
      "> 9e34ddfc4dbdd9a96bd4f8f102f52693  /owl_web/nightingales/Porites_spp/JD002_S0_L005_R2_001.fastq.gz\n",
      "> baa87464b77f937fccf496351bb7f000  /owl_web/nightingales/A_elegantissima/JD002_S0_L005_I1_001.fastq.gz\n",
      "> e05eea61dbd405c890f241f824b2012b  /owl_web/nightingales/A_elegantissima/JD002_S0_L005_R1_001.fastq.gz\n",
      "> 9e34ddfc4dbdd9a96bd4f8f102f52693  /owl_web/nightingales/A_elegantissima/JD002_S0_L005_R2_001.fastq.gz\n"
     ]
    }
   ],
   "source": [
    "%%bash\n",
    "diff md5sum_report_cat temp_checksums.md5"
   ]
  },
  {
   "cell_type": "markdown",
   "metadata": {},
   "source": [
    "Well, I didn't take into account that the full path to the file would be written to the checksum file. As such, the ```diff``` command sees this. However, the checksums appear to visually match. Will proceed with adding the checksums to the checksum files in each Owl directory."
   ]
  },
  {
   "cell_type": "markdown",
   "metadata": {},
   "source": [
    "### Append checksums to existing checksum files in each directory"
   ]
  },
  {
   "cell_type": "code",
   "execution_count": 24,
   "metadata": {
    "collapsed": true
   },
   "outputs": [],
   "source": [
    "%%bash\n",
    "cat checksums.md5sums.md5sum_report >> /owl_web/nightingales/P_generosa/checksums.md5\n",
    "cat md5sum_report >> /owl_web/nightingales/Porites_spp/checksums.md5\n",
    "cat md5sum_report >> /owl_web/nightingales/A_elegantissima/checksums.md5"
   ]
  },
  {
   "cell_type": "code",
   "execution_count": null,
   "metadata": {
    "collapsed": true
   },
   "outputs": [],
   "source": []
  }
 ],
 "metadata": {
  "anaconda-cloud": {},
  "kernelspec": {
   "display_name": "Python [default]",
   "language": "python",
   "name": "python2"
  },
  "language_info": {
   "codemirror_mode": {
    "name": "ipython",
    "version": 2
   },
   "file_extension": ".py",
   "mimetype": "text/x-python",
   "name": "python",
   "nbconvert_exporter": "python",
   "pygments_lexer": "ipython2",
   "version": "2.7.12"
  }
 },
 "nbformat": 4,
 "nbformat_minor": 2
}
