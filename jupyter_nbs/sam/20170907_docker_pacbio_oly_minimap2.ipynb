{
 "cells": [
  {
   "cell_type": "markdown",
   "metadata": {},
   "source": [
    "### Running in Docker container on Swoose\n",
    "\n",
    "Started Docker container with the following command:\n",
    "\n",
    "```docker run -p 8888:8888 -v /home/sam/data/pacbio_oly/:/home/data -it 9ce16ff93ef9 /bin/bash```\n",
    "\n",
    "The command allows ```/home/sam/data/pacbio_oly/``` to be accessible to the Docker container.\n",
    "\n",
    "Once  access to Jupyter Notebook over port 8888 and makes my Jupyter Notebook GitHub repo and my data files the container was started, started Jupyter Notebook with the following command inside the Docker container:\n",
    "\n",
    "```jupyter notebook --allow-root```\n",
    "\n",
    "This is configured in the Docker container to launch a Jupyter Notebook without a browser on port 8888.\n",
    "The Docker container is running on an image created from this [Dockerfile (Git commit 832008c](https://github.com/RobertsLab/code/commit/832008c0160d71ae3470200756bbcbc87bb25fb6)"
   ]
  },
  {
   "cell_type": "code",
   "execution_count": 1,
   "metadata": {},
   "outputs": [
    {
     "name": "stdout",
     "output_type": "stream",
     "text": [
      "Thu Sep  7 22:03:11 UTC 2017\n"
     ]
    }
   ],
   "source": [
    "%%bash\n",
    "date"
   ]
  },
  {
   "cell_type": "code",
   "execution_count": 2,
   "metadata": {},
   "outputs": [
    {
     "name": "stdout",
     "output_type": "stream",
     "text": [
      "ff9e68310edc\n"
     ]
    }
   ],
   "source": [
    "%%bash\n",
    "hostname"
   ]
  },
  {
   "cell_type": "code",
   "execution_count": 3,
   "metadata": {},
   "outputs": [
    {
     "name": "stdout",
     "output_type": "stream",
     "text": [
      "Architecture:          x86_64\n",
      "CPU op-mode(s):        32-bit, 64-bit\n",
      "Byte Order:            Little Endian\n",
      "CPU(s):                24\n",
      "On-line CPU(s) list:   0-23\n",
      "Thread(s) per core:    2\n",
      "Core(s) per socket:    6\n",
      "Socket(s):             2\n",
      "NUMA node(s):          1\n",
      "Vendor ID:             GenuineIntel\n",
      "CPU family:            6\n",
      "Model:                 44\n",
      "Model name:            Intel(R) Xeon(R) CPU           X5670  @ 2.93GHz\n",
      "Stepping:              2\n",
      "CPU MHz:               2926.129\n",
      "BogoMIPS:              5851.98\n",
      "Virtualization:        VT-x\n",
      "L1d cache:             32K\n",
      "L1i cache:             32K\n",
      "L2 cache:              256K\n",
      "L3 cache:              12288K\n",
      "NUMA node0 CPU(s):     0-23\n"
     ]
    }
   ],
   "source": [
    "%%bash\n",
    "lscpu"
   ]
  },
  {
   "cell_type": "code",
   "execution_count": 4,
   "metadata": {},
   "outputs": [
    {
     "name": "stdout",
     "output_type": "stream",
     "text": [
      "             total       used       free     shared    buffers     cached\n",
      "Mem:           70G        32G        38G       178M       447M        25G\n",
      "-/+ buffers/cache:       6.1G        64G\n",
      "Swap:         4.7G         0B       4.7G\n"
     ]
    }
   ],
   "source": [
    "%%bash\n",
    "free -mh"
   ]
  },
  {
   "cell_type": "code",
   "execution_count": 5,
   "metadata": {},
   "outputs": [
    {
     "name": "stderr",
     "output_type": "stream",
     "text": [
      "UsageError: %%bash is a cell magic, but the cell body is empty.\n"
     ]
    }
   ],
   "source": [
    "%%bash"
   ]
  },
  {
   "cell_type": "code",
   "execution_count": 6,
   "metadata": {},
   "outputs": [
    {
     "name": "stdout",
     "output_type": "stream",
     "text": [
      "/home/data\n"
     ]
    }
   ],
   "source": [
    "%%bash\n",
    "pwd"
   ]
  },
  {
   "cell_type": "code",
   "execution_count": 7,
   "metadata": {},
   "outputs": [
    {
     "name": "stdout",
     "output_type": "stream",
     "text": [
      "total 24738112\n",
      "-rwxrwxr-x 1 1000 1000 2852947472 Sep  7 21:26 170210_PCB-CC_MS_EEE_20kb_P6v2_D01_1_filtered_subreads.fastq\n",
      "-rwxrwxr-x 1 1000 1000 3126996263 Sep  7 21:27 170228_PCB-CC_AL_20kb_P6v2_C01_1_filtered_subreads.fastq\n",
      "-rwxrwxr-x 1 1000 1000 2843320527 Sep  7 21:27 170228_PCB-CC_AL_20kb_P6v2_D01_1_filtered_subreads.fastq\n",
      "-rwxrwxr-x 1 1000 1000 3114876304 Sep  7 21:28 170228_PCB-CC_AL_20kb_P6v2_E01_1_filtered_subreads.fastq\n",
      "-rwxrwxr-x 1 1000 1000 2960438946 Sep  7 21:28 170307_PCB-CC_AL_20kb_P6v2_C01_1_filtered_subreads.fastq\n",
      "-rwxrwxr-x 1 1000 1000 2995066419 Sep  7 21:28 170307_PCB-CC_AL_20kb_P6v2_C02_1_filtered_subreads.fastq\n",
      "-rwxrwxr-x 1 1000 1000 2092190052 Sep  7 21:29 170314_PCB-CC_20kb_P6v2_A01_1_filtered_subreads.fastq\n",
      "-rwxrwxr-x 1 1000 1000 1842836662 Sep  7 21:29 170314_PCB-CC_20kb_P6v2_A02_1_filtered_subreads.fastq\n",
      "-rwxrwxr-x 1 1000 1000 1672061431 Sep  7 21:29 170314_PCB-CC_20kb_P6v2_A03_1_filtered_subreads.fastq\n",
      "-rwxrwxr-x 1 1000 1000 1831019208 Sep  7 21:30 170314_PCB-CC_20kb_P6v2_A04_1_filtered_subreads.fastq\n",
      "-rw-r--r-- 1 root root       3799 Sep  7 22:12 20170907_docker_pacbio_oly_minimap2.ipynb\n",
      "-rw-rw-r-- 1 1000 1000        902 Sep  7 21:30 md5sums.txt\n"
     ]
    }
   ],
   "source": [
    "%%bash\n",
    "ls -l"
   ]
  },
  {
   "cell_type": "markdown",
   "metadata": {},
   "source": [
    "### Run [minimap2](https://github.com/lh3/minimap2)"
   ]
  },
  {
   "cell_type": "markdown",
   "metadata": {},
   "source": [
    "#### Miminap2 is a fast sequence aligner that can be used with PaBio data. \n",
    "\n",
    "#### Using as part of pipeline: minimap/miniasm/racon"
   ]
  },
  {
   "cell_type": "code",
   "execution_count": 8,
   "metadata": {},
   "outputs": [
    {
     "name": "stdout",
     "output_type": "stream",
     "text": [
      "/usr/local/bioinformatics/minimap2-2.1.1_x64-linux/minimap2\n"
     ]
    }
   ],
   "source": [
    "%%bash\n",
    "which minimap2"
   ]
  },
  {
   "cell_type": "markdown",
   "metadata": {},
   "source": [
    "#### Run minimap with the ```-x ava-pb``` option. This is listed in the minimap2 manual as a preset for \"PacBio all-vs-all overlap mapping.\""
   ]
  },
  {
   "cell_type": "code",
   "execution_count": 9,
   "metadata": {},
   "outputs": [
    {
     "name": "stderr",
     "output_type": "stream",
     "text": [
      "[M::mm_idx_gen::44.362*1.37] collected minimizers\n",
      "[M::mm_idx_gen::53.324*1.64] sorted minimizers\n",
      "[M::main::53.324*1.64] loaded/built the index for 220331 target sequence(s)\n",
      "[M::mm_mapopt_update::59.437*1.57] mid_occ = 150; max_occ = 1012\n",
      "[M::mm_idx_stat] kmer size: 19; skip: 5; is_HPC: 1; #seq: 220331\n",
      "[M::mm_idx_stat::61.424*1.56] distinct minimizers: 143263923 (59.16% are singletons); average occurrences: 2.317; average spacing: 4.270\n",
      "[M::worker_pipeline::99.245*2.10] mapped 61679 sequences\n",
      "[M::worker_pipeline::136.871*2.35] mapped 61589 sequences\n",
      "[M::worker_pipeline::173.658*2.49] mapped 61193 sequences\n",
      "[M::worker_pipeline::177.803*2.50] mapped 6791 sequences\n",
      "[M::worker_pipeline::216.438*2.58] mapped 61406 sequences\n",
      "[M::worker_pipeline::254.175*2.65] mapped 61190 sequences\n",
      "[M::worker_pipeline::285.102*2.69] mapped 50466 sequences\n",
      "[M::worker_pipeline::323.885*2.72] mapped 61057 sequences\n",
      "[M::worker_pipeline::360.993*2.75] mapped 60462 sequences\n",
      "[M::worker_pipeline::398.020*2.78] mapped 60668 sequences\n",
      "[M::worker_pipeline::401.684*2.78] mapped 6051 sequences\n",
      "[M::worker_pipeline::440.719*2.79] mapped 74133 sequences\n",
      "[M::worker_pipeline::478.095*2.81] mapped 72450 sequences\n",
      "[M::worker_pipeline::513.634*2.83] mapped 69360 sequences\n",
      "[M::worker_pipeline::552.319*2.84] mapped 72499 sequences\n",
      "[M::worker_pipeline::589.710*2.85] mapped 73630 sequences\n",
      "[M::worker_pipeline::626.184*2.86] mapped 71104 sequences\n",
      "[M::worker_pipeline::666.204*2.86] mapped 76847 sequences\n",
      "[M::worker_pipeline::705.398*2.87] mapped 76285 sequences\n",
      "[M::worker_pipeline::708.543*2.87] mapped 6132 sequences\n",
      "[M::worker_pipeline::748.995*2.88] mapped 77534 sequences\n",
      "[M::worker_pipeline::782.140*2.88] mapped 64988 sequences\n",
      "[M::worker_pipeline::823.985*2.89] mapped 78021 sequences\n",
      "[M::worker_pipeline::850.287*2.89] mapped 51988 sequences\n",
      "[M::worker_pipeline::891.063*2.89] mapped 78098 sequences\n",
      "[M::worker_pipeline::922.855*2.90] mapped 63965 sequences\n",
      "[M::main] Version: 2.1.1-r341\n",
      "[M::main] CMD: minimap2 -x ava-pb 170210_PCB-CC_MS_EEE_20kb_P6v2_D01_1_filtered_subreads.fastq 170228_PCB-CC_AL_20kb_P6v2_C01_1_filtered_subreads.fastq 170228_PCB-CC_AL_20kb_P6v2_D01_1_filtered_subreads.fastq 170228_PCB-CC_AL_20kb_P6v2_E01_1_filtered_subreads.fastq 170307_PCB-CC_AL_20kb_P6v2_C01_1_filtered_subreads.fastq 170307_PCB-CC_AL_20kb_P6v2_C02_1_filtered_subreads.fastq 170314_PCB-CC_20kb_P6v2_A01_1_filtered_subreads.fastq 170314_PCB-CC_20kb_P6v2_A02_1_filtered_subreads.fastq 170314_PCB-CC_20kb_P6v2_A03_1_filtered_subreads.fastq 170314_PCB-CC_20kb_P6v2_A04_1_filtered_subreads.fastq\n",
      "[M::main] Real time: 923.248 sec; CPU: 2673.740 sec\n",
      "\n",
      "real\t15m23.428s\n",
      "user\t44m21.720s\n",
      "sys\t0m12.200s\n"
     ]
    }
   ],
   "source": [
    "%%bash\n",
    "time minimap2 -x ava-pb \\\n",
    "170210_PCB-CC_MS_EEE_20kb_P6v2_D01_1_filtered_subreads.fastq \\\n",
    "170228_PCB-CC_AL_20kb_P6v2_C01_1_filtered_subreads.fastq \\\n",
    "170228_PCB-CC_AL_20kb_P6v2_D01_1_filtered_subreads.fastq \\\n",
    "170228_PCB-CC_AL_20kb_P6v2_E01_1_filtered_subreads.fastq \\\n",
    "170307_PCB-CC_AL_20kb_P6v2_C01_1_filtered_subreads.fastq \\\n",
    "170307_PCB-CC_AL_20kb_P6v2_C02_1_filtered_subreads.fastq \\\n",
    "170314_PCB-CC_20kb_P6v2_A01_1_filtered_subreads.fastq \\\n",
    "170314_PCB-CC_20kb_P6v2_A02_1_filtered_subreads.fastq \\\n",
    "170314_PCB-CC_20kb_P6v2_A03_1_filtered_subreads.fastq \\\n",
    "170314_PCB-CC_20kb_P6v2_A04_1_filtered_subreads.fastq \\\n",
    "> 20170905_minimap2_pacibio_oly.paf"
   ]
  },
  {
   "cell_type": "code",
   "execution_count": 10,
   "metadata": {},
   "outputs": [
    {
     "name": "stdout",
     "output_type": "stream",
     "text": [
      "total 24738120\n",
      "-rwxrwxr-x 1 1000 1000 2852947472 Sep  7 21:26 170210_PCB-CC_MS_EEE_20kb_P6v2_D01_1_filtered_subreads.fastq\n",
      "-rwxrwxr-x 1 1000 1000 3126996263 Sep  7 21:27 170228_PCB-CC_AL_20kb_P6v2_C01_1_filtered_subreads.fastq\n",
      "-rwxrwxr-x 1 1000 1000 2843320527 Sep  7 21:27 170228_PCB-CC_AL_20kb_P6v2_D01_1_filtered_subreads.fastq\n",
      "-rwxrwxr-x 1 1000 1000 3114876304 Sep  7 21:28 170228_PCB-CC_AL_20kb_P6v2_E01_1_filtered_subreads.fastq\n",
      "-rwxrwxr-x 1 1000 1000 2960438946 Sep  7 21:28 170307_PCB-CC_AL_20kb_P6v2_C01_1_filtered_subreads.fastq\n",
      "-rwxrwxr-x 1 1000 1000 2995066419 Sep  7 21:28 170307_PCB-CC_AL_20kb_P6v2_C02_1_filtered_subreads.fastq\n",
      "-rwxrwxr-x 1 1000 1000 2092190052 Sep  7 21:29 170314_PCB-CC_20kb_P6v2_A01_1_filtered_subreads.fastq\n",
      "-rwxrwxr-x 1 1000 1000 1842836662 Sep  7 21:29 170314_PCB-CC_20kb_P6v2_A02_1_filtered_subreads.fastq\n",
      "-rwxrwxr-x 1 1000 1000 1672061431 Sep  7 21:29 170314_PCB-CC_20kb_P6v2_A03_1_filtered_subreads.fastq\n",
      "-rwxrwxr-x 1 1000 1000 1831019208 Sep  7 21:30 170314_PCB-CC_20kb_P6v2_A04_1_filtered_subreads.fastq\n",
      "-rw-r--r-- 1 root root          0 Sep  7 22:40 20170905_minimap2_pacibio_oly.paf\n",
      "-rw-r--r-- 1 root root      10901 Sep 11 17:48 20170907_docker_pacbio_oly_minimap2.ipynb\n",
      "-rw-rw-r-- 1 1000 1000        902 Sep  7 21:30 md5sums.txt\n"
     ]
    }
   ],
   "source": [
    "%%bash\n",
    "ls -l"
   ]
  },
  {
   "cell_type": "markdown",
   "metadata": {},
   "source": [
    "##### Well, the output file (```20170905_minimap2_pacibio_oly.paf```) appears to be empty... Let's verify."
   ]
  },
  {
   "cell_type": "code",
   "execution_count": 11,
   "metadata": {
    "collapsed": true
   },
   "outputs": [],
   "source": [
    "%%bash\n",
    "head 20170905_minimap2_pacibio_oly.paf"
   ]
  },
  {
   "cell_type": "markdown",
   "metadata": {},
   "source": [
    "##### Not really sure why this is the case. There doesn't appear to be any error messages that were generated. Will try some Googling to see if I can find out anything."
   ]
  },
  {
   "cell_type": "markdown",
   "metadata": {},
   "source": [
    "##### Well, glancing at the manual suggests that this program can only align two sequences:\n",
    "\n",
    ">SYNOPSIS\n",
    "       * Indexing the target sequences (optional):\n",
    "           minimap2 [-x preset] -d target.mmi target.fa\n",
    "           minimap2 [-H] [-k kmer] [-w miniWinSize] [-I batchSize] -d target.mmi target.fa\n",
    "\n",
    ">       * Long-read alignment with CIGAR:\n",
    "           minimap2 -a [-x preset] target.mmi query.fa > output.sam\n",
    "           minimap2 -c [-H] [-k kmer] [-w miniWinSize] [...]  target.fa query.fa > output.paf\n",
    "\n",
    ">       * Long-read overlap without CIGAR:\n",
    "           minimap2 -x ava-ont [-t nThreads] target.fa query.fa > output.paf\n",
    "           \n",
    "Each of the usage examples only specifies a single target and a single query.\n",
    "\n",
    "So, let's test it out by only aligning two sequences and see if the output file actually contains some data.\n",
    "\n",
    "Of course, I guess there's always the possiblility that none of the PacBio data actually overlaps with each other (which could explain the empty output file in the initial assembly that used all of the files)?\n"
   ]
  },
  {
   "cell_type": "code",
   "execution_count": 12,
   "metadata": {},
   "outputs": [
    {
     "name": "stderr",
     "output_type": "stream",
     "text": [
      "[M::mm_idx_gen::44.417*1.37] collected minimizers\n",
      "[M::mm_idx_gen::53.100*1.63] sorted minimizers\n",
      "[M::main::53.100*1.63] loaded/built the index for 220331 target sequence(s)\n",
      "[M::mm_mapopt_update::59.320*1.57] mid_occ = 150; max_occ = 1012\n",
      "[M::mm_idx_stat] kmer size: 19; skip: 5; is_HPC: 1; #seq: 220331\n",
      "[M::mm_idx_stat::61.303*1.55] distinct minimizers: 143263923 (59.16% are singletons); average occurrences: 2.317; average spacing: 4.270\n",
      "[M::worker_pipeline::98.772*2.09] mapped 61679 sequences\n",
      "[M::worker_pipeline::136.002*2.35] mapped 61589 sequences\n",
      "[M::worker_pipeline::173.195*2.49] mapped 61193 sequences\n",
      "[M::worker_pipeline::177.334*2.50] mapped 6791 sequences\n",
      "[M::main] Version: 2.1.1-r341\n",
      "[M::main] CMD: minimap2 -x ava-pb 170210_PCB-CC_MS_EEE_20kb_P6v2_D01_1_filtered_subreads.fastq 170228_PCB-CC_AL_20kb_P6v2_C01_1_filtered_subreads.fastq\n",
      "[M::main] Real time: 177.408 sec; CPU: 443.432 sec\n",
      "\n",
      "real\t2m57.995s\n",
      "user\t7m16.116s\n",
      "sys\t0m7.900s\n"
     ]
    }
   ],
   "source": [
    "%%bash\n",
    "time minimap2 -x ava-pb \\\n",
    "170210_PCB-CC_MS_EEE_20kb_P6v2_D01_1_filtered_subreads.fastq \\\n",
    "170228_PCB-CC_AL_20kb_P6v2_C01_1_filtered_subreads.fastq \\\n",
    "> 20170911_minimap2_pacibio_oly_170210_vs_170228C01.paf"
   ]
  },
  {
   "cell_type": "code",
   "execution_count": 13,
   "metadata": {},
   "outputs": [
    {
     "name": "stdout",
     "output_type": "stream",
     "text": [
      "total 24738124\n",
      "-rwxrwxr-x 1 1000 1000 2852947472 Sep  7 21:26 170210_PCB-CC_MS_EEE_20kb_P6v2_D01_1_filtered_subreads.fastq\n",
      "-rwxrwxr-x 1 1000 1000 3126996263 Sep  7 21:27 170228_PCB-CC_AL_20kb_P6v2_C01_1_filtered_subreads.fastq\n",
      "-rwxrwxr-x 1 1000 1000 2843320527 Sep  7 21:27 170228_PCB-CC_AL_20kb_P6v2_D01_1_filtered_subreads.fastq\n",
      "-rwxrwxr-x 1 1000 1000 3114876304 Sep  7 21:28 170228_PCB-CC_AL_20kb_P6v2_E01_1_filtered_subreads.fastq\n",
      "-rwxrwxr-x 1 1000 1000 2960438946 Sep  7 21:28 170307_PCB-CC_AL_20kb_P6v2_C01_1_filtered_subreads.fastq\n",
      "-rwxrwxr-x 1 1000 1000 2995066419 Sep  7 21:28 170307_PCB-CC_AL_20kb_P6v2_C02_1_filtered_subreads.fastq\n",
      "-rwxrwxr-x 1 1000 1000 2092190052 Sep  7 21:29 170314_PCB-CC_20kb_P6v2_A01_1_filtered_subreads.fastq\n",
      "-rwxrwxr-x 1 1000 1000 1842836662 Sep  7 21:29 170314_PCB-CC_20kb_P6v2_A02_1_filtered_subreads.fastq\n",
      "-rwxrwxr-x 1 1000 1000 1672061431 Sep  7 21:29 170314_PCB-CC_20kb_P6v2_A03_1_filtered_subreads.fastq\n",
      "-rwxrwxr-x 1 1000 1000 1831019208 Sep  7 21:30 170314_PCB-CC_20kb_P6v2_A04_1_filtered_subreads.fastq\n",
      "-rw-r--r-- 1 root root          0 Sep  7 22:40 20170905_minimap2_pacibio_oly.paf\n",
      "-rw-r--r-- 1 root root      16091 Sep 11 18:08 20170907_docker_pacbio_oly_minimap2.ipynb\n",
      "-rw-r--r-- 1 root root          0 Sep 11 18:03 20170911_minimap2_pacibio_oly_170210_vs_170228C01.paf\n",
      "-rw-rw-r-- 1 1000 1000        902 Sep  7 21:30 md5sums.txt\n"
     ]
    }
   ],
   "source": [
    "%%bash\n",
    "ls -l"
   ]
  },
  {
   "cell_type": "markdown",
   "metadata": {},
   "source": [
    "Well, this output file (20170911_minimap2_pacibio_oly_170210_vs_170228C01.paf) is also empty. I'll just post an issue to the [minimap2 GitHub page](https://github.com/lh3/minimap2) and see if I get any help there."
   ]
  },
  {
   "cell_type": "code",
   "execution_count": null,
   "metadata": {
    "collapsed": true
   },
   "outputs": [],
   "source": []
  }
 ],
 "metadata": {
  "kernelspec": {
   "display_name": "Python 2",
   "language": "python",
   "name": "python2"
  },
  "language_info": {
   "codemirror_mode": {
    "name": "ipython",
    "version": 2
   },
   "file_extension": ".py",
   "mimetype": "text/x-python",
   "name": "python",
   "nbconvert_exporter": "python",
   "pygments_lexer": "ipython2",
   "version": "2.7.13"
  }
 },
 "nbformat": 4,
 "nbformat_minor": 2
}
