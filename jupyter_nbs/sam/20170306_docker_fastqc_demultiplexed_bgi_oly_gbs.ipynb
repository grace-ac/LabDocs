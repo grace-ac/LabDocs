{
 "cells": [
  {
   "cell_type": "markdown",
   "metadata": {},
   "source": [
    "### Running in Docker container on Ostrich\n",
    "\n",
    "#### Started Docker container with the following command:\n",
    "\n",
    "```docker run -p 8888:8888 -v /Users/sam/data/:/data -v /Users/sam/owl_home/:/owl_home -v /Users/sam/owl_web/:/owl_web -v /Users/sam/gitrepos:/gitrepos -it f99537d7e06a```\n",
    "\n",
    "The command allows access to Jupyter Notebook over port 8888 and makes my Jupyter Notebook GitHub repo and my data files on Owl/home and Owl/web accessible to the Docker container.\n",
    "\n",
    "Once the container was started, started Jupyter Notebook with the following command inside the Docker container:\n",
    "\n",
    "```jupyter notebook```\n",
    "\n",
    "This is configured in the Docker container to launch a Jupyter Notebook without a browser on port 8888.\n",
    "\n",
    "The Docker container is running on an image created from this [Dockerfile (Git commit 443bc42)](https://github.com/sr320/LabDocs/blob/443bc425cd36d23a07cf12625f38b7e3a397b9be/code/dockerfiles/Dockerfile.bio)"
   ]
  },
  {
   "cell_type": "code",
   "execution_count": 1,
   "metadata": {
    "collapsed": false
   },
   "outputs": [
    {
     "name": "stdout",
     "output_type": "stream",
     "text": [
      "Mon Mar  6 16:47:23 UTC 2017\n"
     ]
    }
   ],
   "source": [
    "%%bash\n",
    "date"
   ]
  },
  {
   "cell_type": "markdown",
   "metadata": {},
   "source": [
    "### Check computer specs"
   ]
  },
  {
   "cell_type": "code",
   "execution_count": 3,
   "metadata": {
    "collapsed": false
   },
   "outputs": [
    {
     "name": "stdout",
     "output_type": "stream",
     "text": [
      "0f2bca9c664b\n"
     ]
    }
   ],
   "source": [
    "%%bash\n",
    "hostname"
   ]
  },
  {
   "cell_type": "code",
   "execution_count": 4,
   "metadata": {
    "collapsed": false
   },
   "outputs": [
    {
     "name": "stdout",
     "output_type": "stream",
     "text": [
      "Architecture:          x86_64\n",
      "CPU op-mode(s):        32-bit, 64-bit\n",
      "Byte Order:            Little Endian\n",
      "CPU(s):                8\n",
      "On-line CPU(s) list:   0-7\n",
      "Thread(s) per core:    1\n",
      "Core(s) per socket:    8\n",
      "Socket(s):             1\n",
      "Vendor ID:             GenuineIntel\n",
      "CPU family:            6\n",
      "Model:                 26\n",
      "Model name:            Intel(R) Xeon(R) CPU           E5520  @ 2.27GHz\n",
      "Stepping:              5\n",
      "CPU MHz:               2260.998\n",
      "BogoMIPS:              4521.99\n",
      "Hypervisor vendor:     KVM\n",
      "Virtualization type:   full\n",
      "L1d cache:             32K\n",
      "L1i cache:             32K\n",
      "L2 cache:              256K\n",
      "L3 cache:              8192K\n"
     ]
    }
   ],
   "source": [
    "%%bash\n",
    "lscpu"
   ]
  },
  {
   "cell_type": "markdown",
   "metadata": {},
   "source": [
    "### Copy demultiplexed BGI FASTQ files to local computer (Ostrich) and verfiy checksums"
   ]
  },
  {
   "cell_type": "code",
   "execution_count": 5,
   "metadata": {
    "collapsed": false
   },
   "outputs": [
    {
     "name": "stdout",
     "output_type": "stream",
     "text": [
      "160123_I132_FCH3YHMBBXX_L4_OYSzenG1AAD96FAAPEI-109_1.fq.gz\r\n",
      "\u001b[0m\u001b[34;42m160123_I132_FCH3YHMBBXX_L4_OYSzenG1AAD96FAAPEI-109_1_fastqc\u001b[0m/\r\n",
      "160123_I132_FCH3YHMBBXX_L4_OYSzenG1AAD96FAAPEI-109_2.fq.gz\r\n",
      "\u001b[34;42m160123_I132_FCH3YHMBBXX_L4_OYSzenG1AAD96FAAPEI-109_2_fastqc\u001b[0m/\r\n",
      "\u001b[01;32m1HL_10A_1.fq.gz\u001b[0m*\r\n",
      "\u001b[01;32m1HL_10A_2.fq.gz\u001b[0m*\r\n",
      "\u001b[01;32m1HL_11A_1.fq.gz\u001b[0m*\r\n",
      "\u001b[01;32m1HL_11A_2.fq.gz\u001b[0m*\r\n",
      "\u001b[01;32m1HL_12A_1.fq.gz\u001b[0m*\r\n",
      "\u001b[01;32m1HL_12A_2.fq.gz\u001b[0m*\r\n",
      "\u001b[01;32m1HL_13A_1.fq.gz\u001b[0m*\r\n",
      "\u001b[01;32m1HL_13A_2.fq.gz\u001b[0m*\r\n",
      "\u001b[01;32m1HL_14A_1.fq.gz\u001b[0m*\r\n",
      "\u001b[01;32m1HL_14A_2.fq.gz\u001b[0m*\r\n",
      "\u001b[01;32m1HL_15A_1.fq.gz\u001b[0m*\r\n",
      "\u001b[01;32m1HL_15A_2.fq.gz\u001b[0m*\r\n",
      "\u001b[01;32m1HL_16A_1.fq.gz\u001b[0m*\r\n",
      "\u001b[01;32m1HL_16A_2.fq.gz\u001b[0m*\r\n",
      "\u001b[01;32m1HL_17A_1.fq.gz\u001b[0m*\r\n",
      "\u001b[01;32m1HL_17A_2.fq.gz\u001b[0m*\r\n",
      "\u001b[01;32m1HL_19A_1.fq.gz\u001b[0m*\r\n",
      "\u001b[01;32m1HL_19A_2.fq.gz\u001b[0m*\r\n",
      "\u001b[01;32m1HL_1A_1.fq.gz\u001b[0m*\r\n",
      "\u001b[01;32m1HL_1A_2.fq.gz\u001b[0m*\r\n",
      "\u001b[01;32m1HL_20A_1.fq.gz\u001b[0m*\r\n",
      "\u001b[01;32m1HL_20A_2.fq.gz\u001b[0m*\r\n",
      "\u001b[01;32m1HL_21A_1.fq.gz\u001b[0m*\r\n",
      "\u001b[01;32m1HL_21A_2.fq.gz\u001b[0m*\r\n",
      "\u001b[01;32m1HL_22A_1.fq.gz\u001b[0m*\r\n",
      "\u001b[01;32m1HL_22A_2.fq.gz\u001b[0m*\r\n",
      "\u001b[01;32m1HL_23A_1.fq.gz\u001b[0m*\r\n",
      "\u001b[01;32m1HL_23A_2.fq.gz\u001b[0m*\r\n",
      "\u001b[01;32m1HL_24A_1.fq.gz\u001b[0m*\r\n",
      "\u001b[01;32m1HL_24A_2.fq.gz\u001b[0m*\r\n",
      "\u001b[01;32m1HL_25A_1.fq.gz\u001b[0m*\r\n",
      "\u001b[01;32m1HL_25A_2.fq.gz\u001b[0m*\r\n",
      "\u001b[01;32m1HL_26A_1.fq.gz\u001b[0m*\r\n",
      "\u001b[01;32m1HL_26A_2.fq.gz\u001b[0m*\r\n",
      "\u001b[01;32m1HL_27A_1.fq.gz\u001b[0m*\r\n",
      "\u001b[01;32m1HL_27A_2.fq.gz\u001b[0m*\r\n",
      "\u001b[01;32m1HL_28A_1.fq.gz\u001b[0m*\r\n",
      "\u001b[01;32m1HL_28A_2.fq.gz\u001b[0m*\r\n",
      "\u001b[01;32m1HL_29A_1.fq.gz\u001b[0m*\r\n",
      "\u001b[01;32m1HL_29A_2.fq.gz\u001b[0m*\r\n",
      "\u001b[01;32m1HL_2A_1.fq.gz\u001b[0m*\r\n",
      "\u001b[01;32m1HL_2A_2.fq.gz\u001b[0m*\r\n",
      "\u001b[01;32m1HL_31A_1.fq.gz\u001b[0m*\r\n",
      "\u001b[01;32m1HL_31A_2.fq.gz\u001b[0m*\r\n",
      "\u001b[01;32m1HL_33A_1.fq.gz\u001b[0m*\r\n",
      "\u001b[01;32m1HL_33A_2.fq.gz\u001b[0m*\r\n",
      "\u001b[01;32m1HL_34A_1.fq.gz\u001b[0m*\r\n",
      "\u001b[01;32m1HL_34A_2.fq.gz\u001b[0m*\r\n",
      "\u001b[01;32m1HL_35A_1.fq.gz\u001b[0m*\r\n",
      "\u001b[01;32m1HL_35A_2.fq.gz\u001b[0m*\r\n",
      "\u001b[01;32m1HL_3A_1.fq.gz\u001b[0m*\r\n",
      "\u001b[01;32m1HL_3A_2.fq.gz\u001b[0m*\r\n",
      "\u001b[01;32m1HL_4A_1.fq.gz\u001b[0m*\r\n",
      "\u001b[01;32m1HL_4A_2.fq.gz\u001b[0m*\r\n",
      "\u001b[01;32m1HL_5A_1.fq.gz\u001b[0m*\r\n",
      "\u001b[01;32m1HL_5A_2.fq.gz\u001b[0m*\r\n",
      "\u001b[01;32m1HL_6A_1.fq.gz\u001b[0m*\r\n",
      "\u001b[01;32m1HL_6A_2.fq.gz\u001b[0m*\r\n",
      "\u001b[01;32m1HL_7A_1.fq.gz\u001b[0m*\r\n",
      "\u001b[01;32m1HL_7A_2.fq.gz\u001b[0m*\r\n",
      "\u001b[01;32m1HL_8A_1.fq.gz\u001b[0m*\r\n",
      "\u001b[01;32m1HL_8A_2.fq.gz\u001b[0m*\r\n",
      "\u001b[01;32m1HL_9A_1.fq.gz\u001b[0m*\r\n",
      "\u001b[01;32m1HL_9A_2.fq.gz\u001b[0m*\r\n",
      "\u001b[01;32m1NF_10A_1.fq.gz\u001b[0m*\r\n",
      "\u001b[01;32m1NF_10A_2.fq.gz\u001b[0m*\r\n",
      "\u001b[01;32m1NF_11A_1.fq.gz\u001b[0m*\r\n",
      "\u001b[01;32m1NF_11A_2.fq.gz\u001b[0m*\r\n",
      "\u001b[01;32m1NF_12A_1.fq.gz\u001b[0m*\r\n",
      "\u001b[01;32m1NF_12A_2.fq.gz\u001b[0m*\r\n",
      "\u001b[01;32m1NF_13A_1.fq.gz\u001b[0m*\r\n",
      "\u001b[01;32m1NF_13A_2.fq.gz\u001b[0m*\r\n",
      "\u001b[01;32m1NF_14A_1.fq.gz\u001b[0m*\r\n",
      "\u001b[01;32m1NF_14A_2.fq.gz\u001b[0m*\r\n",
      "\u001b[01;32m1NF_15A_1.fq.gz\u001b[0m*\r\n",
      "\u001b[01;32m1NF_15A_2.fq.gz\u001b[0m*\r\n",
      "\u001b[01;32m1NF_16A_1.fq.gz\u001b[0m*\r\n",
      "\u001b[01;32m1NF_16A_2.fq.gz\u001b[0m*\r\n",
      "\u001b[01;32m1NF_17A_1.fq.gz\u001b[0m*\r\n",
      "\u001b[01;32m1NF_17A_2.fq.gz\u001b[0m*\r\n",
      "\u001b[01;32m1NF_18A_1.fq.gz\u001b[0m*\r\n",
      "\u001b[01;32m1NF_18A_2.fq.gz\u001b[0m*\r\n",
      "\u001b[01;32m1NF_19A_1.fq.gz\u001b[0m*\r\n",
      "\u001b[01;32m1NF_19A_2.fq.gz\u001b[0m*\r\n",
      "\u001b[01;32m1NF_1A_1.fq.gz\u001b[0m*\r\n",
      "\u001b[01;32m1NF_1A_2.fq.gz\u001b[0m*\r\n",
      "\u001b[01;32m1NF_20A_1.fq.gz\u001b[0m*\r\n",
      "\u001b[01;32m1NF_20A_2.fq.gz\u001b[0m*\r\n",
      "\u001b[01;32m1NF_21A_1.fq.gz\u001b[0m*\r\n",
      "\u001b[01;32m1NF_21A_2.fq.gz\u001b[0m*\r\n",
      "\u001b[01;32m1NF_22A_1.fq.gz\u001b[0m*\r\n",
      "\u001b[01;32m1NF_22A_2.fq.gz\u001b[0m*\r\n",
      "\u001b[01;32m1NF_23A_1.fq.gz\u001b[0m*\r\n",
      "\u001b[01;32m1NF_23A_2.fq.gz\u001b[0m*\r\n",
      "\u001b[01;32m1NF_24A_1.fq.gz\u001b[0m*\r\n",
      "\u001b[01;32m1NF_24A_2.fq.gz\u001b[0m*\r\n",
      "\u001b[01;32m1NF_25A_1.fq.gz\u001b[0m*\r\n",
      "\u001b[01;32m1NF_25A_2.fq.gz\u001b[0m*\r\n",
      "\u001b[01;32m1NF_26A_1.fq.gz\u001b[0m*\r\n",
      "\u001b[01;32m1NF_26A_2.fq.gz\u001b[0m*\r\n",
      "\u001b[01;32m1NF_27A_1.fq.gz\u001b[0m*\r\n",
      "\u001b[01;32m1NF_27A_2.fq.gz\u001b[0m*\r\n",
      "\u001b[01;32m1NF_28A_1.fq.gz\u001b[0m*\r\n",
      "\u001b[01;32m1NF_28A_2.fq.gz\u001b[0m*\r\n",
      "\u001b[01;32m1NF_29A_1.fq.gz\u001b[0m*\r\n",
      "\u001b[01;32m1NF_29A_2.fq.gz\u001b[0m*\r\n",
      "\u001b[01;32m1NF_2A_1.fq.gz\u001b[0m*\r\n",
      "\u001b[01;32m1NF_2A_2.fq.gz\u001b[0m*\r\n",
      "\u001b[01;32m1NF_30A_1.fq.gz\u001b[0m*\r\n",
      "\u001b[01;32m1NF_30A_2.fq.gz\u001b[0m*\r\n",
      "\u001b[01;32m1NF_31A_1.fq.gz\u001b[0m*\r\n",
      "\u001b[01;32m1NF_31A_2.fq.gz\u001b[0m*\r\n",
      "\u001b[01;32m1NF_32A_1.fq.gz\u001b[0m*\r\n",
      "\u001b[01;32m1NF_32A_2.fq.gz\u001b[0m*\r\n",
      "\u001b[01;32m1NF_33A_1.fq.gz\u001b[0m*\r\n",
      "\u001b[01;32m1NF_33A_2.fq.gz\u001b[0m*\r\n",
      "\u001b[01;32m1NF_4A_1.fq.gz\u001b[0m*\r\n",
      "\u001b[01;32m1NF_4A_2.fq.gz\u001b[0m*\r\n",
      "\u001b[01;32m1NF_5A_1.fq.gz\u001b[0m*\r\n",
      "\u001b[01;32m1NF_5A_2.fq.gz\u001b[0m*\r\n",
      "\u001b[01;32m1NF_6A_1.fq.gz\u001b[0m*\r\n",
      "\u001b[01;32m1NF_6A_2.fq.gz\u001b[0m*\r\n",
      "\u001b[01;32m1NF_7A_1.fq.gz\u001b[0m*\r\n",
      "\u001b[01;32m1NF_7A_2.fq.gz\u001b[0m*\r\n",
      "\u001b[01;32m1NF_8A_1.fq.gz\u001b[0m*\r\n",
      "\u001b[01;32m1NF_8A_2.fq.gz\u001b[0m*\r\n",
      "\u001b[01;32m1NF_9A_1.fq.gz\u001b[0m*\r\n",
      "\u001b[01;32m1NF_9A_2.fq.gz\u001b[0m*\r\n",
      "\u001b[01;32m1SN_10A_1.fq.gz\u001b[0m*\r\n",
      "\u001b[01;32m1SN_10A_2.fq.gz\u001b[0m*\r\n",
      "\u001b[01;32m1SN_11A_1.fq.gz\u001b[0m*\r\n",
      "\u001b[01;32m1SN_11A_2.fq.gz\u001b[0m*\r\n",
      "\u001b[01;32m1SN_12A_1.fq.gz\u001b[0m*\r\n",
      "\u001b[01;32m1SN_12A_2.fq.gz\u001b[0m*\r\n",
      "\u001b[01;32m1SN_13A_1.fq.gz\u001b[0m*\r\n",
      "\u001b[01;32m1SN_13A_2.fq.gz\u001b[0m*\r\n",
      "\u001b[01;32m1SN_14A_1.fq.gz\u001b[0m*\r\n",
      "\u001b[01;32m1SN_14A_2.fq.gz\u001b[0m*\r\n",
      "\u001b[01;32m1SN_15A_1.fq.gz\u001b[0m*\r\n",
      "\u001b[01;32m1SN_15A_2.fq.gz\u001b[0m*\r\n",
      "\u001b[01;32m1SN_16A_1.fq.gz\u001b[0m*\r\n",
      "\u001b[01;32m1SN_16A_2.fq.gz\u001b[0m*\r\n",
      "\u001b[01;32m1SN_17A_1.fq.gz\u001b[0m*\r\n",
      "\u001b[01;32m1SN_17A_2.fq.gz\u001b[0m*\r\n",
      "\u001b[01;32m1SN_18A_1.fq.gz\u001b[0m*\r\n",
      "\u001b[01;32m1SN_18A_2.fq.gz\u001b[0m*\r\n",
      "\u001b[01;32m1SN_19A_1.fq.gz\u001b[0m*\r\n",
      "\u001b[01;32m1SN_19A_2.fq.gz\u001b[0m*\r\n",
      "\u001b[01;32m1SN_1A_1.fq.gz\u001b[0m*\r\n",
      "\u001b[01;32m1SN_1A_2.fq.gz\u001b[0m*\r\n",
      "\u001b[01;32m1SN_20A_1.fq.gz\u001b[0m*\r\n",
      "\u001b[01;32m1SN_20A_2.fq.gz\u001b[0m*\r\n",
      "\u001b[01;32m1SN_21A_1.fq.gz\u001b[0m*\r\n",
      "\u001b[01;32m1SN_21A_2.fq.gz\u001b[0m*\r\n",
      "\u001b[01;32m1SN_22A_1.fq.gz\u001b[0m*\r\n",
      "\u001b[01;32m1SN_22A_2.fq.gz\u001b[0m*\r\n",
      "\u001b[01;32m1SN_23A_1.fq.gz\u001b[0m*\r\n",
      "\u001b[01;32m1SN_23A_2.fq.gz\u001b[0m*\r\n",
      "\u001b[01;32m1SN_24A_1.fq.gz\u001b[0m*\r\n",
      "\u001b[01;32m1SN_24A_2.fq.gz\u001b[0m*\r\n",
      "\u001b[01;32m1SN_25A_1.fq.gz\u001b[0m*\r\n",
      "\u001b[01;32m1SN_25A_2.fq.gz\u001b[0m*\r\n",
      "\u001b[01;32m1SN_26A_1.fq.gz\u001b[0m*\r\n",
      "\u001b[01;32m1SN_26A_2.fq.gz\u001b[0m*\r\n",
      "\u001b[01;32m1SN_27A_1.fq.gz\u001b[0m*\r\n",
      "\u001b[01;32m1SN_27A_2.fq.gz\u001b[0m*\r\n",
      "\u001b[01;32m1SN_28A_1.fq.gz\u001b[0m*\r\n",
      "\u001b[01;32m1SN_28A_2.fq.gz\u001b[0m*\r\n",
      "\u001b[01;32m1SN_29A_1.fq.gz\u001b[0m*\r\n",
      "\u001b[01;32m1SN_29A_2.fq.gz\u001b[0m*\r\n",
      "\u001b[01;32m1SN_2A_1.fq.gz\u001b[0m*\r\n",
      "\u001b[01;32m1SN_2A_2.fq.gz\u001b[0m*\r\n",
      "\u001b[01;32m1SN_30A_1.fq.gz\u001b[0m*\r\n",
      "\u001b[01;32m1SN_30A_2.fq.gz\u001b[0m*\r\n",
      "\u001b[01;32m1SN_31A_1.fq.gz\u001b[0m*\r\n",
      "\u001b[01;32m1SN_31A_2.fq.gz\u001b[0m*\r\n",
      "\u001b[01;32m1SN_32A_1.fq.gz\u001b[0m*\r\n",
      "\u001b[01;32m1SN_32A_2.fq.gz\u001b[0m*\r\n",
      "\u001b[01;32m1SN_3A_1.fq.gz\u001b[0m*\r\n",
      "\u001b[01;32m1SN_3A_2.fq.gz\u001b[0m*\r\n",
      "\u001b[01;32m1SN_4A_1.fq.gz\u001b[0m*\r\n",
      "\u001b[01;32m1SN_4A_2.fq.gz\u001b[0m*\r\n",
      "\u001b[01;32m1SN_5A_1.fq.gz\u001b[0m*\r\n",
      "\u001b[01;32m1SN_5A_2.fq.gz\u001b[0m*\r\n",
      "\u001b[01;32m1SN_6A_1.fq.gz\u001b[0m*\r\n",
      "\u001b[01;32m1SN_6A_2.fq.gz\u001b[0m*\r\n",
      "\u001b[01;32m1SN_7A_1.fq.gz\u001b[0m*\r\n",
      "\u001b[01;32m1SN_7A_2.fq.gz\u001b[0m*\r\n",
      "\u001b[01;32m1SN_8A_1.fq.gz\u001b[0m*\r\n",
      "\u001b[01;32m1SN_8A_2.fq.gz\u001b[0m*\r\n",
      "\u001b[01;32m1SN_9A_1.fq.gz\u001b[0m*\r\n",
      "\u001b[01;32m1SN_9A_2.fq.gz\u001b[0m*\r\n",
      "\u001b[01;32mUnKnow_1.fq.gz\u001b[0m*\r\n",
      "\u001b[01;32mUnKnow_2.fq.gz\u001b[0m*\r\n",
      "\u001b[01;32mbgi_project_summary.tar.gz\u001b[0m*\r\n",
      "checksums.md5\r\n",
      "index.lst\r\n",
      "\u001b[01;32mmd5.check\u001b[0m*\r\n",
      "\u001b[01;32mmd5.txt\u001b[0m*\r\n",
      "md51.txt\r\n",
      "readme.md\r\n",
      "split.sh\r\n"
     ]
    }
   ],
   "source": [
    "ls /owl_web/nightingales/O_lurida/20160223_gbs/"
   ]
  },
  {
   "cell_type": "code",
   "execution_count": null,
   "metadata": {
    "collapsed": true
   },
   "outputs": [],
   "source": []
  }
 ],
 "metadata": {
  "anaconda-cloud": {},
  "kernelspec": {
   "display_name": "Python [default]",
   "language": "python",
   "name": "python2"
  },
  "language_info": {
   "codemirror_mode": {
    "name": "ipython",
    "version": 2
   },
   "file_extension": ".py",
   "mimetype": "text/x-python",
   "name": "python",
   "nbconvert_exporter": "python",
   "pygments_lexer": "ipython2",
   "version": "2.7.12"
  }
 },
 "nbformat": 4,
 "nbformat_minor": 2
}
