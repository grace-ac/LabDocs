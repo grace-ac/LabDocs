{
 "cells": [
  {
   "cell_type": "markdown",
   "metadata": {},
   "source": [
    "### Running in Docker container on EC2 instance"
   ]
  },
  {
   "cell_type": "markdown",
   "metadata": {},
   "source": [
    "#### Started Docker container with the following command:\n",
    "\n",
    "```docker run  -p 8888:8888 -v /home/ubuntu/gitrepos/LabDocs/jupyter_nbs/sam:/home/notebooks -v /home/ubuntu/data:/data/ -it kubu4/bioinformatics:v11 /bin/bash```"
   ]
  },
  {
   "cell_type": "markdown",
   "metadata": {},
   "source": [
    "The command allows access to Jupyter Notebook over port 8888 and makes my Jupyter Notebook GitHub repo and my data files accessible to the Docker container"
   ]
  },
  {
   "cell_type": "markdown",
   "metadata": {},
   "source": [
    "Once the container was started, started Jupyter Notebook with the following command inside the Docker container:\n",
    "\n",
    "```jupyter notebook```"
   ]
  },
  {
   "cell_type": "markdown",
   "metadata": {},
   "source": [
    "This is configured in the Docker container to launch a Jupyter Notebook without a browser on port 8888."
   ]
  },
  {
   "cell_type": "markdown",
   "metadata": {},
   "source": [
    "#### Created a tunnel from my local computer to the Docker container:\n",
    "\n",
    "```ssh -i ~/Dropbox/Lab/Sam/bioinformatics.pem -N -L localhost:8888:localhost:8888 ubuntu@ec2.ip.address```"
   ]
  },
  {
   "cell_type": "markdown",
   "metadata": {},
   "source": [
    "This command is run in a separate Terminal window than the one that is used to ssh into the EC2 instance to start Docker and all of that.\n",
    "\n",
    "This ssh command specifies to use my Amazon EC2 authentication file (bioinformatics.pem), along with the -N and -L options for port forwarding stuff (see man ssh for deets), and binds the port 8888 on my local computer to port 8888 on the EC2 isntance. \n",
    "\n",
    "The tunnel allows me to start the Jupyter Notebook in my web browser. I enter ```localhost:8888``` in as the URL."
   ]
  },
  {
   "cell_type": "code",
   "execution_count": 1,
   "metadata": {
    "collapsed": false
   },
   "outputs": [
    {
     "name": "stdout",
     "output_type": "stream",
     "text": [
      "Fri Jul 15 16:56:46 UTC 2016\n"
     ]
    }
   ],
   "source": [
    "%%bash\n",
    "date"
   ]
  },
  {
   "cell_type": "code",
   "execution_count": 2,
   "metadata": {
    "collapsed": false
   },
   "outputs": [
    {
     "name": "stdout",
     "output_type": "stream",
     "text": [
      "570c28713283\n"
     ]
    }
   ],
   "source": [
    "%%bash\n",
    "hostname"
   ]
  },
  {
   "cell_type": "markdown",
   "metadata": {},
   "source": [
    "### Check computer specs"
   ]
  },
  {
   "cell_type": "code",
   "execution_count": 3,
   "metadata": {
    "collapsed": false
   },
   "outputs": [
    {
     "name": "stdout",
     "output_type": "stream",
     "text": [
      "Architecture:          x86_64\n",
      "CPU op-mode(s):        32-bit, 64-bit\n",
      "Byte Order:            Little Endian\n",
      "CPU(s):                8\n",
      "On-line CPU(s) list:   0-7\n",
      "Thread(s) per core:    2\n",
      "Core(s) per socket:    4\n",
      "Socket(s):             1\n",
      "NUMA node(s):          1\n",
      "Vendor ID:             GenuineIntel\n",
      "CPU family:            6\n",
      "Model:                 63\n",
      "Model name:            Intel(R) Xeon(R) CPU E5-2666 v3 @ 2.90GHz\n",
      "Stepping:              2\n",
      "CPU MHz:               2900.088\n",
      "BogoMIPS:              5800.17\n",
      "Hypervisor vendor:     Xen\n",
      "Virtualization type:   full\n",
      "L1d cache:             32K\n",
      "L1i cache:             32K\n",
      "L2 cache:              256K\n",
      "L3 cache:              25600K\n",
      "NUMA node0 CPU(s):     0-7\n"
     ]
    }
   ],
   "source": [
    "%%bash\n",
    "lscpu"
   ]
  },
  {
   "cell_type": "code",
   "execution_count": 4,
   "metadata": {
    "collapsed": false
   },
   "outputs": [
    {
     "name": "stdout",
     "output_type": "stream",
     "text": [
      "/data\n"
     ]
    }
   ],
   "source": [
    "cd /data/"
   ]
  },
  {
   "cell_type": "code",
   "execution_count": 5,
   "metadata": {
    "collapsed": false
   },
   "outputs": [
    {
     "name": "stdout",
     "output_type": "stream",
     "text": [
      "160123_I132_FCH3YHMBBXX_L4_OYSzenG1AAD96FAAPEI-109_1.fq.gz  \u001b[0m\u001b[01;32m1NF_25A_2.fq.gz\u001b[0m*\r\n",
      "160123_I132_FCH3YHMBBXX_L4_OYSzenG1AAD96FAAPEI-109_2.fq.gz  \u001b[01;32m1NF_26A_1.fq.gz\u001b[0m*\r\n",
      "\u001b[01;32m1HL_10A_1.fq.gz\u001b[0m*                                            \u001b[01;32m1NF_26A_2.fq.gz\u001b[0m*\r\n",
      "\u001b[01;32m1HL_10A_2.fq.gz\u001b[0m*                                            \u001b[01;32m1NF_27A_1.fq.gz\u001b[0m*\r\n",
      "\u001b[01;32m1HL_11A_1.fq.gz\u001b[0m*                                            \u001b[01;32m1NF_27A_2.fq.gz\u001b[0m*\r\n",
      "\u001b[01;32m1HL_11A_2.fq.gz\u001b[0m*                                            \u001b[01;32m1NF_28A_1.fq.gz\u001b[0m*\r\n",
      "\u001b[01;32m1HL_12A_1.fq.gz\u001b[0m*                                            \u001b[01;32m1NF_28A_2.fq.gz\u001b[0m*\r\n",
      "\u001b[01;32m1HL_12A_2.fq.gz\u001b[0m*                                            \u001b[01;32m1NF_29A_1.fq.gz\u001b[0m*\r\n",
      "\u001b[01;32m1HL_13A_1.fq.gz\u001b[0m*                                            \u001b[01;32m1NF_29A_2.fq.gz\u001b[0m*\r\n",
      "\u001b[01;32m1HL_13A_2.fq.gz\u001b[0m*                                            \u001b[01;32m1NF_2A_1.fq.gz\u001b[0m*\r\n",
      "\u001b[01;32m1HL_14A_1.fq.gz\u001b[0m*                                            \u001b[01;32m1NF_2A_2.fq.gz\u001b[0m*\r\n",
      "\u001b[01;32m1HL_14A_2.fq.gz\u001b[0m*                                            \u001b[01;32m1NF_30A_1.fq.gz\u001b[0m*\r\n",
      "\u001b[01;32m1HL_15A_1.fq.gz\u001b[0m*                                            \u001b[01;32m1NF_30A_2.fq.gz\u001b[0m*\r\n",
      "\u001b[01;32m1HL_15A_2.fq.gz\u001b[0m*                                            \u001b[01;32m1NF_31A_1.fq.gz\u001b[0m*\r\n",
      "\u001b[01;32m1HL_16A_1.fq.gz\u001b[0m*                                            \u001b[01;32m1NF_31A_2.fq.gz\u001b[0m*\r\n",
      "\u001b[01;32m1HL_16A_2.fq.gz\u001b[0m*                                            \u001b[01;32m1NF_32A_1.fq.gz\u001b[0m*\r\n",
      "\u001b[01;32m1HL_17A_1.fq.gz\u001b[0m*                                            \u001b[01;32m1NF_32A_2.fq.gz\u001b[0m*\r\n",
      "\u001b[01;32m1HL_17A_2.fq.gz\u001b[0m*                                            \u001b[01;32m1NF_33A_1.fq.gz\u001b[0m*\r\n",
      "\u001b[01;32m1HL_19A_1.fq.gz\u001b[0m*                                            \u001b[01;32m1NF_33A_2.fq.gz\u001b[0m*\r\n",
      "\u001b[01;32m1HL_19A_2.fq.gz\u001b[0m*                                            \u001b[01;32m1NF_4A_1.fq.gz\u001b[0m*\r\n",
      "\u001b[01;32m1HL_1A_1.fq.gz\u001b[0m*                                             \u001b[01;32m1NF_4A_2.fq.gz\u001b[0m*\r\n",
      "\u001b[01;32m1HL_1A_2.fq.gz\u001b[0m*                                             \u001b[01;32m1NF_5A_1.fq.gz\u001b[0m*\r\n",
      "\u001b[01;32m1HL_20A_1.fq.gz\u001b[0m*                                            \u001b[01;32m1NF_5A_2.fq.gz\u001b[0m*\r\n",
      "\u001b[01;32m1HL_20A_2.fq.gz\u001b[0m*                                            \u001b[01;32m1NF_6A_1.fq.gz\u001b[0m*\r\n",
      "\u001b[01;32m1HL_21A_1.fq.gz\u001b[0m*                                            \u001b[01;32m1NF_6A_2.fq.gz\u001b[0m*\r\n",
      "\u001b[01;32m1HL_21A_2.fq.gz\u001b[0m*                                            \u001b[01;32m1NF_7A_1.fq.gz\u001b[0m*\r\n",
      "\u001b[01;32m1HL_22A_1.fq.gz\u001b[0m*                                            \u001b[01;32m1NF_7A_2.fq.gz\u001b[0m*\r\n",
      "\u001b[01;32m1HL_22A_2.fq.gz\u001b[0m*                                            \u001b[01;32m1NF_8A_1.fq.gz\u001b[0m*\r\n",
      "\u001b[01;32m1HL_23A_1.fq.gz\u001b[0m*                                            \u001b[01;32m1NF_8A_2.fq.gz\u001b[0m*\r\n",
      "\u001b[01;32m1HL_23A_2.fq.gz\u001b[0m*                                            \u001b[01;32m1NF_9A_1.fq.gz\u001b[0m*\r\n",
      "\u001b[01;32m1HL_24A_1.fq.gz\u001b[0m*                                            \u001b[01;32m1NF_9A_2.fq.gz\u001b[0m*\r\n",
      "\u001b[01;32m1HL_24A_2.fq.gz\u001b[0m*                                            \u001b[01;32m1SN_10A_1.fq.gz\u001b[0m*\r\n",
      "\u001b[01;32m1HL_25A_1.fq.gz\u001b[0m*                                            \u001b[01;32m1SN_10A_2.fq.gz\u001b[0m*\r\n",
      "\u001b[01;32m1HL_25A_2.fq.gz\u001b[0m*                                            \u001b[01;32m1SN_11A_1.fq.gz\u001b[0m*\r\n",
      "\u001b[01;32m1HL_26A_1.fq.gz\u001b[0m*                                            \u001b[01;32m1SN_11A_2.fq.gz\u001b[0m*\r\n",
      "\u001b[01;32m1HL_26A_2.fq.gz\u001b[0m*                                            \u001b[01;32m1SN_12A_1.fq.gz\u001b[0m*\r\n",
      "\u001b[01;32m1HL_27A_1.fq.gz\u001b[0m*                                            \u001b[01;32m1SN_12A_2.fq.gz\u001b[0m*\r\n",
      "\u001b[01;32m1HL_27A_2.fq.gz\u001b[0m*                                            \u001b[01;32m1SN_13A_1.fq.gz\u001b[0m*\r\n",
      "\u001b[01;32m1HL_28A_1.fq.gz\u001b[0m*                                            \u001b[01;32m1SN_13A_2.fq.gz\u001b[0m*\r\n",
      "\u001b[01;32m1HL_28A_2.fq.gz\u001b[0m*                                            \u001b[01;32m1SN_14A_1.fq.gz\u001b[0m*\r\n",
      "\u001b[01;32m1HL_29A_1.fq.gz\u001b[0m*                                            \u001b[01;32m1SN_14A_2.fq.gz\u001b[0m*\r\n",
      "\u001b[01;32m1HL_29A_2.fq.gz\u001b[0m*                                            \u001b[01;32m1SN_15A_1.fq.gz\u001b[0m*\r\n",
      "\u001b[01;32m1HL_2A_1.fq.gz\u001b[0m*                                             \u001b[01;32m1SN_15A_2.fq.gz\u001b[0m*\r\n",
      "\u001b[01;32m1HL_2A_2.fq.gz\u001b[0m*                                             \u001b[01;32m1SN_16A_1.fq.gz\u001b[0m*\r\n",
      "\u001b[01;32m1HL_31A_1.fq.gz\u001b[0m*                                            \u001b[01;32m1SN_16A_2.fq.gz\u001b[0m*\r\n",
      "\u001b[01;32m1HL_31A_2.fq.gz\u001b[0m*                                            \u001b[01;32m1SN_17A_1.fq.gz\u001b[0m*\r\n",
      "\u001b[01;32m1HL_33A_1.fq.gz\u001b[0m*                                            \u001b[01;32m1SN_17A_2.fq.gz\u001b[0m*\r\n",
      "\u001b[01;32m1HL_33A_2.fq.gz\u001b[0m*                                            \u001b[01;32m1SN_18A_1.fq.gz\u001b[0m*\r\n",
      "\u001b[01;32m1HL_34A_1.fq.gz\u001b[0m*                                            \u001b[01;32m1SN_18A_2.fq.gz\u001b[0m*\r\n",
      "\u001b[01;32m1HL_34A_2.fq.gz\u001b[0m*                                            \u001b[01;32m1SN_19A_1.fq.gz\u001b[0m*\r\n",
      "\u001b[01;32m1HL_35A_1.fq.gz\u001b[0m*                                            \u001b[01;32m1SN_19A_2.fq.gz\u001b[0m*\r\n",
      "\u001b[01;32m1HL_35A_2.fq.gz\u001b[0m*                                            \u001b[01;32m1SN_1A_1.fq.gz\u001b[0m*\r\n",
      "\u001b[01;32m1HL_3A_1.fq.gz\u001b[0m*                                             \u001b[01;32m1SN_1A_2.fq.gz\u001b[0m*\r\n",
      "\u001b[01;32m1HL_3A_2.fq.gz\u001b[0m*                                             \u001b[01;32m1SN_20A_1.fq.gz\u001b[0m*\r\n",
      "\u001b[01;32m1HL_4A_1.fq.gz\u001b[0m*                                             \u001b[01;32m1SN_20A_2.fq.gz\u001b[0m*\r\n",
      "\u001b[01;32m1HL_4A_2.fq.gz\u001b[0m*                                             \u001b[01;32m1SN_21A_1.fq.gz\u001b[0m*\r\n",
      "\u001b[01;32m1HL_5A_1.fq.gz\u001b[0m*                                             \u001b[01;32m1SN_21A_2.fq.gz\u001b[0m*\r\n",
      "\u001b[01;32m1HL_5A_2.fq.gz\u001b[0m*                                             \u001b[01;32m1SN_22A_1.fq.gz\u001b[0m*\r\n",
      "\u001b[01;32m1HL_6A_1.fq.gz\u001b[0m*                                             \u001b[01;32m1SN_22A_2.fq.gz\u001b[0m*\r\n",
      "\u001b[01;32m1HL_6A_2.fq.gz\u001b[0m*                                             \u001b[01;32m1SN_23A_1.fq.gz\u001b[0m*\r\n",
      "\u001b[01;32m1HL_7A_1.fq.gz\u001b[0m*                                             \u001b[01;32m1SN_23A_2.fq.gz\u001b[0m*\r\n",
      "\u001b[01;32m1HL_7A_2.fq.gz\u001b[0m*                                             \u001b[01;32m1SN_24A_1.fq.gz\u001b[0m*\r\n",
      "\u001b[01;32m1HL_8A_1.fq.gz\u001b[0m*                                             \u001b[01;32m1SN_24A_2.fq.gz\u001b[0m*\r\n",
      "\u001b[01;32m1HL_8A_2.fq.gz\u001b[0m*                                             \u001b[01;32m1SN_25A_1.fq.gz\u001b[0m*\r\n",
      "\u001b[01;32m1HL_9A_1.fq.gz\u001b[0m*                                             \u001b[01;32m1SN_25A_2.fq.gz\u001b[0m*\r\n",
      "\u001b[01;32m1HL_9A_2.fq.gz\u001b[0m*                                             \u001b[01;32m1SN_26A_1.fq.gz\u001b[0m*\r\n",
      "\u001b[01;32m1NF_10A_1.fq.gz\u001b[0m*                                            \u001b[01;32m1SN_26A_2.fq.gz\u001b[0m*\r\n",
      "\u001b[01;32m1NF_10A_2.fq.gz\u001b[0m*                                            \u001b[01;32m1SN_27A_1.fq.gz\u001b[0m*\r\n",
      "\u001b[01;32m1NF_11A_1.fq.gz\u001b[0m*                                            \u001b[01;32m1SN_27A_2.fq.gz\u001b[0m*\r\n",
      "\u001b[01;32m1NF_11A_2.fq.gz\u001b[0m*                                            \u001b[01;32m1SN_28A_1.fq.gz\u001b[0m*\r\n",
      "\u001b[01;32m1NF_12A_1.fq.gz\u001b[0m*                                            \u001b[01;32m1SN_28A_2.fq.gz\u001b[0m*\r\n",
      "\u001b[01;32m1NF_12A_2.fq.gz\u001b[0m*                                            \u001b[01;32m1SN_29A_1.fq.gz\u001b[0m*\r\n",
      "\u001b[01;32m1NF_13A_1.fq.gz\u001b[0m*                                            \u001b[01;32m1SN_29A_2.fq.gz\u001b[0m*\r\n",
      "\u001b[01;32m1NF_13A_2.fq.gz\u001b[0m*                                            \u001b[01;32m1SN_2A_1.fq.gz\u001b[0m*\r\n",
      "\u001b[01;32m1NF_14A_1.fq.gz\u001b[0m*                                            \u001b[01;32m1SN_2A_2.fq.gz\u001b[0m*\r\n",
      "\u001b[01;32m1NF_14A_2.fq.gz\u001b[0m*                                            \u001b[01;32m1SN_30A_1.fq.gz\u001b[0m*\r\n",
      "\u001b[01;32m1NF_15A_1.fq.gz\u001b[0m*                                            \u001b[01;32m1SN_30A_2.fq.gz\u001b[0m*\r\n",
      "\u001b[01;32m1NF_15A_2.fq.gz\u001b[0m*                                            \u001b[01;32m1SN_31A_1.fq.gz\u001b[0m*\r\n",
      "\u001b[01;32m1NF_16A_1.fq.gz\u001b[0m*                                            \u001b[01;32m1SN_31A_2.fq.gz\u001b[0m*\r\n",
      "\u001b[01;32m1NF_16A_2.fq.gz\u001b[0m*                                            \u001b[01;32m1SN_32A_1.fq.gz\u001b[0m*\r\n",
      "\u001b[01;32m1NF_17A_1.fq.gz\u001b[0m*                                            \u001b[01;32m1SN_32A_2.fq.gz\u001b[0m*\r\n",
      "\u001b[01;32m1NF_17A_2.fq.gz\u001b[0m*                                            \u001b[01;32m1SN_3A_1.fq.gz\u001b[0m*\r\n",
      "\u001b[01;32m1NF_18A_1.fq.gz\u001b[0m*                                            \u001b[01;32m1SN_3A_2.fq.gz\u001b[0m*\r\n",
      "\u001b[01;32m1NF_18A_2.fq.gz\u001b[0m*                                            \u001b[01;32m1SN_4A_1.fq.gz\u001b[0m*\r\n",
      "\u001b[01;32m1NF_19A_1.fq.gz\u001b[0m*                                            \u001b[01;32m1SN_4A_2.fq.gz\u001b[0m*\r\n",
      "\u001b[01;32m1NF_19A_2.fq.gz\u001b[0m*                                            \u001b[01;32m1SN_5A_1.fq.gz\u001b[0m*\r\n",
      "\u001b[01;32m1NF_1A_1.fq.gz\u001b[0m*                                             \u001b[01;32m1SN_5A_2.fq.gz\u001b[0m*\r\n",
      "\u001b[01;32m1NF_1A_2.fq.gz\u001b[0m*                                             \u001b[01;32m1SN_6A_1.fq.gz\u001b[0m*\r\n",
      "\u001b[01;32m1NF_20A_1.fq.gz\u001b[0m*                                            \u001b[01;32m1SN_6A_2.fq.gz\u001b[0m*\r\n",
      "\u001b[01;32m1NF_20A_2.fq.gz\u001b[0m*                                            \u001b[01;32m1SN_7A_1.fq.gz\u001b[0m*\r\n",
      "\u001b[01;32m1NF_21A_1.fq.gz\u001b[0m*                                            \u001b[01;32m1SN_7A_2.fq.gz\u001b[0m*\r\n",
      "\u001b[01;32m1NF_21A_2.fq.gz\u001b[0m*                                            \u001b[01;32m1SN_8A_1.fq.gz\u001b[0m*\r\n",
      "\u001b[01;32m1NF_22A_1.fq.gz\u001b[0m*                                            \u001b[01;32m1SN_8A_2.fq.gz\u001b[0m*\r\n",
      "\u001b[01;32m1NF_22A_2.fq.gz\u001b[0m*                                            \u001b[01;32m1SN_9A_1.fq.gz\u001b[0m*\r\n",
      "\u001b[01;32m1NF_23A_1.fq.gz\u001b[0m*                                            \u001b[01;32m1SN_9A_2.fq.gz\u001b[0m*\r\n",
      "\u001b[01;32m1NF_23A_2.fq.gz\u001b[0m*                                            \u001b[01;34manalysis\u001b[0m/\r\n",
      "\u001b[01;32m1NF_24A_1.fq.gz\u001b[0m*                                            radtags.stderr\r\n",
      "\u001b[01;32m1NF_24A_2.fq.gz\u001b[0m*                                            radtags.stdout\r\n",
      "\u001b[01;32m1NF_25A_1.fq.gz\u001b[0m*                                            \u001b[01;34mstacks\u001b[0m/\r\n"
     ]
    }
   ],
   "source": [
    "ls"
   ]
  },
  {
   "cell_type": "markdown",
   "metadata": {},
   "source": [
    "### Rename FASTQ files to match R1 and R2 requirements for pyrad demultiplexing¶"
   ]
  },
  {
   "cell_type": "code",
   "execution_count": 9,
   "metadata": {
    "collapsed": false
   },
   "outputs": [],
   "source": [
    "%%bash\n",
    "mv 160123_I132_FCH3YHMBBXX_L4_OYSzenG1AAD96FAAPEI-109_1.fq.gz 160123_I132_FCH3YHMBBXX_L4_OYSzenG1AAD96FAAPEI-109_R1_.fq.gz"
   ]
  },
  {
   "cell_type": "code",
   "execution_count": 10,
   "metadata": {
    "collapsed": true
   },
   "outputs": [],
   "source": [
    "%%bash\n",
    "mv 160123_I132_FCH3YHMBBXX_L4_OYSzenG1AAD96FAAPEI-109_2.fq.gz 160123_I132_FCH3YHMBBXX_L4_OYSzenG1AAD96FAAPEI-109_R2_.fq.gz"
   ]
  },
  {
   "cell_type": "code",
   "execution_count": 11,
   "metadata": {
    "collapsed": false
   },
   "outputs": [
    {
     "name": "stdout",
     "output_type": "stream",
     "text": [
      "/data/analysis\n"
     ]
    }
   ],
   "source": [
    "cd analysis/"
   ]
  },
  {
   "cell_type": "code",
   "execution_count": 12,
   "metadata": {
    "collapsed": false
   },
   "outputs": [
    {
     "name": "stdout",
     "output_type": "stream",
     "text": [
      "barcodes.txt  params.txt\r\n"
     ]
    }
   ],
   "source": [
    "ls"
   ]
  },
  {
   "cell_type": "code",
   "execution_count": 13,
   "metadata": {
    "collapsed": false
   },
   "outputs": [
    {
     "name": "stdout",
     "output_type": "stream",
     "text": [
      "==** parameter inputs for pyRAD version 3.0.66  **======================== affected step ==\n",
      "./                     ## 1. Working directory                                 (all)\n",
      "/data/oly_gbs/*.gz             \t       ## 2. Loc. of non-demultiplexed files (if not line 18)  (s1)\n",
      "/analysis/20160609_pyrad/barcodes.txt\t               ## 3. Loc. of barcode file (if not line 18)             (s1)\n",
      "/usr/local/bioinformatics/vsearch-1.11.1-linux-x86_64/bin/vsearch                ## 4. command (or path) to call vsearch (or usearch)    (s3,s6)\n",
      "/usr/local/bioinformatics/muscle3.8.31_i86linux64                    ## 5. command (or path) to call muscle                  (s3,s7)\n",
      "CWGC                   ## 6. Restriction overhang (e.g., C|TGCAG -> TGCAG)     (s1,s2)\n",
      "16                     ## 7. N processors (parallel)                           (all)\n",
      "6                      ## 8. Mindepth: min coverage for a cluster              (s4,s5)\n",
      "4                      ## 9. NQual: max # sites with qual < 20 (or see line 20)(s2)\n",
      ".88                    ## 10. Wclust: clustering threshold as a decimal        (s3,s6)\n",
      "pairgbs                 ## 11. Datatype: rad,gbs,pairgbs,pairddrad,(others:see docs)(all)\n",
      "4                      ## 12. MinCov: min samples in a final locus             (s7)\n",
      "3                      ## 13. MaxSH: max inds with shared hetero site          (s7)\n",
      "oly_gbs_pyrad          ## 14. Prefix name for final output (no spaces)         (s7)\n",
      "==== optional params below this line ===================================  affected step ==\n",
      "                       ## 15.opt.: select subset (prefix* only selector)            (s2-s7)\n",
      "                       ## 16.opt.: add-on (outgroup) taxa (list or prefix*)         (s6,s7)\n",
      "                       ## 17.opt.: exclude taxa (list or prefix*)                   (s7)\n",
      "                       ## 18.opt.: loc. of de-multiplexed data                      (s2)\n",
      "                       ## 19.opt.: maxM: N mismatches in barcodes (def= 1)          (s1)\n",
      "                       ## 20.opt.: phred Qscore offset (def= 33)                    (s2)\n",
      "2                      ## 21.opt.: filter: def=0=NQual 1=NQual+adapters. 2=strict   (s2)\n",
      "                       ## 22.opt.: a priori E,H (def= 0.001,0.01, if not estimated) (s5)\n",
      "4                      ## 23.opt.: maxN: max Ns in a cons seq (def=5)               (s5)\n",
      "8                      ## 24.opt.: maxH: max heterozyg. sites in cons seq (def=5)   (s5)\n",
      "                       ## 25.opt.: ploidy: max alleles in cons seq (def=2;see docs) (s4,s5)\n",
      "                       ## 26.opt.: maxSNPs: (def=100). Paired (def=100,100)         (s7)\n",
      "                       ## 27.opt.: maxIndels: within-clust,across-clust (def. 3,99) (s3,s7)\n",
      "                       ## 28.opt.: random number seed (def. 112233)              (s3,s6,s7)\n",
      "                       ## 29.opt.: trim overhang left,right on final loci, def(0,0) (s7)\n",
      "*                      ## 30.opt.: output formats: p,n,a,s,v,u,t,m,k,g,* (see docs) (s7)\n",
      "                       ## 31.opt.: maj. base call at depth>x<mindepth (def.x=mindepth) (s5)\n",
      "50                     ## 32.opt.: keep trimmed reads (def=0). Enter min length.    (s2)\n",
      "                       ## 33.opt.: max stack size (int), def= max(500,mean+2*SD)    (s3)\n",
      "                       ## 34.opt.: minDerep: exclude dereps with <= N copies, def=1 (s3)\n",
      "                       ## 35.opt.: use hierarchical clustering (def.=0, 1=yes)      (s6)\n",
      "                       ## 36.opt.: repeat masking (def.=1='dust' method, 0=no)      (s3,s6)\n",
      "16                     ## 37.opt.: vsearch max threads per job (def.=6; see docs)   (s3,s6)\n",
      "==== optional: list group/clade assignments below this line (see docs) ==================\n",
      "1HL\t5\t1HL*\n",
      "1NF\t5\t1NF*\n",
      "1SN\t5\t1SN*\n"
     ]
    }
   ],
   "source": [
    "%%bash\n",
    "cat params.txt"
   ]
  },
  {
   "cell_type": "code",
   "execution_count": 14,
   "metadata": {
    "collapsed": true
   },
   "outputs": [],
   "source": [
    "%%bash\n",
    "mv /data/160123_I132_FCH3YHMBBXX_L4_OYSzenG1AAD96FAAPEI-109_R1_.fq.gz /data/analysis/"
   ]
  },
  {
   "cell_type": "code",
   "execution_count": 16,
   "metadata": {
    "collapsed": false
   },
   "outputs": [],
   "source": [
    "%%bash\n",
    "mv /data/160123_I132_FCH3YHMBBXX_L4_OYSzenG1AAD96FAAPEI-109_R2_.fq.gz /data/analysis/"
   ]
  },
  {
   "cell_type": "code",
   "execution_count": 17,
   "metadata": {
    "collapsed": false
   },
   "outputs": [
    {
     "name": "stdout",
     "output_type": "stream",
     "text": [
      "160123_I132_FCH3YHMBBXX_L4_OYSzenG1AAD96FAAPEI-109_R1_.fq.gz  barcodes.txt\r\n",
      "160123_I132_FCH3YHMBBXX_L4_OYSzenG1AAD96FAAPEI-109_R2_.fq.gz  params.txt\r\n"
     ]
    }
   ],
   "source": [
    "ls"
   ]
  },
  {
   "cell_type": "markdown",
   "metadata": {},
   "source": [
    "Need to edit params file to match current locations of data files. Will do outside of notebook. BRB..."
   ]
  },
  {
   "cell_type": "code",
   "execution_count": 18,
   "metadata": {
    "collapsed": false
   },
   "outputs": [
    {
     "name": "stdout",
     "output_type": "stream",
     "text": [
      "==** parameter inputs for pyRAD version 3.0.66  **======================== affected step ==\n",
      "/data/analysis/                     ## 1. Working directory                                 (all)\n",
      "/data/analysis/             \t       ## 2. Loc. of non-demultiplexed files (if not line 18)  (s1)\n",
      "/data/analysis/barcodes.txt\t               ## 3. Loc. of barcode file (if not line 18)             (s1)\n",
      "/usr/local/bioinformatics/vsearch-1.11.1-linux-x86_64/bin/vsearch                ## 4. command (or path) to call vsearch (or usearch)    (s3,s6)\n",
      "/usr/local/bioinformatics/muscle3.8.31_i86linux64                    ## 5. command (or path) to call muscle                  (s3,s7)\n",
      "CWGC                   ## 6. Restriction overhang (e.g., C|TGCAG -> TGCAG)     (s1,s2)\n",
      "16                     ## 7. N processors (parallel)                           (all)\n",
      "6                      ## 8. Mindepth: min coverage for a cluster              (s4,s5)\n",
      "4                      ## 9. NQual: max # sites with qual < 20 (or see line 20)(s2)\n",
      ".88                    ## 10. Wclust: clustering threshold as a decimal        (s3,s6)\n",
      "pairgbs                 ## 11. Datatype: rad,gbs,pairgbs,pairddrad,(others:see docs)(all)\n",
      "4                      ## 12. MinCov: min samples in a final locus             (s7)\n",
      "3                      ## 13. MaxSH: max inds with shared hetero site          (s7)\n",
      "oly_gbs_pyrad          ## 14. Prefix name for final output (no spaces)         (s7)\n",
      "==== optional params below this line ===================================  affected step ==\n",
      "                       ## 15.opt.: select subset (prefix* only selector)            (s2-s7)\n",
      "                       ## 16.opt.: add-on (outgroup) taxa (list or prefix*)         (s6,s7)\n",
      "                       ## 17.opt.: exclude taxa (list or prefix*)                   (s7)\n",
      "                       ## 18.opt.: loc. of de-multiplexed data                      (s2)\n",
      "                       ## 19.opt.: maxM: N mismatches in barcodes (def= 1)          (s1)\n",
      "                       ## 20.opt.: phred Qscore offset (def= 33)                    (s2)\n",
      "2                      ## 21.opt.: filter: def=0=NQual 1=NQual+adapters. 2=strict   (s2)\n",
      "                       ## 22.opt.: a priori E,H (def= 0.001,0.01, if not estimated) (s5)\n",
      "4                      ## 23.opt.: maxN: max Ns in a cons seq (def=5)               (s5)\n",
      "8                      ## 24.opt.: maxH: max heterozyg. sites in cons seq (def=5)   (s5)\n",
      "                       ## 25.opt.: ploidy: max alleles in cons seq (def=2;see docs) (s4,s5)\n",
      "                       ## 26.opt.: maxSNPs: (def=100). Paired (def=100,100)         (s7)\n",
      "                       ## 27.opt.: maxIndels: within-clust,across-clust (def. 3,99) (s3,s7)\n",
      "                       ## 28.opt.: random number seed (def. 112233)              (s3,s6,s7)\n",
      "                       ## 29.opt.: trim overhang left,right on final loci, def(0,0) (s7)\n",
      "*                      ## 30.opt.: output formats: p,n,a,s,v,u,t,m,k,g,* (see docs) (s7)\n",
      "                       ## 31.opt.: maj. base call at depth>x<mindepth (def.x=mindepth) (s5)\n",
      "50                     ## 32.opt.: keep trimmed reads (def=0). Enter min length.    (s2)\n",
      "                       ## 33.opt.: max stack size (int), def= max(500,mean+2*SD)    (s3)\n",
      "                       ## 34.opt.: minDerep: exclude dereps with <= N copies, def=1 (s3)\n",
      "                       ## 35.opt.: use hierarchical clustering (def.=0, 1=yes)      (s6)\n",
      "                       ## 36.opt.: repeat masking (def.=1='dust' method, 0=no)      (s3,s6)\n",
      "16                     ## 37.opt.: vsearch max threads per job (def.=6; see docs)   (s3,s6)\n",
      "==== optional: list group/clade assignments below this line (see docs) ==================\n",
      "1HL\t5\t1HL*\n",
      "1NF\t5\t1NF*\n",
      "1SN\t5\t1SN*\n"
     ]
    }
   ],
   "source": [
    "%%bash\n",
    "cat params.txt"
   ]
  },
  {
   "cell_type": "markdown",
   "metadata": {},
   "source": [
    "### View barcodes.txt file"
   ]
  },
  {
   "cell_type": "code",
   "execution_count": 19,
   "metadata": {
    "collapsed": false,
    "scrolled": true
   },
   "outputs": [
    {
     "name": "stdout",
     "output_type": "stream",
     "text": [
      "1NF_1A\tCTCC\n",
      "1NF_2A\tTGCA\n",
      "1NF_4A\tACTA\n",
      "1NF_5A\tCAGA\n",
      "1NF_6A\tAACT\n",
      "1NF_7A\tGCGT\n",
      "1NF_8A\tCGAT\n",
      "1NF_9A\tGTAA\n",
      "1NF_10A\tAGGC\n",
      "1NF_11A\tGATC\n",
      "1NF_12A\tTCAC\n",
      "1NF_13A\tTGCGA\n",
      "1NF_14A\tCGCTT\n",
      "1NF_15A\tTCACC\n",
      "1NF_16A\tCTAGC\n",
      "1NF_17A\tACAAA\n",
      "1NF_18A\tTTCTC\n",
      "1NF_19A\tAGCCC\n",
      "1NF_20A\tGTATT\n",
      "1NF_21A\tCTGTA\n",
      "1NF_22A\tACCGT\n",
      "1NF_23A\tGCTTA\n",
      "1NF_24A\tGGTGT\n",
      "1NF_25A\tAGGAT\n",
      "1NF_26A\tATTGA\n",
      "1NF_27A\tCATCT\n",
      "1NF_28A\tCCTAC\n",
      "1NF_29A\tGAGGA\n",
      "1NF_30A\tGGAAC\n",
      "1NF_31A\tGTCAA\n",
      "1NF_32A\tTAATA\n",
      "1NF_33A\tTACAT\n",
      "1SN_1A\tTCGTT\n",
      "1SN_2A\tGGTTGT\n",
      "1SN_3A\tCCAGCT\n",
      "1SN_4A\tTTCAGA\n",
      "1SN_5A\tTAGGAA\n",
      "1SN_6A\tGCTCTA\n",
      "1SN_7A\tCCACAA\n",
      "1SN_8A\tCTTCCA\n",
      "1SN_9A\tGAGATA\n",
      "1SN_10A\tATGCCT\n",
      "1SN_11A\tAGTGGA\n",
      "1SN_12A\tACCTAA\n",
      "1SN_13A\tATATGT\n",
      "1SN_14A\tATCGTA\n",
      "1SN_15A\tCATCGT\n",
      "1SN_16A\tCGCGGT\n",
      "1SN_17A\tCTATTA\n",
      "1SN_18A\tGCCAGT\n",
      "1SN_19A\tGGAAGA\n",
      "1SN_20A\tGTACTT\n",
      "1SN_21A\tGTTGAA\n",
      "1SN_22A\tTAACGA\n",
      "1SN_23A\tTGGCTA\n",
      "1SN_24A\tTATTTTT\n",
      "1SN_25A\tCTTGCTT\n",
      "1SN_26A\tATGAAAC\n",
      "1SN_27A\tAAAAGTT\n",
      "1SN_28A\tGAATTCA\n",
      "1SN_29A\tGAACTTC\n",
      "1SN_30A\tGGACCTA\n",
      "1SN_31A\tGTCGATT\n",
      "1SN_32A\tAACGCCT\n",
      "1HL_1A\tAATATGC\n",
      "1HL_2A\tACGTGTT\n",
      "1HL_3A\tATTAATT\n",
      "1HL_4A\tATTGGAT\n",
      "1HL_5A\tCATAAGT\n",
      "1HL_6A\tCGCTGAT\n",
      "1HL_7A\tCGGTAGA\n",
      "1HL_8A\tCTACGGA\n",
      "1HL_9A\tGCGGAAT\n",
      "1HL_10A\tTAGCGGA\n",
      "1HL_11A\tTCGAAGA\n",
      "1HL_12A\tTCTGTGA\n",
      "1HL_13A\tTGCTGGA\n",
      "1HL_14A\tACGACTAC\n",
      "1HL_15A\tTAGCATGC\n",
      "1HL_16A\tTAGGCCAT\n",
      "1HL_17A\tTGCAAGGA\n",
      "1HL_19A\tTGGTACGT\n",
      "1HL_20A\tTCTCAGTC\n",
      "1HL_21A\tCCGGATAT\n",
      "1HL_22A\tCGCCTTAT\n",
      "1HL_23A\tAACCGAGA\n",
      "1HL_24A\tACAGGGAA\n",
      "1HL_25A\tACGTGGTA\n",
      "1HL_26A\tCCATGGGT\n",
      "1HL_27A\tCGCGGAGA\n",
      "1HL_28A\tCGTGTGGT\n",
      "1HL_29A\tGCTGTGGA\n",
      "1HL_31A\tGGATTGGT\n",
      "1HL_33A\tGTGAGGGT\n",
      "1HL_34A\tTATCGGGA\n",
      "1HL_35A\tTTCCTGGA\n"
     ]
    }
   ],
   "source": [
    "%%bash\n",
    "cat barcodes.txt"
   ]
  },
  {
   "cell_type": "markdown",
   "metadata": {},
   "source": [
    "### Step 1: De-multiplex reads"
   ]
  },
  {
   "cell_type": "code",
   "execution_count": 20,
   "metadata": {
    "collapsed": false
   },
   "outputs": [
    {
     "name": "stdout",
     "output_type": "stream",
     "text": [
      "\n",
      "\twarning: CUT site matches within one of the barcodes, I suggest double \n",
      "\tchecking the file to make sure it properly demultiplexes\n",
      "\n",
      "no stats file generated\n"
     ]
    },
    {
     "name": "stderr",
     "output_type": "stream",
     "text": [
      "\n",
      "\n",
      "     ------------------------------------------------------------\n",
      "      pyRAD : RADseq for phylogenetics & introgression analyses\n",
      "     ------------------------------------------------------------\n",
      "\n",
      "\n",
      "\tstep 1: sorting reads by barcode\n",
      "\t Traceback (most recent call last):\n",
      "  File \"/usr/local/bin/pyrad\", line 9, in <module>\n",
      "    load_entry_point('pyrad==3.0.66', 'console_scripts', 'pyrad')()\n",
      "  File \"build/bdist.linux-x86_64/egg/pyrad/pyRAD.py\", line 292, in main\n",
      "  File \"build/bdist.linux-x86_64/egg/pyrad/sortandcheck2.py\", line 428, in main\n",
      "  File \"build/bdist.linux-x86_64/egg/pyrad/sortandcheck2.py\", line 389, in writefunc\n",
      "ValueError: max() arg is an empty sequence\n",
      "\n",
      "real\t93m3.141s\n",
      "user\t81m1.775s\n",
      "sys\t0m19.037s\n"
     ]
    }
   ],
   "source": [
    "%%bash\n",
    "time pyrad -p params.txt -s 1"
   ]
  },
  {
   "cell_type": "markdown",
   "metadata": {},
   "source": [
    "Hmmm, will re-run this since it seems to have failed..."
   ]
  },
  {
   "cell_type": "code",
   "execution_count": 21,
   "metadata": {
    "collapsed": false
   },
   "outputs": [
    {
     "name": "stdout",
     "output_type": "stream",
     "text": [
      "\n",
      "\tfastq/ directory in working directory contains data, move/remove it before running step 1\n",
      "\n"
     ]
    },
    {
     "name": "stderr",
     "output_type": "stream",
     "text": [
      "\n",
      "\n",
      "     ------------------------------------------------------------\n",
      "      pyRAD : RADseq for phylogenetics & introgression analyses\n",
      "     ------------------------------------------------------------\n",
      "\n",
      "\n",
      "real\t0m2.740s\n",
      "user\t0m0.304s\n",
      "sys\t0m0.115s\n"
     ]
    }
   ],
   "source": [
    "%%bash\n",
    "time pyrad -p params.txt -s 1"
   ]
  },
  {
   "cell_type": "code",
   "execution_count": 23,
   "metadata": {
    "collapsed": false
   },
   "outputs": [
    {
     "name": "stdout",
     "output_type": "stream",
     "text": [
      "/data/analysis/fastq\n"
     ]
    }
   ],
   "source": [
    "cd fastq/"
   ]
  },
  {
   "cell_type": "code",
   "execution_count": 25,
   "metadata": {
    "collapsed": true
   },
   "outputs": [],
   "source": [
    "ls"
   ]
  },
  {
   "cell_type": "code",
   "execution_count": 26,
   "metadata": {
    "collapsed": false
   },
   "outputs": [
    {
     "name": "stdout",
     "output_type": "stream",
     "text": [
      "/data/analysis\n"
     ]
    }
   ],
   "source": [
    "cd .."
   ]
  },
  {
   "cell_type": "code",
   "execution_count": 27,
   "metadata": {
    "collapsed": false
   },
   "outputs": [
    {
     "name": "stdout",
     "output_type": "stream",
     "text": [
      "160123_I132_FCH3YHMBBXX_L4_OYSzenG1AAD96FAAPEI-109_R1_.fq.gz  \u001b[0m\u001b[01;34mfastq\u001b[0m/\r\n",
      "160123_I132_FCH3YHMBBXX_L4_OYSzenG1AAD96FAAPEI-109_R2_.fq.gz  params.txt\r\n",
      "barcodes.txt                                                  \u001b[01;34mstats\u001b[0m/\r\n"
     ]
    }
   ],
   "source": [
    "ls"
   ]
  },
  {
   "cell_type": "code",
   "execution_count": 28,
   "metadata": {
    "collapsed": true
   },
   "outputs": [],
   "source": [
    "%%bash\n",
    "rm -rf fastq/"
   ]
  },
  {
   "cell_type": "code",
   "execution_count": 29,
   "metadata": {
    "collapsed": false
   },
   "outputs": [
    {
     "name": "stdout",
     "output_type": "stream",
     "text": [
      "160123_I132_FCH3YHMBBXX_L4_OYSzenG1AAD96FAAPEI-109_R1_.fq.gz  params.txt\r\n",
      "160123_I132_FCH3YHMBBXX_L4_OYSzenG1AAD96FAAPEI-109_R2_.fq.gz  \u001b[0m\u001b[01;34mstats\u001b[0m/\r\n",
      "barcodes.txt\r\n"
     ]
    }
   ],
   "source": [
    "ls"
   ]
  },
  {
   "cell_type": "code",
   "execution_count": null,
   "metadata": {
    "collapsed": true
   },
   "outputs": [],
   "source": [
    "%%bash\n",
    "time pyrad -p params.txt -s 1"
   ]
  },
  {
   "cell_type": "markdown",
   "metadata": {},
   "source": [
    "Jupyter kernel crased while this was running, so no output to screen. I used the ```top``` command to verify that pyrad was still running despite Jupyter being down. Let's look at some files to see what happened..."
   ]
  },
  {
   "cell_type": "code",
   "execution_count": 1,
   "metadata": {
    "collapsed": false
   },
   "outputs": [
    {
     "data": {
      "text/plain": [
       "u'/home/notebooks'"
      ]
     },
     "execution_count": 1,
     "metadata": {},
     "output_type": "execute_result"
    }
   ],
   "source": [
    "pwd"
   ]
  },
  {
   "cell_type": "code",
   "execution_count": 2,
   "metadata": {
    "collapsed": false
   },
   "outputs": [
    {
     "name": "stdout",
     "output_type": "stream",
     "text": [
      "/data/analysis\n"
     ]
    }
   ],
   "source": [
    "cd /data/analysis/"
   ]
  },
  {
   "cell_type": "code",
   "execution_count": 3,
   "metadata": {
    "collapsed": false
   },
   "outputs": [
    {
     "name": "stdout",
     "output_type": "stream",
     "text": [
      "file    \tNreads\tcut_found\tbar_matched\n",
      "\n",
      "\n",
      "sample\ttrue_bar\tobs_bars\tN_obs\n",
      "\n"
     ]
    }
   ],
   "source": [
    "%%bash\n",
    "head -n 100 stats/s1.sorting.txt"
   ]
  },
  {
   "cell_type": "code",
   "execution_count": 4,
   "metadata": {
    "collapsed": false
   },
   "outputs": [
    {
     "name": "stdout",
     "output_type": "stream",
     "text": [
      "160123_I132_FCH3YHMBBXX_L4_OYSzenG1AAD96FAAPEI-109_R1_.fq.gz  \u001b[0m\u001b[01;34mfastq\u001b[0m/\r\n",
      "160123_I132_FCH3YHMBBXX_L4_OYSzenG1AAD96FAAPEI-109_R2_.fq.gz  params.txt\r\n",
      "barcodes.txt                                                  \u001b[01;34mstats\u001b[0m/\r\n"
     ]
    }
   ],
   "source": [
    "ls"
   ]
  },
  {
   "cell_type": "code",
   "execution_count": 5,
   "metadata": {
    "collapsed": true
   },
   "outputs": [],
   "source": [
    "ls fastq/"
   ]
  },
  {
   "cell_type": "markdown",
   "metadata": {},
   "source": [
    "Guess it didn't complete..."
   ]
  },
  {
   "cell_type": "code",
   "execution_count": 6,
   "metadata": {
    "collapsed": false
   },
   "outputs": [
    {
     "name": "stdout",
     "output_type": "stream",
     "text": [
      "rmdir: failed to remove 'fastq/': Directory not empty\r\n"
     ]
    }
   ],
   "source": [
    "rmdir fastq/"
   ]
  },
  {
   "cell_type": "code",
   "execution_count": 7,
   "metadata": {
    "collapsed": false
   },
   "outputs": [
    {
     "name": "stdout",
     "output_type": "stream",
     "text": [
      "/data/analysis/fastq\n"
     ]
    }
   ],
   "source": [
    "cd fastq/"
   ]
  },
  {
   "cell_type": "code",
   "execution_count": 8,
   "metadata": {
    "collapsed": true
   },
   "outputs": [],
   "source": [
    "ls"
   ]
  },
  {
   "cell_type": "code",
   "execution_count": 9,
   "metadata": {
    "collapsed": true
   },
   "outputs": [],
   "source": [
    "rm -rf fastq/"
   ]
  },
  {
   "cell_type": "code",
   "execution_count": 10,
   "metadata": {
    "collapsed": true
   },
   "outputs": [],
   "source": [
    "ls"
   ]
  },
  {
   "cell_type": "code",
   "execution_count": 11,
   "metadata": {
    "collapsed": false
   },
   "outputs": [
    {
     "data": {
      "text/plain": [
       "u'/data/analysis/fastq'"
      ]
     },
     "execution_count": 11,
     "metadata": {},
     "output_type": "execute_result"
    }
   ],
   "source": [
    "pwd"
   ]
  },
  {
   "cell_type": "code",
   "execution_count": 12,
   "metadata": {
    "collapsed": false
   },
   "outputs": [
    {
     "name": "stdout",
     "output_type": "stream",
     "text": [
      "/data/analysis\n"
     ]
    }
   ],
   "source": [
    "cd .."
   ]
  },
  {
   "cell_type": "code",
   "execution_count": 13,
   "metadata": {
    "collapsed": true
   },
   "outputs": [],
   "source": [
    "rm -rf fastq/"
   ]
  },
  {
   "cell_type": "code",
   "execution_count": 14,
   "metadata": {
    "collapsed": false
   },
   "outputs": [
    {
     "name": "stdout",
     "output_type": "stream",
     "text": [
      "160123_I132_FCH3YHMBBXX_L4_OYSzenG1AAD96FAAPEI-109_R1_.fq.gz  params.txt\r\n",
      "160123_I132_FCH3YHMBBXX_L4_OYSzenG1AAD96FAAPEI-109_R2_.fq.gz  \u001b[0m\u001b[01;34mstats\u001b[0m/\r\n",
      "barcodes.txt\r\n"
     ]
    }
   ],
   "source": [
    "ls"
   ]
  },
  {
   "cell_type": "code",
   "execution_count": 15,
   "metadata": {
    "collapsed": false
   },
   "outputs": [
    {
     "name": "stdout",
     "output_type": "stream",
     "text": [
      "/data/analysis/stats\n"
     ]
    }
   ],
   "source": [
    "cd stats/"
   ]
  },
  {
   "cell_type": "code",
   "execution_count": 16,
   "metadata": {
    "collapsed": false
   },
   "outputs": [
    {
     "name": "stdout",
     "output_type": "stream",
     "text": [
      "s1.sorting.txt\r\n"
     ]
    }
   ],
   "source": [
    "ls"
   ]
  },
  {
   "cell_type": "code",
   "execution_count": 17,
   "metadata": {
    "collapsed": true
   },
   "outputs": [],
   "source": [
    "rm s1.sorting.txt"
   ]
  },
  {
   "cell_type": "code",
   "execution_count": 18,
   "metadata": {
    "collapsed": false
   },
   "outputs": [
    {
     "name": "stdout",
     "output_type": "stream",
     "text": [
      "/data/analysis\n"
     ]
    }
   ],
   "source": [
    "cd .."
   ]
  },
  {
   "cell_type": "code",
   "execution_count": 19,
   "metadata": {
    "collapsed": false
   },
   "outputs": [
    {
     "name": "stdout",
     "output_type": "stream",
     "text": [
      "\n",
      "\twarning: CUT site matches within one of the barcodes, I suggest double \n",
      "\tchecking the file to make sure it properly demultiplexes\n"
     ]
    },
    {
     "name": "stderr",
     "output_type": "stream",
     "text": [
      "\n",
      "\n",
      "     ------------------------------------------------------------\n",
      "      pyRAD : RADseq for phylogenetics & introgression analyses\n",
      "     ------------------------------------------------------------\n",
      "\n",
      "\n",
      "\tstep 1: sorting reads by barcode\n",
      "\t ./bin/cat: write error: No space left on device\n",
      "/bin/cat: write error: No space left on device\n",
      "/bin/cat: write error: No space left on device\n",
      "/bin/cat: write error: No space left on device\n",
      "/bin/cat: write error: No space left on device\n",
      "/bin/cat: write error: No space left on device\n",
      "/bin/cat: write error: No space left on device\n",
      "/bin/cat: write error: No space left on device\n",
      "/bin/cat: write error: No space left on device\n",
      "/bin/cat: write error: No space left on device\n",
      "/bin/cat: write error: No space left on device\n",
      "/bin/cat: write error: No space left on device\n",
      "/bin/cat: write error: No space left on device\n",
      "/bin/cat: write error: No space left on device\n",
      "/bin/cat: write error: No space left on device\n",
      "/bin/cat: write error: No space left on device\n",
      "/bin/cat: write error: No space left on device\n",
      "/bin/cat: write error: No space left on device\n",
      "/bin/cat: write error: No space left on device\n",
      "/bin/cat: write error: No space left on device\n",
      "/bin/cat: write error: No space left on device\n",
      "/bin/cat: write error: No space left on device\n",
      "/bin/cat: write error: No space left on device\n",
      "/bin/cat: write error: No space left on device\n",
      "/bin/cat: write error: No space left on device\n",
      "/bin/cat: write error: No space left on device\n",
      "/bin/cat: write error: No space left on device\n",
      "/bin/cat: write error: No space left on device\n",
      "/bin/cat: write error: No space left on device\n",
      "\n",
      "real\t911m11.266s\n",
      "user\t718m35.394s\n",
      "sys\t4m32.133s\n"
     ]
    }
   ],
   "source": [
    "%%bash\n",
    "time pyrad -p params.txt -s 1"
   ]
  },
  {
   "cell_type": "markdown",
   "metadata": {
    "collapsed": true
   },
   "source": [
    "Let's see if the de-multiplexing really failed or not. Based on the run time, it seems like things should be fine."
   ]
  },
  {
   "cell_type": "code",
   "execution_count": 1,
   "metadata": {
    "collapsed": false
   },
   "outputs": [
    {
     "name": "stdout",
     "output_type": "stream",
     "text": [
      "/data/analysis/fastq\n"
     ]
    }
   ],
   "source": [
    "cd /data/analysis/fastq/"
   ]
  },
  {
   "cell_type": "code",
   "execution_count": 2,
   "metadata": {
    "collapsed": false
   },
   "outputs": [
    {
     "name": "stdout",
     "output_type": "stream",
     "text": [
      "1HL_10A_R1.fq.gz  1HL_35A_R1.fq.gz  1NF_25A_R1.fq.gz  1SN_18A_R1.fq.gz\r\n",
      "1HL_10A_R2.fq.gz  1HL_35A_R2.fq.gz  1NF_25A_R2.fq.gz  1SN_18A_R2.fq.gz\r\n",
      "1HL_11A_R1.fq.gz  1HL_3A_R1.fq.gz   1NF_26A_R1.fq.gz  1SN_19A_R1.fq.gz\r\n",
      "1HL_11A_R2.fq.gz  1HL_3A_R2.fq.gz   1NF_26A_R2.fq.gz  1SN_19A_R2.fq.gz\r\n",
      "1HL_12A_R1.fq.gz  1HL_4A_R1.fq.gz   1NF_27A_R1.fq.gz  1SN_1A_R1.fq.gz\r\n",
      "1HL_12A_R2.fq.gz  1HL_4A_R2.fq.gz   1NF_27A_R2.fq.gz  1SN_1A_R2.fq.gz\r\n",
      "1HL_13A_R1.fq.gz  1HL_5A_R1.fq.gz   1NF_28A_R1.fq.gz  1SN_20A_R1.fq.gz\r\n",
      "1HL_13A_R2.fq.gz  1HL_5A_R2.fq.gz   1NF_28A_R2.fq.gz  1SN_20A_R2.fq.gz\r\n",
      "1HL_14A_R1.fq.gz  1HL_6A_R1.fq.gz   1NF_29A_R1.fq.gz  1SN_21A_R1.fq.gz\r\n",
      "1HL_14A_R2.fq.gz  1HL_6A_R2.fq.gz   1NF_29A_R2.fq.gz  1SN_21A_R2.fq.gz\r\n",
      "1HL_15A_R1.fq.gz  1HL_7A_R1.fq.gz   1NF_2A_R1.fq.gz   1SN_22A_R1.fq.gz\r\n",
      "1HL_15A_R2.fq.gz  1HL_7A_R2.fq.gz   1NF_2A_R2.fq.gz   1SN_22A_R2.fq.gz\r\n",
      "1HL_16A_R1.fq.gz  1HL_8A_R1.fq.gz   1NF_30A_R1.fq.gz  1SN_23A_R1.fq.gz\r\n",
      "1HL_16A_R2.fq.gz  1HL_8A_R2.fq.gz   1NF_30A_R2.fq.gz  1SN_23A_R2.fq.gz\r\n",
      "1HL_17A_R1.fq.gz  1HL_9A_R1.fq.gz   1NF_31A_R1.fq.gz  1SN_24A_R1.fq.gz\r\n",
      "1HL_17A_R2.fq.gz  1HL_9A_R2.fq.gz   1NF_31A_R2.fq.gz  1SN_24A_R2.fq.gz\r\n",
      "1HL_19A_R1.fq.gz  1NF_10A_R1.fq.gz  1NF_32A_R1.fq.gz  1SN_25A_R1.fq.gz\r\n",
      "1HL_19A_R2.fq.gz  1NF_10A_R2.fq.gz  1NF_32A_R2.fq.gz  1SN_25A_R2.fq.gz\r\n",
      "1HL_1A_R1.fq.gz   1NF_11A_R1.fq.gz  1NF_33A_R1.fq.gz  1SN_26A_R1.fq.gz\r\n",
      "1HL_1A_R2.fq.gz   1NF_11A_R2.fq.gz  1NF_33A_R2.fq.gz  1SN_26A_R2.fq.gz\r\n",
      "1HL_20A_R1.fq.gz  1NF_12A_R1.fq.gz  1NF_4A_R1.fq.gz   1SN_27A_R1.fq.gz\r\n",
      "1HL_20A_R2.fq.gz  1NF_12A_R2.fq.gz  1NF_4A_R2.fq.gz   1SN_27A_R2.fq.gz\r\n",
      "1HL_21A_R1.fq.gz  1NF_13A_R1.fq.gz  1NF_5A_R1.fq.gz   1SN_28A_R1.fq.gz\r\n",
      "1HL_21A_R2.fq.gz  1NF_13A_R2.fq.gz  1NF_5A_R2.fq.gz   1SN_28A_R2.fq.gz\r\n",
      "1HL_22A_R1.fq.gz  1NF_14A_R1.fq.gz  1NF_6A_R1.fq.gz   1SN_29A_R1.fq.gz\r\n",
      "1HL_22A_R2.fq.gz  1NF_14A_R2.fq.gz  1NF_6A_R2.fq.gz   1SN_29A_R2.fq.gz\r\n",
      "1HL_23A_R1.fq.gz  1NF_15A_R1.fq.gz  1NF_7A_R1.fq.gz   1SN_2A_R1.fq.gz\r\n",
      "1HL_23A_R2.fq.gz  1NF_15A_R2.fq.gz  1NF_7A_R2.fq.gz   1SN_2A_R2.fq.gz\r\n",
      "1HL_24A_R1.fq.gz  1NF_16A_R1.fq.gz  1NF_8A_R1.fq.gz   1SN_30A_R1.fq.gz\r\n",
      "1HL_24A_R2.fq.gz  1NF_16A_R2.fq.gz  1NF_8A_R2.fq.gz   1SN_30A_R2.fq.gz\r\n",
      "1HL_25A_R1.fq.gz  1NF_17A_R1.fq.gz  1NF_9A_R1.fq.gz   1SN_31A_R1.fq.gz\r\n",
      "1HL_25A_R2.fq.gz  1NF_17A_R2.fq.gz  1NF_9A_R2.fq.gz   1SN_31A_R2.fq.gz\r\n",
      "1HL_26A_R1.fq.gz  1NF_18A_R1.fq.gz  1SN_10A_R1.fq.gz  1SN_32A_R1.fq.gz\r\n",
      "1HL_26A_R2.fq.gz  1NF_18A_R2.fq.gz  1SN_10A_R2.fq.gz  1SN_32A_R2.fq.gz\r\n",
      "1HL_27A_R1.fq.gz  1NF_19A_R1.fq.gz  1SN_11A_R1.fq.gz  1SN_3A_R1.fq.gz\r\n",
      "1HL_27A_R2.fq.gz  1NF_19A_R2.fq.gz  1SN_11A_R2.fq.gz  1SN_3A_R2.fq.gz\r\n",
      "1HL_28A_R1.fq.gz  1NF_1A_R1.fq.gz   1SN_12A_R1.fq.gz  1SN_4A_R1.fq.gz\r\n",
      "1HL_28A_R2.fq.gz  1NF_1A_R2.fq.gz   1SN_12A_R2.fq.gz  1SN_4A_R2.fq.gz\r\n",
      "1HL_29A_R1.fq.gz  1NF_20A_R1.fq.gz  1SN_13A_R1.fq.gz  1SN_5A_R1.fq.gz\r\n",
      "1HL_29A_R2.fq.gz  1NF_20A_R2.fq.gz  1SN_13A_R2.fq.gz  1SN_5A_R2.fq.gz\r\n",
      "1HL_2A_R1.fq.gz   1NF_21A_R1.fq.gz  1SN_14A_R1.fq.gz  1SN_6A_R1.fq.gz\r\n",
      "1HL_2A_R2.fq.gz   1NF_21A_R2.fq.gz  1SN_14A_R2.fq.gz  1SN_6A_R2.fq.gz\r\n",
      "1HL_31A_R1.fq.gz  1NF_22A_R1.fq.gz  1SN_15A_R1.fq.gz  1SN_7A_R1.fq.gz\r\n",
      "1HL_31A_R2.fq.gz  1NF_22A_R2.fq.gz  1SN_15A_R2.fq.gz  1SN_7A_R2.fq.gz\r\n",
      "1HL_33A_R1.fq.gz  1NF_23A_R1.fq.gz  1SN_16A_R1.fq.gz  1SN_8A_R1.fq.gz\r\n",
      "1HL_33A_R2.fq.gz  1NF_23A_R2.fq.gz  1SN_16A_R2.fq.gz  1SN_8A_R2.fq.gz\r\n",
      "1HL_34A_R1.fq.gz  1NF_24A_R1.fq.gz  1SN_17A_R1.fq.gz  1SN_9A_R1.fq.gz\r\n",
      "1HL_34A_R2.fq.gz  1NF_24A_R2.fq.gz  1SN_17A_R2.fq.gz  1SN_9A_R2.fq.gz\r\n"
     ]
    }
   ],
   "source": [
    "ls"
   ]
  },
  {
   "cell_type": "code",
   "execution_count": 3,
   "metadata": {
    "collapsed": false
   },
   "outputs": [
    {
     "name": "stdout",
     "output_type": "stream",
     "text": [
      "192\r\n"
     ]
    }
   ],
   "source": [
    "ls -1 | wc -l"
   ]
  },
  {
   "cell_type": "markdown",
   "metadata": {},
   "source": [
    "Correct number of files were produced from demultiplexing, so things look good on that front. Let's just glance at the stats file to see what it looks like...\n",
    "\n",
    "NOTE: Bash trick above. The ls command above is using the number one (1), NOT lowercase L (l). This provides an accurate line count when you pipe the output to the word count command (wc)."
   ]
  },
  {
   "cell_type": "code",
   "execution_count": 4,
   "metadata": {
    "collapsed": false
   },
   "outputs": [
    {
     "name": "stdout",
     "output_type": "stream",
     "text": [
      "file    \tNreads\tcut_found\tbar_matched\n",
      "160123_I132_FCH3YHMBBXX_L4_OYSzenG1AAD96FAAPEI-109_.fq.gz\t364261046\t355811046\t354725421\n",
      "\n",
      "\n",
      "sample\ttrue_bar\tobs_bars\tN_obs\n",
      "1SN_27A    \tAAAAGTT    \tAAAAGTT\t3325108   \n",
      "1SN_27A    \tAAAAGTT    \tNAAAGTT\t8330      \n",
      "1SN_27A    \tAAAAGTT    \tAAAAATT\t4748      \n",
      "1SN_27A    \tAAAAGTT    \tANAAGTT\t1455      \n",
      "1SN_27A    \tAAAAGTT    \tAAAATTT\t782       \n"
     ]
    }
   ],
   "source": [
    "%%bash\n",
    "head ../stats/s1.sorting.txt"
   ]
  },
  {
   "cell_type": "markdown",
   "metadata": {},
   "source": [
    "Things look OK to me. Next step!"
   ]
  },
  {
   "cell_type": "markdown",
   "metadata": {},
   "source": [
    "### Merge paired-reads\n",
    "\n",
    "The first thing we have to do is unzip the reads if they are gzipped. If you demultiplexed your data in pyrad they will be in the fastq/ directory."
   ]
  },
  {
   "cell_type": "code",
   "execution_count": 5,
   "metadata": {
    "collapsed": false
   },
   "outputs": [
    {
     "name": "stderr",
     "output_type": "stream",
     "text": [
      "\n",
      "gzip: /data/analysis/fastq/1HL_19A_R2.fq.gz: unexpected end of file\n",
      "\n",
      "real\t52m44.818s\n",
      "user\t1m24.977s\n",
      "sys\t0m13.352s\n"
     ]
    }
   ],
   "source": [
    "%%bash\n",
    "time gunzip /data/analysis/fastq/*.fq.gz"
   ]
  },
  {
   "cell_type": "code",
   "execution_count": 7,
   "metadata": {
    "collapsed": false
   },
   "outputs": [
    {
     "name": "stderr",
     "output_type": "stream",
     "text": [
      "\n",
      "real\t25m34.538s\n",
      "user\t71m32.940s\n",
      "sys\t0m17.129s\n"
     ]
    }
   ],
   "source": [
    "%%bash\n",
    "time for gfile in /data/analysis/fastq/*_R1.fq;\n",
    "    do /usr/local/bioinformatics/pear-0.9.6-bin-64/pear-0.9.6-bin-64 -f $gfile \\\n",
    "            -r ${gfile/_R1.fq/_R2.fq} \\\n",
    "            -o ${gfile/_R1.fq/} \\\n",
    "            -n 33 \\\n",
    "            -t 33 \\\n",
    "            -q 10 \\\n",
    "            -j 20  >> pear.log 2>&1;\n",
    "done"
   ]
  },
  {
   "cell_type": "markdown",
   "metadata": {},
   "source": [
    "#### Set the data location to the de-multiplexed & merged data"
   ]
  },
  {
   "cell_type": "code",
   "execution_count": 8,
   "metadata": {
    "collapsed": true
   },
   "outputs": [],
   "source": [
    "%%bash\n",
    "## set location of demultiplexed data that are 'pear' filtered\n",
    "sed -i '/## 18./c\\/data/analysis/fastq/*.assembled.fastq ## 18. demulti data loc ' /data/analysis/params.txt"
   ]
  },
  {
   "cell_type": "code",
   "execution_count": 9,
   "metadata": {
    "collapsed": false
   },
   "outputs": [
    {
     "name": "stdout",
     "output_type": "stream",
     "text": [
      "==** parameter inputs for pyRAD version 3.0.66  **======================== affected step ==\r\n",
      "/data/analysis/                     ## 1. Working directory                                 (all)\r\n",
      "/data/analysis/             \t       ## 2. Loc. of non-demultiplexed files (if not line 18)  (s1)\r\n",
      "/data/analysis/barcodes.txt\t               ## 3. Loc. of barcode file (if not line 18)             (s1)\r\n",
      "/usr/local/bioinformatics/vsearch-1.11.1-linux-x86_64/bin/vsearch                ## 4. command (or path) to call vsearch (or usearch)    (s3,s6)\r\n",
      "/usr/local/bioinformatics/muscle3.8.31_i86linux64                    ## 5. command (or path) to call muscle                  (s3,s7)\r\n",
      "CWGC                   ## 6. Restriction overhang (e.g., C|TGCAG -> TGCAG)     (s1,s2)\r\n",
      "16                     ## 7. N processors (parallel)                           (all)\r\n",
      "6                      ## 8. Mindepth: min coverage for a cluster              (s4,s5)\r\n",
      "4                      ## 9. NQual: max # sites with qual < 20 (or see line 20)(s2)\r\n",
      ".88                    ## 10. Wclust: clustering threshold as a decimal        (s3,s6)\r\n",
      "pairgbs                 ## 11. Datatype: rad,gbs,pairgbs,pairddrad,(others:see docs)(all)\r\n",
      "4                      ## 12. MinCov: min samples in a final locus             (s7)\r\n",
      "3                      ## 13. MaxSH: max inds with shared hetero site          (s7)\r\n",
      "oly_gbs_pyrad          ## 14. Prefix name for final output (no spaces)         (s7)\r\n",
      "==== optional params below this line ===================================  affected step ==\r\n",
      "                       ## 15.opt.: select subset (prefix* only selector)            (s2-s7)\r\n",
      "                       ## 16.opt.: add-on (outgroup) taxa (list or prefix*)         (s6,s7)\r\n",
      "                       ## 17.opt.: exclude taxa (list or prefix*)                   (s7)\r\n",
      "/data/analysis/fastq/*.assembled.fastq ## 18. demulti data loc \r\n",
      "                       ## 19.opt.: maxM: N mismatches in barcodes (def= 1)          (s1)\r\n",
      "                       ## 20.opt.: phred Qscore offset (def= 33)                    (s2)\r\n",
      "2                      ## 21.opt.: filter: def=0=NQual 1=NQual+adapters. 2=strict   (s2)\r\n",
      "                       ## 22.opt.: a priori E,H (def= 0.001,0.01, if not estimated) (s5)\r\n",
      "4                      ## 23.opt.: maxN: max Ns in a cons seq (def=5)               (s5)\r\n",
      "8                      ## 24.opt.: maxH: max heterozyg. sites in cons seq (def=5)   (s5)\r\n",
      "                       ## 25.opt.: ploidy: max alleles in cons seq (def=2;see docs) (s4,s5)\r\n",
      "                       ## 26.opt.: maxSNPs: (def=100). Paired (def=100,100)         (s7)\r\n",
      "                       ## 27.opt.: maxIndels: within-clust,across-clust (def. 3,99) (s3,s7)\r\n",
      "                       ## 28.opt.: random number seed (def. 112233)              (s3,s6,s7)\r\n",
      "                       ## 29.opt.: trim overhang left,right on final loci, def(0,0) (s7)\r\n",
      "*                      ## 30.opt.: output formats: p,n,a,s,v,u,t,m,k,g,* (see docs) (s7)\r\n",
      "                       ## 31.opt.: maj. base call at depth>x<mindepth (def.x=mindepth) (s5)\r\n",
      "50                     ## 32.opt.: keep trimmed reads (def=0). Enter min length.    (s2)\r\n",
      "                       ## 33.opt.: max stack size (int), def= max(500,mean+2*SD)    (s3)\r\n",
      "                       ## 34.opt.: minDerep: exclude dereps with <= N copies, def=1 (s3)\r\n",
      "                       ## 35.opt.: use hierarchical clustering (def.=0, 1=yes)      (s6)\r\n",
      "                       ## 36.opt.: repeat masking (def.=1='dust' method, 0=no)      (s3,s6)\r\n",
      "16                     ## 37.opt.: vsearch max threads per job (def.=6; see docs)   (s3,s6)\r\n",
      "==== optional: list group/clade assignments below this line (see docs) ==================\r\n",
      "1HL\t5\t1HL*\r\n",
      "1NF\t5\t1NF*\r\n",
      "1SN\t5\t1SN*\r\n"
     ]
    }
   ],
   "source": [
    "cat /data/analysis/params.txt"
   ]
  },
  {
   "cell_type": "markdown",
   "metadata": {},
   "source": [
    "#### Set the datatype to \"merged\""
   ]
  },
  {
   "cell_type": "code",
   "execution_count": 10,
   "metadata": {
    "collapsed": true
   },
   "outputs": [],
   "source": [
    "%%bash\n",
    "sed -i '/## 11./c\\merged            ## 11. data type ' /data/analysis/params.txt"
   ]
  },
  {
   "cell_type": "code",
   "execution_count": 11,
   "metadata": {
    "collapsed": false
   },
   "outputs": [
    {
     "name": "stdout",
     "output_type": "stream",
     "text": [
      "==** parameter inputs for pyRAD version 3.0.66  **======================== affected step ==\n",
      "/data/analysis/                     ## 1. Working directory                                 (all)\n",
      "/data/analysis/             \t       ## 2. Loc. of non-demultiplexed files (if not line 18)  (s1)\n",
      "/data/analysis/barcodes.txt\t               ## 3. Loc. of barcode file (if not line 18)             (s1)\n",
      "/usr/local/bioinformatics/vsearch-1.11.1-linux-x86_64/bin/vsearch                ## 4. command (or path) to call vsearch (or usearch)    (s3,s6)\n",
      "/usr/local/bioinformatics/muscle3.8.31_i86linux64                    ## 5. command (or path) to call muscle                  (s3,s7)\n",
      "CWGC                   ## 6. Restriction overhang (e.g., C|TGCAG -> TGCAG)     (s1,s2)\n",
      "16                     ## 7. N processors (parallel)                           (all)\n",
      "6                      ## 8. Mindepth: min coverage for a cluster              (s4,s5)\n",
      "4                      ## 9. NQual: max # sites with qual < 20 (or see line 20)(s2)\n",
      ".88                    ## 10. Wclust: clustering threshold as a decimal        (s3,s6)\n",
      "merged            ## 11. data type \n",
      "4                      ## 12. MinCov: min samples in a final locus             (s7)\n",
      "3                      ## 13. MaxSH: max inds with shared hetero site          (s7)\n",
      "oly_gbs_pyrad          ## 14. Prefix name for final output (no spaces)         (s7)\n",
      "==== optional params below this line ===================================  affected step ==\n",
      "                       ## 15.opt.: select subset (prefix* only selector)            (s2-s7)\n",
      "                       ## 16.opt.: add-on (outgroup) taxa (list or prefix*)         (s6,s7)\n",
      "                       ## 17.opt.: exclude taxa (list or prefix*)                   (s7)\n",
      "/data/analysis/fastq/*.assembled.fastq ## 18. demulti data loc \n",
      "                       ## 19.opt.: maxM: N mismatches in barcodes (def= 1)          (s1)\n",
      "                       ## 20.opt.: phred Qscore offset (def= 33)                    (s2)\n",
      "2                      ## 21.opt.: filter: def=0=NQual 1=NQual+adapters. 2=strict   (s2)\n",
      "                       ## 22.opt.: a priori E,H (def= 0.001,0.01, if not estimated) (s5)\n",
      "4                      ## 23.opt.: maxN: max Ns in a cons seq (def=5)               (s5)\n",
      "8                      ## 24.opt.: maxH: max heterozyg. sites in cons seq (def=5)   (s5)\n",
      "                       ## 25.opt.: ploidy: max alleles in cons seq (def=2;see docs) (s4,s5)\n",
      "                       ## 26.opt.: maxSNPs: (def=100). Paired (def=100,100)         (s7)\n",
      "                       ## 27.opt.: maxIndels: within-clust,across-clust (def. 3,99) (s3,s7)\n",
      "                       ## 28.opt.: random number seed (def. 112233)              (s3,s6,s7)\n",
      "                       ## 29.opt.: trim overhang left,right on final loci, def(0,0) (s7)\n",
      "*                      ## 30.opt.: output formats: p,n,a,s,v,u,t,m,k,g,* (see docs) (s7)\n",
      "                       ## 31.opt.: maj. base call at depth>x<mindepth (def.x=mindepth) (s5)\n",
      "50                     ## 32.opt.: keep trimmed reads (def=0). Enter min length.    (s2)\n",
      "                       ## 33.opt.: max stack size (int), def= max(500,mean+2*SD)    (s3)\n",
      "                       ## 34.opt.: minDerep: exclude dereps with <= N copies, def=1 (s3)\n",
      "                       ## 35.opt.: use hierarchical clustering (def.=0, 1=yes)      (s6)\n",
      "                       ## 36.opt.: repeat masking (def.=1='dust' method, 0=no)      (s3,s6)\n",
      "16                     ## 37.opt.: vsearch max threads per job (def.=6; see docs)   (s3,s6)\n",
      "==== optional: list group/clade assignments below this line (see docs) ==================\n",
      "1HL\t5\t1HL*\n",
      "1NF\t5\t1NF*\n",
      "1SN\t5\t1SN*\n"
     ]
    }
   ],
   "source": [
    "%%bash\n",
    "cat /data/analysis/params.txt"
   ]
  },
  {
   "cell_type": "markdown",
   "metadata": {},
   "source": [
    "### Step 2: Quality filtering"
   ]
  },
  {
   "cell_type": "code",
   "execution_count": 14,
   "metadata": {
    "collapsed": false
   },
   "outputs": [
    {
     "name": "stderr",
     "output_type": "stream",
     "text": [
      "\n",
      "\n",
      "     ------------------------------------------------------------\n",
      "      pyRAD : RADseq for phylogenetics & introgression analyses\n",
      "     ------------------------------------------------------------\n",
      "\n",
      "\tsorted .fastq from /data/analysis/fastq/*.assembled.fastq being used\n",
      "\tstep 2: editing raw reads \n",
      "\t........\n",
      "real\t14m52.577s\n",
      "user\t39m28.511s\n",
      "sys\t0m7.845s\n"
     ]
    }
   ],
   "source": [
    "%%bash\n",
    "time pyrad -p /data/analysis/params.txt -s 2"
   ]
  },
  {
   "cell_type": "markdown",
   "metadata": {},
   "source": [
    "#### Let's take a look at the results"
   ]
  },
  {
   "cell_type": "code",
   "execution_count": 1,
   "metadata": {
    "collapsed": false
   },
   "outputs": [
    {
     "name": "stdout",
     "output_type": "stream",
     "text": [
      "sample \tNreads\tpassed\tpassed.w.trim\tpassed.total\n",
      "1HL_10A.assembled\t2890999\t2127357\t214294\t2341651\n",
      "1HL_11A.assembled\t3088425\t2242089\t246561\t2488650\n",
      "1HL_12A.assembled\t2323231\t1728934\t163227\t1892161\n",
      "1HL_13A.assembled\t2701305\t2075000\t175929\t2250929\n",
      "1HL_14A.assembled\t1865526\t1407146\t129089\t1536235\n",
      "1HL_15A.assembled\t1837684\t1342114\t139898\t1482012\n",
      "1HL_16A.assembled\t2100838\t1568118\t147901\t1716019\n",
      "1HL_17A.assembled\t3106139\t2259592\t237499\t2497091\n",
      "\n",
      "    Nreads = total number of reads for a sample\n",
      "    passed = retained reads that passed quality filtering at full length\n",
      "    passed.w.trim= retained reads that were trimmed due to detection of adapters\n",
      "    passed.total  = total kept reads of sufficient length\n",
      "    note: you can set the option in params file to include trimmed reads of xx length. \n"
     ]
    }
   ],
   "source": [
    "%%bash\n",
    "cat /data/analysis/stats/s2.rawedit.txt"
   ]
  },
  {
   "cell_type": "markdown",
   "metadata": {},
   "source": [
    "### Step 3: Clustering"
   ]
  },
  {
   "cell_type": "code",
   "execution_count": 2,
   "metadata": {
    "collapsed": false
   },
   "outputs": [
    {
     "name": "stderr",
     "output_type": "stream",
     "text": [
      "\n",
      "\n",
      "     ------------------------------------------------------------\n",
      "      pyRAD : RADseq for phylogenetics & introgression analyses\n",
      "     ------------------------------------------------------------\n",
      "\n",
      "\n",
      "\tde-replicating files for clustering...\n",
      "\n",
      "\tstep 3: within-sample clustering of 8 samples at \n",
      "\t        '.88' similarity. Running 8 parallel jobs\n",
      "\t \twith up to 16 threads per job. If needed, \n",
      "\t\tadjust to avoid CPU and MEM limits\n",
      "\n",
      "Process Worker-3:\n",
      "Traceback (most recent call last):\n",
      "  File \"/usr/lib/python2.7/multiprocessing/process.py\", line 258, in _bootstrap\n",
      "    self.run()\n",
      "  File \"build/bdist.linux-x86_64/egg/pyrad/potpour.py\", line 31, in run\n",
      "    res = self.func(*job)\n",
      "  File \"build/bdist.linux-x86_64/egg/pyrad/cluster7dp.py\", line 545, in final\n",
      "    alignwrap(outfolder+\"/\"+handle.split(\"/\")[-1].replace(\".edit\",\".clust.gz\"), mindepth, muscle, w1)\n",
      "  File \"build/bdist.linux-x86_64/egg/pyrad/cluster7dp.py\", line 415, in alignwrap\n",
      "    stringnames = alignfast(names[0:200],seqs[0:200],muscle)\n",
      "  File \"build/bdist.linux-x86_64/egg/pyrad/cluster7dp.py\", line 301, in alignfast\n",
      "    stdout=subprocess.PIPE, stderr=subprocess.STDOUT, close_fds=True)\n",
      "  File \"/usr/lib/python2.7/subprocess.py\", line 710, in __init__\n",
      "    errread, errwrite)\n",
      "  File \"/usr/lib/python2.7/subprocess.py\", line 1231, in _execute_child\n",
      "    self.pid = os.fork()\n",
      "OSError: [Errno 12] Cannot allocate memory\n",
      "Process Worker-8:\n",
      "Traceback (most recent call last):\n",
      "  File \"/usr/lib/python2.7/multiprocessing/process.py\", line 258, in _bootstrap\n",
      "    self.run()\n",
      "  File \"build/bdist.linux-x86_64/egg/pyrad/potpour.py\", line 31, in run\n",
      "    res = self.func(*job)\n",
      "  File \"build/bdist.linux-x86_64/egg/pyrad/cluster7dp.py\", line 545, in final\n",
      "    alignwrap(outfolder+\"/\"+handle.split(\"/\")[-1].replace(\".edit\",\".clust.gz\"), mindepth, muscle, w1)\n",
      "  File \"build/bdist.linux-x86_64/egg/pyrad/cluster7dp.py\", line 415, in alignwrap\n",
      "    stringnames = alignfast(names[0:200],seqs[0:200],muscle)\n",
      "  File \"build/bdist.linux-x86_64/egg/pyrad/cluster7dp.py\", line 301, in alignfast\n",
      "    stdout=subprocess.PIPE, stderr=subprocess.STDOUT, close_fds=True)\n",
      "  File \"/usr/lib/python2.7/subprocess.py\", line 710, in __init__\n",
      "    errread, errwrite)\n",
      "  File \"/usr/lib/python2.7/subprocess.py\", line 1231, in _execute_child\n",
      "    self.pid = os.fork()\n",
      "OSError: [Errno 12] Cannot allocate memory\n",
      "Process Worker-16:\n",
      "Traceback (most recent call last):\n",
      "  File \"/usr/lib/python2.7/multiprocessing/process.py\", line 258, in _bootstrap\n",
      "    self.run()\n",
      "  File \"build/bdist.linux-x86_64/egg/pyrad/potpour.py\", line 31, in run\n",
      "    res = self.func(*job)\n",
      "  File \"build/bdist.linux-x86_64/egg/pyrad/cluster7dp.py\", line 545, in final\n",
      "    alignwrap(outfolder+\"/\"+handle.split(\"/\")[-1].replace(\".edit\",\".clust.gz\"), mindepth, muscle, w1)\n",
      "  File \"build/bdist.linux-x86_64/egg/pyrad/cluster7dp.py\", line 415, in alignwrap\n",
      "    stringnames = alignfast(names[0:200],seqs[0:200],muscle)\n",
      "  File \"build/bdist.linux-x86_64/egg/pyrad/cluster7dp.py\", line 301, in alignfast\n",
      "    stdout=subprocess.PIPE, stderr=subprocess.STDOUT, close_fds=True)\n",
      "  File \"/usr/lib/python2.7/subprocess.py\", line 710, in __init__\n",
      "    errread, errwrite)\n",
      "  File \"/usr/lib/python2.7/subprocess.py\", line 1231, in _execute_child\n",
      "    self.pid = os.fork()\n",
      "OSError: [Errno 12] Cannot allocate memory\n",
      "Process Worker-9:\n",
      "Traceback (most recent call last):\n",
      "  File \"/usr/lib/python2.7/multiprocessing/process.py\", line 258, in _bootstrap\n",
      "    self.run()\n",
      "  File \"build/bdist.linux-x86_64/egg/pyrad/potpour.py\", line 31, in run\n",
      "    res = self.func(*job)\n",
      "  File \"build/bdist.linux-x86_64/egg/pyrad/cluster7dp.py\", line 545, in final\n",
      "    alignwrap(outfolder+\"/\"+handle.split(\"/\")[-1].replace(\".edit\",\".clust.gz\"), mindepth, muscle, w1)\n",
      "  File \"build/bdist.linux-x86_64/egg/pyrad/cluster7dp.py\", line 415, in alignwrap\n",
      "    stringnames = alignfast(names[0:200],seqs[0:200],muscle)\n",
      "  File \"build/bdist.linux-x86_64/egg/pyrad/cluster7dp.py\", line 301, in alignfast\n",
      "    stdout=subprocess.PIPE, stderr=subprocess.STDOUT, close_fds=True)\n",
      "  File \"/usr/lib/python2.7/subprocess.py\", line 710, in __init__\n",
      "    errread, errwrite)\n",
      "  File \"/usr/lib/python2.7/subprocess.py\", line 1231, in _execute_child\n",
      "    self.pid = os.fork()\n",
      "OSError: [Errno 12] Cannot allocate memory\n",
      "Process Worker-13:\n",
      "Traceback (most recent call last):\n",
      "  File \"/usr/lib/python2.7/multiprocessing/process.py\", line 258, in _bootstrap\n",
      "    self.run()\n",
      "  File \"build/bdist.linux-x86_64/egg/pyrad/potpour.py\", line 31, in run\n",
      "    res = self.func(*job)\n",
      "  File \"build/bdist.linux-x86_64/egg/pyrad/cluster7dp.py\", line 545, in final\n",
      "    alignwrap(outfolder+\"/\"+handle.split(\"/\")[-1].replace(\".edit\",\".clust.gz\"), mindepth, muscle, w1)\n",
      "  File \"build/bdist.linux-x86_64/egg/pyrad/cluster7dp.py\", line 415, in alignwrap\n",
      "    stringnames = alignfast(names[0:200],seqs[0:200],muscle)\n",
      "  File \"build/bdist.linux-x86_64/egg/pyrad/cluster7dp.py\", line 301, in alignfast\n",
      "    stdout=subprocess.PIPE, stderr=subprocess.STDOUT, close_fds=True)\n",
      "  File \"/usr/lib/python2.7/subprocess.py\", line 710, in __init__\n",
      "    errread, errwrite)\n",
      "  File \"/usr/lib/python2.7/subprocess.py\", line 1231, in _execute_child\n",
      "    self.pid = os.fork()\n",
      "OSError: [Errno 12] Cannot allocate memory\n",
      "Process Worker-14:\n",
      "Traceback (most recent call last):\n",
      "  File \"/usr/lib/python2.7/multiprocessing/process.py\", line 258, in _bootstrap\n",
      "    self.run()\n",
      "  File \"build/bdist.linux-x86_64/egg/pyrad/potpour.py\", line 31, in run\n",
      "    res = self.func(*job)\n",
      "  File \"build/bdist.linux-x86_64/egg/pyrad/cluster7dp.py\", line 538, in final\n",
      "    makederepclust(outfolder, handle, w1, datatype)\n",
      "  File \"build/bdist.linux-x86_64/egg/pyrad/cluster7dp.py\", line 40, in makederepclust\n",
      "    line[5] = re.sub(\"\\..*\\n\",\"\\n\", line[5])\n",
      "IndexError: list index out of range\n",
      "Process Worker-11:\n",
      "Traceback (most recent call last):\n",
      "  File \"/usr/lib/python2.7/multiprocessing/process.py\", line 258, in _bootstrap\n",
      "    self.run()\n",
      "  File \"build/bdist.linux-x86_64/egg/pyrad/potpour.py\", line 31, in run\n",
      "    res = self.func(*job)\n",
      "  File \"build/bdist.linux-x86_64/egg/pyrad/cluster7dp.py\", line 545, in final\n",
      "    alignwrap(outfolder+\"/\"+handle.split(\"/\")[-1].replace(\".edit\",\".clust.gz\"), mindepth, muscle, w1)\n",
      "  File \"build/bdist.linux-x86_64/egg/pyrad/cluster7dp.py\", line 415, in alignwrap\n",
      "    stringnames = alignfast(names[0:200],seqs[0:200],muscle)\n",
      "  File \"build/bdist.linux-x86_64/egg/pyrad/cluster7dp.py\", line 301, in alignfast\n",
      "    stdout=subprocess.PIPE, stderr=subprocess.STDOUT, close_fds=True)\n",
      "  File \"/usr/lib/python2.7/subprocess.py\", line 710, in __init__\n",
      "    errread, errwrite)\n",
      "  File \"/usr/lib/python2.7/subprocess.py\", line 1231, in _execute_child\n",
      "    self.pid = os.fork()\n",
      "OSError: [Errno 12] Cannot allocate memory\n",
      "Process Worker-4:\n",
      "Traceback (most recent call last):\n",
      "  File \"/usr/lib/python2.7/multiprocessing/process.py\", line 258, in _bootstrap\n",
      "    self.run()\n",
      "  File \"build/bdist.linux-x86_64/egg/pyrad/potpour.py\", line 31, in run\n",
      "    res = self.func(*job)\n",
      "  File \"build/bdist.linux-x86_64/egg/pyrad/cluster7dp.py\", line 545, in final\n",
      "    alignwrap(outfolder+\"/\"+handle.split(\"/\")[-1].replace(\".edit\",\".clust.gz\"), mindepth, muscle, w1)\n",
      "  File \"build/bdist.linux-x86_64/egg/pyrad/cluster7dp.py\", line 415, in alignwrap\n",
      "    stringnames = alignfast(names[0:200],seqs[0:200],muscle)\n",
      "  File \"build/bdist.linux-x86_64/egg/pyrad/cluster7dp.py\", line 301, in alignfast\n",
      "    stdout=subprocess.PIPE, stderr=subprocess.STDOUT, close_fds=True)\n",
      "  File \"/usr/lib/python2.7/subprocess.py\", line 710, in __init__\n",
      "    errread, errwrite)\n",
      "  File \"/usr/lib/python2.7/subprocess.py\", line 1231, in _execute_child\n",
      "    self.pid = os.fork()\n",
      "OSError: [Errno 12] Cannot allocate memory\n",
      "Traceback (most recent call last):\n",
      "  File \"/usr/local/bin/pyrad\", line 9, in <module>\n",
      "    load_entry_point('pyrad==3.0.66', 'console_scripts', 'pyrad')()\n",
      "  File \"build/bdist.linux-x86_64/egg/pyrad/pyRAD.py\", line 340, in main\n",
      "  File \"build/bdist.linux-x86_64/egg/pyrad/cluster7dp.py\", line 721, in main\n",
      "  File \"/usr/lib/python2.7/subprocess.py\", line 522, in call\n",
      "    return Popen(*popenargs, **kwargs).wait()\n",
      "  File \"/usr/lib/python2.7/subprocess.py\", line 710, in __init__\n",
      "    errread, errwrite)\n",
      "  File \"/usr/lib/python2.7/subprocess.py\", line 1231, in _execute_child\n",
      "    self.pid = os.fork()\n",
      "OSError: [Errno 12] Cannot allocate memory\n",
      "\n",
      "real\t38m28.984s\n",
      "user\t138m32.476s\n",
      "sys\t8m13.640s\n"
     ]
    }
   ],
   "source": [
    "%%bash\n",
    "time pyrad -p /data/analysis/params.txt -s 3"
   ]
  },
  {
   "cell_type": "markdown",
   "metadata": {},
   "source": [
    "Possibly overloading the CPUs. Let's change to reflect the actual number of cores (8)."
   ]
  },
  {
   "cell_type": "code",
   "execution_count": 4,
   "metadata": {
    "collapsed": false
   },
   "outputs": [],
   "source": [
    "%%bash\n",
    "sed -i '/## 7. /c\\8                   ## 7. N processors   ' /data/analysis/params.txt"
   ]
  },
  {
   "cell_type": "code",
   "execution_count": 5,
   "metadata": {
    "collapsed": false
   },
   "outputs": [
    {
     "name": "stdout",
     "output_type": "stream",
     "text": [
      "==** parameter inputs for pyRAD version 3.0.66  **======================== affected step ==\n",
      "/data/analysis/                     ## 1. Working directory                                 (all)\n",
      "/data/analysis/             \t       ## 2. Loc. of non-demultiplexed files (if not line 18)  (s1)\n",
      "/data/analysis/barcodes.txt\t               ## 3. Loc. of barcode file (if not line 18)             (s1)\n",
      "/usr/local/bioinformatics/vsearch-1.11.1-linux-x86_64/bin/vsearch                ## 4. command (or path) to call vsearch (or usearch)    (s3,s6)\n",
      "/usr/local/bioinformatics/muscle3.8.31_i86linux64                    ## 5. command (or path) to call muscle                  (s3,s7)\n",
      "CWGC                   ## 6. Restriction overhang (e.g., C|TGCAG -> TGCAG)     (s1,s2)\n",
      "8                   ## 7. N processors   \n",
      "6                      ## 8. Mindepth: min coverage for a cluster              (s4,s5)\n",
      "4                      ## 9. NQual: max # sites with qual < 20 (or see line 20)(s2)\n",
      ".88                    ## 10. Wclust: clustering threshold as a decimal        (s3,s6)\n",
      "merged            ## 11. data type \n",
      "4                      ## 12. MinCov: min samples in a final locus             (s7)\n",
      "3                      ## 13. MaxSH: max inds with shared hetero site          (s7)\n",
      "oly_gbs_pyrad          ## 14. Prefix name for final output (no spaces)         (s7)\n",
      "==== optional params below this line ===================================  affected step ==\n",
      "                       ## 15.opt.: select subset (prefix* only selector)            (s2-s7)\n",
      "                       ## 16.opt.: add-on (outgroup) taxa (list or prefix*)         (s6,s7)\n",
      "                       ## 17.opt.: exclude taxa (list or prefix*)                   (s7)\n",
      "/data/analysis/fastq/*.assembled.fastq ## 18. demulti data loc \n",
      "                       ## 19.opt.: maxM: N mismatches in barcodes (def= 1)          (s1)\n",
      "                       ## 20.opt.: phred Qscore offset (def= 33)                    (s2)\n",
      "2                      ## 21.opt.: filter: def=0=NQual 1=NQual+adapters. 2=strict   (s2)\n",
      "                       ## 22.opt.: a priori E,H (def= 0.001,0.01, if not estimated) (s5)\n",
      "4                      ## 23.opt.: maxN: max Ns in a cons seq (def=5)               (s5)\n",
      "8                      ## 24.opt.: maxH: max heterozyg. sites in cons seq (def=5)   (s5)\n",
      "                       ## 25.opt.: ploidy: max alleles in cons seq (def=2;see docs) (s4,s5)\n",
      "                       ## 26.opt.: maxSNPs: (def=100). Paired (def=100,100)         (s7)\n",
      "                       ## 27.opt.: maxIndels: within-clust,across-clust (def. 3,99) (s3,s7)\n",
      "                       ## 28.opt.: random number seed (def. 112233)              (s3,s6,s7)\n",
      "                       ## 29.opt.: trim overhang left,right on final loci, def(0,0) (s7)\n",
      "*                      ## 30.opt.: output formats: p,n,a,s,v,u,t,m,k,g,* (see docs) (s7)\n",
      "                       ## 31.opt.: maj. base call at depth>x<mindepth (def.x=mindepth) (s5)\n",
      "50                     ## 32.opt.: keep trimmed reads (def=0). Enter min length.    (s2)\n",
      "                       ## 33.opt.: max stack size (int), def= max(500,mean+2*SD)    (s3)\n",
      "                       ## 34.opt.: minDerep: exclude dereps with <= N copies, def=1 (s3)\n",
      "                       ## 35.opt.: use hierarchical clustering (def.=0, 1=yes)      (s6)\n",
      "                       ## 36.opt.: repeat masking (def.=1='dust' method, 0=no)      (s3,s6)\n",
      "16                     ## 37.opt.: vsearch max threads per job (def.=6; see docs)   (s3,s6)\n",
      "==== optional: list group/clade assignments below this line (see docs) ==================\n",
      "1HL\t5\t1HL*\n",
      "1NF\t5\t1NF*\n",
      "1SN\t5\t1SN*\n"
     ]
    }
   ],
   "source": [
    "%%bash\n",
    "cat /data/analysis/params.txt"
   ]
  },
  {
   "cell_type": "markdown",
   "metadata": {},
   "source": [
    "Let's try this again..."
   ]
  },
  {
   "cell_type": "code",
   "execution_count": 6,
   "metadata": {
    "collapsed": false
   },
   "outputs": [
    {
     "name": "stdout",
     "output_type": "stream",
     "text": [
      "\tskipping 1HL_17A.assembled.clustS.gz already exists in /data/analysis/clust.88\n",
      "\tskipping 1HL_13A.assembled.clustS.gz already exists in /data/analysis/clust.88\n",
      "\tskipping 1HL_16A.assembled.clustS.gz already exists in /data/analysis/clust.88\n",
      "\tskipping 1HL_14A.assembled.clustS.gz already exists in /data/analysis/clust.88\n",
      "\tskipping 1HL_15A.assembled.clustS.gz already exists in /data/analysis/clust.88\n"
     ]
    },
    {
     "name": "stderr",
     "output_type": "stream",
     "text": [
      "\n",
      "\n",
      "     ------------------------------------------------------------\n",
      "      pyRAD : RADseq for phylogenetics & introgression analyses\n",
      "     ------------------------------------------------------------\n",
      "\n",
      "\n",
      "\tde-replicating files for clustering...\n",
      "\n",
      "\tstep 3: within-sample clustering of 8 samples at \n",
      "\t        '.88' similarity. Running 8 parallel jobs\n",
      "\t \twith up to 16 threads per job. If needed, \n",
      "\t\tadjust to avoid CPU and MEM limits\n",
      "\n",
      "Process Worker-6:\n",
      "Traceback (most recent call last):\n",
      "  File \"/usr/lib/python2.7/multiprocessing/process.py\", line 258, in _bootstrap\n",
      "    self.run()\n",
      "  File \"build/bdist.linux-x86_64/egg/pyrad/potpour.py\", line 31, in run\n",
      "    res = self.func(*job)\n",
      "  File \"build/bdist.linux-x86_64/egg/pyrad/cluster7dp.py\", line 545, in final\n",
      "    alignwrap(outfolder+\"/\"+handle.split(\"/\")[-1].replace(\".edit\",\".clust.gz\"), mindepth, muscle, w1)\n",
      "  File \"build/bdist.linux-x86_64/egg/pyrad/cluster7dp.py\", line 415, in alignwrap\n",
      "    stringnames = alignfast(names[0:200],seqs[0:200],muscle)\n",
      "  File \"build/bdist.linux-x86_64/egg/pyrad/cluster7dp.py\", line 301, in alignfast\n",
      "    stdout=subprocess.PIPE, stderr=subprocess.STDOUT, close_fds=True)\n",
      "  File \"/usr/lib/python2.7/subprocess.py\", line 710, in __init__\n",
      "    errread, errwrite)\n",
      "  File \"/usr/lib/python2.7/subprocess.py\", line 1231, in _execute_child\n",
      "    self.pid = os.fork()\n",
      "OSError: [Errno 12] Cannot allocate memory\n",
      "Process Worker-2:\n",
      "Traceback (most recent call last):\n",
      "  File \"/usr/lib/python2.7/multiprocessing/process.py\", line 258, in _bootstrap\n",
      "    self.run()\n",
      "  File \"build/bdist.linux-x86_64/egg/pyrad/potpour.py\", line 31, in run\n",
      "    res = self.func(*job)\n",
      "  File \"build/bdist.linux-x86_64/egg/pyrad/cluster7dp.py\", line 545, in final\n",
      "    alignwrap(outfolder+\"/\"+handle.split(\"/\")[-1].replace(\".edit\",\".clust.gz\"), mindepth, muscle, w1)\n",
      "  File \"build/bdist.linux-x86_64/egg/pyrad/cluster7dp.py\", line 415, in alignwrap\n",
      "    stringnames = alignfast(names[0:200],seqs[0:200],muscle)\n",
      "  File \"build/bdist.linux-x86_64/egg/pyrad/cluster7dp.py\", line 301, in alignfast\n",
      "    stdout=subprocess.PIPE, stderr=subprocess.STDOUT, close_fds=True)\n",
      "  File \"/usr/lib/python2.7/subprocess.py\", line 710, in __init__\n",
      "    errread, errwrite)\n",
      "  File \"/usr/lib/python2.7/subprocess.py\", line 1231, in _execute_child\n",
      "    self.pid = os.fork()\n",
      "OSError: [Errno 12] Cannot allocate memory\n",
      "Process Worker-4:\n",
      "Traceback (most recent call last):\n",
      "  File \"/usr/lib/python2.7/multiprocessing/process.py\", line 258, in _bootstrap\n",
      "    self.run()\n",
      "  File \"build/bdist.linux-x86_64/egg/pyrad/potpour.py\", line 31, in run\n",
      "    res = self.func(*job)\n",
      "  File \"build/bdist.linux-x86_64/egg/pyrad/cluster7dp.py\", line 545, in final\n",
      "    alignwrap(outfolder+\"/\"+handle.split(\"/\")[-1].replace(\".edit\",\".clust.gz\"), mindepth, muscle, w1)\n",
      "  File \"build/bdist.linux-x86_64/egg/pyrad/cluster7dp.py\", line 415, in alignwrap\n",
      "    stringnames = alignfast(names[0:200],seqs[0:200],muscle)\n",
      "  File \"build/bdist.linux-x86_64/egg/pyrad/cluster7dp.py\", line 301, in alignfast\n",
      "    stdout=subprocess.PIPE, stderr=subprocess.STDOUT, close_fds=True)\n",
      "  File \"/usr/lib/python2.7/subprocess.py\", line 710, in __init__\n",
      "    errread, errwrite)\n",
      "  File \"/usr/lib/python2.7/subprocess.py\", line 1231, in _execute_child\n",
      "    self.pid = os.fork()\n",
      "OSError: [Errno 12] Cannot allocate memory\n",
      "\n",
      "real\t21m28.279s\n",
      "user\t56m45.842s\n",
      "sys\t1m52.941s\n"
     ]
    }
   ],
   "source": [
    "%%bash\n",
    "time pyrad -p /data/analysis/params.txt -s 3"
   ]
  },
  {
   "cell_type": "markdown",
   "metadata": {},
   "source": [
    "Well, I think the problem is that I'm running this at the same time as I'm running ustacks (a different program). It seems that ustacks is using all of the EC2 instance's resources (viewed using the Bash program \"htop\"). I will wait until that has completed and then run PyRad (or, upgrade the EC2 instance to a a greater number of CPUs or clone this instance and run two separate instances).\n",
    "\n",
    "![](http://eagle.fish.washington.edu/Arabidopsis/20160718_ec2_ustacks_cpus.png)"
   ]
  },
  {
   "cell_type": "markdown",
   "metadata": {},
   "source": []
  },
  {
   "cell_type": "code",
   "execution_count": 1,
   "metadata": {
    "collapsed": false
   },
   "outputs": [
    {
     "name": "stdout",
     "output_type": "stream",
     "text": [
      "\tskipping 1HL_17A.assembled.clustS.gz already exists in /data/analysis/clust.88\n",
      "\tskipping 1HL_10A.assembled.clustS.gz already exists in /data/analysis/clust.88\n",
      "\tskipping 1HL_13A.assembled.clustS.gz already exists in /data/analysis/clust.88\n",
      "\tskipping 1HL_12A.assembled.clustS.gz already exists in /data/analysis/clust.88\n",
      "\tskipping 1HL_16A.assembled.clustS.gz already exists in /data/analysis/clust.88\n",
      "\tskipping 1HL_14A.assembled.clustS.gz already exists in /data/analysis/clust.88\n",
      "\tskipping 1HL_15A.assembled.clustS.gz already exists in /data/analysis/clust.88\n"
     ]
    },
    {
     "name": "stderr",
     "output_type": "stream",
     "text": [
      "\n",
      "\n",
      "     ------------------------------------------------------------\n",
      "      pyRAD : RADseq for phylogenetics & introgression analyses\n",
      "     ------------------------------------------------------------\n",
      "\n",
      "\n",
      "\tde-replicating files for clustering...\n",
      "\n",
      "\tstep 3: within-sample clustering of 8 samples at \n",
      "\t        '.88' similarity. Running 8 parallel jobs\n",
      "\t \twith up to 16 threads per job. If needed, \n",
      "\t\tadjust to avoid CPU and MEM limits\n",
      "\n",
      "\tsample 1HL_11A finished, 125407 loci\n",
      "\n",
      "real\t63m55.147s\n",
      "user\t44m17.743s\n",
      "sys\t29m14.039s\n"
     ]
    }
   ],
   "source": [
    "%%bash\n",
    "time pyrad -p /data/analysis/params.txt -s 3"
   ]
  },
  {
   "cell_type": "markdown",
   "metadata": {},
   "source": [
    "#### Let's take a look at the results"
   ]
  },
  {
   "cell_type": "code",
   "execution_count": 4,
   "metadata": {
    "collapsed": false
   },
   "outputs": [
    {
     "name": "stdout",
     "output_type": "stream",
     "text": [
      "\n",
      "taxa\ttotal\tdpt.me\tdpt.sd\td>5.tot\td>5.me\td>5.sd\tbadpairs\n",
      "\n",
      "    ## total = total number of clusters, including singletons\n",
      "    ## dpt.me = mean depth of clusters\n",
      "    ## dpt.sd = standard deviation of cluster depth\n",
      "    ## >N.tot = number of clusters with depth greater than N\n",
      "    ## >N.me = mean depth of clusters with depth greater than N\n",
      "    ## >N.sd = standard deviation of cluster depth for clusters with depth greater than N\n",
      "    ## badpairs = mismatched 1st & 2nd reads (only for paired ddRAD data)\n",
      "\n",
      "HISTOGRAMS\n",
      "\n",
      "    \n",
      "\n",
      "taxa\ttotal\tdpt.me\tdpt.sd\td>5.tot\td>5.me\td>5.sd\tbadpairs\n",
      "\n",
      "    ## total = total number of clusters, including singletons\n",
      "    ## dpt.me = mean depth of clusters\n",
      "    ## dpt.sd = standard deviation of cluster depth\n",
      "    ## >N.tot = number of clusters with depth greater than N\n",
      "    ## >N.me = mean depth of clusters with depth greater than N\n",
      "    ## >N.sd = standard deviation of cluster depth for clusters with depth greater than N\n",
      "    ## badpairs = mismatched 1st & 2nd reads (only for paired ddRAD data)\n",
      "\n",
      "HISTOGRAMS\n",
      "\n",
      "    \n",
      "\n",
      "taxa\ttotal\tdpt.me\tdpt.sd\td>5.tot\td>5.me\td>5.sd\tbadpairs\n",
      "1HL_11A.assembled\t125407\t10.143\t106.054\t39824\t27.904\t186.958\t0\n",
      "\n",
      "    ## total = total number of clusters, including singletons\n",
      "    ## dpt.me = mean depth of clusters\n",
      "    ## dpt.sd = standard deviation of cluster depth\n",
      "    ## >N.tot = number of clusters with depth greater than N\n",
      "    ## >N.me = mean depth of clusters with depth greater than N\n",
      "    ## >N.sd = standard deviation of cluster depth for clusters with depth greater than N\n",
      "    ## badpairs = mismatched 1st & 2nd reads (only for paired ddRAD data)\n",
      "\n",
      "HISTOGRAMS\n",
      "\n",
      "    \n",
      "sample: 1HL_11A.assembled\n",
      "bins\tdepth_histogram\tcnts\n",
      "   :\t0------------50-------------100%\n",
      "0 \t********************                81060\n",
      "5 \t*****                               15999\n",
      "10 \t***                                 8344\n",
      "15 \t**                                  5099\n",
      "20 \t**                                  3282\n",
      "25 \t**                                  2270\n",
      "30 \t*                                   1646\n",
      "35 \t*                                   1247\n",
      "40 \t*                                   1846\n",
      "50 \t**                                  3628\n",
      "100 \t*                                   738\n",
      "250 \t*                                   160\n",
      "500 \t*                                   88\n",
      "\n"
     ]
    }
   ],
   "source": [
    "%%bash\n",
    "cat /data/analysis/stats/s3.clusters.txt"
   ]
  },
  {
   "cell_type": "code",
   "execution_count": null,
   "metadata": {
    "collapsed": true
   },
   "outputs": [],
   "source": []
  }
 ],
 "metadata": {
  "kernelspec": {
   "display_name": "Python 2",
   "language": "python",
   "name": "python2"
  },
  "language_info": {
   "codemirror_mode": {
    "name": "ipython",
    "version": 2
   },
   "file_extension": ".py",
   "mimetype": "text/x-python",
   "name": "python",
   "nbconvert_exporter": "python",
   "pygments_lexer": "ipython2",
   "version": "2.7.12"
  }
 },
 "nbformat": 4,
 "nbformat_minor": 0
}
