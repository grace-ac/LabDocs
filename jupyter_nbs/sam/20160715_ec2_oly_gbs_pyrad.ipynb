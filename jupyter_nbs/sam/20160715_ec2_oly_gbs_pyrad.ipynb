{
 "cells": [
  {
   "cell_type": "markdown",
   "metadata": {},
   "source": [
    "### Running in Docker container on EC2 instance"
   ]
  },
  {
   "cell_type": "markdown",
   "metadata": {},
   "source": [
    "#### Started Docker container with the following command:\n",
    "\n",
    "```docker run  -p 8888:8888 -v /home/ubuntu/gitrepos/LabDocs/jupyter_nbs/sam:/home/notebooks -v /home/ubuntu/data:/data/ -it kubu4/bioinformatics:v11 /bin/bash```"
   ]
  },
  {
   "cell_type": "markdown",
   "metadata": {},
   "source": [
    "The command allows access to Jupyter Notebook over port 8888 and makes my Jupyter Notebook GitHub repo and my data files accessible to the Docker container"
   ]
  },
  {
   "cell_type": "markdown",
   "metadata": {},
   "source": [
    "Once the container was started, started Jupyter Notebook with the following command inside the Docker container:\n",
    "\n",
    "```jupyter notebook```"
   ]
  },
  {
   "cell_type": "markdown",
   "metadata": {},
   "source": [
    "This is configured in the Docker container to launch a Jupyter Notebook without a browser on port 8888."
   ]
  },
  {
   "cell_type": "markdown",
   "metadata": {},
   "source": [
    "#### Created a tunnel from my local computer to the Docker container:\n",
    "\n",
    "```ssh -i ~/Dropbox/Lab/Sam/bioinformatics.pem -N -L localhost:8888:localhost:8888 ubuntu@ec2.ip.address```"
   ]
  },
  {
   "cell_type": "markdown",
   "metadata": {},
   "source": [
    "This command is run in a separate Terminal window than the one that is used to ssh into the EC2 instance to start Docker and all of that.\n",
    "\n",
    "This ssh command specifies to use my Amazon EC2 authentication file (bioinformatics.pem), along with the -N and -L options for port forwarding stuff (see man ssh for deets), and binds the port 8888 on my local computer to port 8888 on the EC2 isntance. \n",
    "\n",
    "The tunnel allows me to start the Jupyter Notebook in my web browser. I enter ```localhost:8888``` in as the URL."
   ]
  },
  {
   "cell_type": "code",
   "execution_count": 1,
   "metadata": {
    "collapsed": false
   },
   "outputs": [
    {
     "name": "stdout",
     "output_type": "stream",
     "text": [
      "Fri Jul 15 16:56:46 UTC 2016\n"
     ]
    }
   ],
   "source": [
    "%%bash\n",
    "date"
   ]
  },
  {
   "cell_type": "code",
   "execution_count": 2,
   "metadata": {
    "collapsed": false
   },
   "outputs": [
    {
     "name": "stdout",
     "output_type": "stream",
     "text": [
      "570c28713283\n"
     ]
    }
   ],
   "source": [
    "%%bash\n",
    "hostname"
   ]
  },
  {
   "cell_type": "markdown",
   "metadata": {},
   "source": [
    "### Check computer specs"
   ]
  },
  {
   "cell_type": "code",
   "execution_count": 3,
   "metadata": {
    "collapsed": false
   },
   "outputs": [
    {
     "name": "stdout",
     "output_type": "stream",
     "text": [
      "Architecture:          x86_64\n",
      "CPU op-mode(s):        32-bit, 64-bit\n",
      "Byte Order:            Little Endian\n",
      "CPU(s):                8\n",
      "On-line CPU(s) list:   0-7\n",
      "Thread(s) per core:    2\n",
      "Core(s) per socket:    4\n",
      "Socket(s):             1\n",
      "NUMA node(s):          1\n",
      "Vendor ID:             GenuineIntel\n",
      "CPU family:            6\n",
      "Model:                 63\n",
      "Model name:            Intel(R) Xeon(R) CPU E5-2666 v3 @ 2.90GHz\n",
      "Stepping:              2\n",
      "CPU MHz:               2900.088\n",
      "BogoMIPS:              5800.17\n",
      "Hypervisor vendor:     Xen\n",
      "Virtualization type:   full\n",
      "L1d cache:             32K\n",
      "L1i cache:             32K\n",
      "L2 cache:              256K\n",
      "L3 cache:              25600K\n",
      "NUMA node0 CPU(s):     0-7\n"
     ]
    }
   ],
   "source": [
    "%%bash\n",
    "lscpu"
   ]
  },
  {
   "cell_type": "code",
   "execution_count": 4,
   "metadata": {
    "collapsed": false
   },
   "outputs": [
    {
     "name": "stdout",
     "output_type": "stream",
     "text": [
      "/data\n"
     ]
    }
   ],
   "source": [
    "cd /data/"
   ]
  },
  {
   "cell_type": "code",
   "execution_count": 5,
   "metadata": {
    "collapsed": false
   },
   "outputs": [
    {
     "name": "stdout",
     "output_type": "stream",
     "text": [
      "160123_I132_FCH3YHMBBXX_L4_OYSzenG1AAD96FAAPEI-109_1.fq.gz  \u001b[0m\u001b[01;32m1NF_25A_2.fq.gz\u001b[0m*\r\n",
      "160123_I132_FCH3YHMBBXX_L4_OYSzenG1AAD96FAAPEI-109_2.fq.gz  \u001b[01;32m1NF_26A_1.fq.gz\u001b[0m*\r\n",
      "\u001b[01;32m1HL_10A_1.fq.gz\u001b[0m*                                            \u001b[01;32m1NF_26A_2.fq.gz\u001b[0m*\r\n",
      "\u001b[01;32m1HL_10A_2.fq.gz\u001b[0m*                                            \u001b[01;32m1NF_27A_1.fq.gz\u001b[0m*\r\n",
      "\u001b[01;32m1HL_11A_1.fq.gz\u001b[0m*                                            \u001b[01;32m1NF_27A_2.fq.gz\u001b[0m*\r\n",
      "\u001b[01;32m1HL_11A_2.fq.gz\u001b[0m*                                            \u001b[01;32m1NF_28A_1.fq.gz\u001b[0m*\r\n",
      "\u001b[01;32m1HL_12A_1.fq.gz\u001b[0m*                                            \u001b[01;32m1NF_28A_2.fq.gz\u001b[0m*\r\n",
      "\u001b[01;32m1HL_12A_2.fq.gz\u001b[0m*                                            \u001b[01;32m1NF_29A_1.fq.gz\u001b[0m*\r\n",
      "\u001b[01;32m1HL_13A_1.fq.gz\u001b[0m*                                            \u001b[01;32m1NF_29A_2.fq.gz\u001b[0m*\r\n",
      "\u001b[01;32m1HL_13A_2.fq.gz\u001b[0m*                                            \u001b[01;32m1NF_2A_1.fq.gz\u001b[0m*\r\n",
      "\u001b[01;32m1HL_14A_1.fq.gz\u001b[0m*                                            \u001b[01;32m1NF_2A_2.fq.gz\u001b[0m*\r\n",
      "\u001b[01;32m1HL_14A_2.fq.gz\u001b[0m*                                            \u001b[01;32m1NF_30A_1.fq.gz\u001b[0m*\r\n",
      "\u001b[01;32m1HL_15A_1.fq.gz\u001b[0m*                                            \u001b[01;32m1NF_30A_2.fq.gz\u001b[0m*\r\n",
      "\u001b[01;32m1HL_15A_2.fq.gz\u001b[0m*                                            \u001b[01;32m1NF_31A_1.fq.gz\u001b[0m*\r\n",
      "\u001b[01;32m1HL_16A_1.fq.gz\u001b[0m*                                            \u001b[01;32m1NF_31A_2.fq.gz\u001b[0m*\r\n",
      "\u001b[01;32m1HL_16A_2.fq.gz\u001b[0m*                                            \u001b[01;32m1NF_32A_1.fq.gz\u001b[0m*\r\n",
      "\u001b[01;32m1HL_17A_1.fq.gz\u001b[0m*                                            \u001b[01;32m1NF_32A_2.fq.gz\u001b[0m*\r\n",
      "\u001b[01;32m1HL_17A_2.fq.gz\u001b[0m*                                            \u001b[01;32m1NF_33A_1.fq.gz\u001b[0m*\r\n",
      "\u001b[01;32m1HL_19A_1.fq.gz\u001b[0m*                                            \u001b[01;32m1NF_33A_2.fq.gz\u001b[0m*\r\n",
      "\u001b[01;32m1HL_19A_2.fq.gz\u001b[0m*                                            \u001b[01;32m1NF_4A_1.fq.gz\u001b[0m*\r\n",
      "\u001b[01;32m1HL_1A_1.fq.gz\u001b[0m*                                             \u001b[01;32m1NF_4A_2.fq.gz\u001b[0m*\r\n",
      "\u001b[01;32m1HL_1A_2.fq.gz\u001b[0m*                                             \u001b[01;32m1NF_5A_1.fq.gz\u001b[0m*\r\n",
      "\u001b[01;32m1HL_20A_1.fq.gz\u001b[0m*                                            \u001b[01;32m1NF_5A_2.fq.gz\u001b[0m*\r\n",
      "\u001b[01;32m1HL_20A_2.fq.gz\u001b[0m*                                            \u001b[01;32m1NF_6A_1.fq.gz\u001b[0m*\r\n",
      "\u001b[01;32m1HL_21A_1.fq.gz\u001b[0m*                                            \u001b[01;32m1NF_6A_2.fq.gz\u001b[0m*\r\n",
      "\u001b[01;32m1HL_21A_2.fq.gz\u001b[0m*                                            \u001b[01;32m1NF_7A_1.fq.gz\u001b[0m*\r\n",
      "\u001b[01;32m1HL_22A_1.fq.gz\u001b[0m*                                            \u001b[01;32m1NF_7A_2.fq.gz\u001b[0m*\r\n",
      "\u001b[01;32m1HL_22A_2.fq.gz\u001b[0m*                                            \u001b[01;32m1NF_8A_1.fq.gz\u001b[0m*\r\n",
      "\u001b[01;32m1HL_23A_1.fq.gz\u001b[0m*                                            \u001b[01;32m1NF_8A_2.fq.gz\u001b[0m*\r\n",
      "\u001b[01;32m1HL_23A_2.fq.gz\u001b[0m*                                            \u001b[01;32m1NF_9A_1.fq.gz\u001b[0m*\r\n",
      "\u001b[01;32m1HL_24A_1.fq.gz\u001b[0m*                                            \u001b[01;32m1NF_9A_2.fq.gz\u001b[0m*\r\n",
      "\u001b[01;32m1HL_24A_2.fq.gz\u001b[0m*                                            \u001b[01;32m1SN_10A_1.fq.gz\u001b[0m*\r\n",
      "\u001b[01;32m1HL_25A_1.fq.gz\u001b[0m*                                            \u001b[01;32m1SN_10A_2.fq.gz\u001b[0m*\r\n",
      "\u001b[01;32m1HL_25A_2.fq.gz\u001b[0m*                                            \u001b[01;32m1SN_11A_1.fq.gz\u001b[0m*\r\n",
      "\u001b[01;32m1HL_26A_1.fq.gz\u001b[0m*                                            \u001b[01;32m1SN_11A_2.fq.gz\u001b[0m*\r\n",
      "\u001b[01;32m1HL_26A_2.fq.gz\u001b[0m*                                            \u001b[01;32m1SN_12A_1.fq.gz\u001b[0m*\r\n",
      "\u001b[01;32m1HL_27A_1.fq.gz\u001b[0m*                                            \u001b[01;32m1SN_12A_2.fq.gz\u001b[0m*\r\n",
      "\u001b[01;32m1HL_27A_2.fq.gz\u001b[0m*                                            \u001b[01;32m1SN_13A_1.fq.gz\u001b[0m*\r\n",
      "\u001b[01;32m1HL_28A_1.fq.gz\u001b[0m*                                            \u001b[01;32m1SN_13A_2.fq.gz\u001b[0m*\r\n",
      "\u001b[01;32m1HL_28A_2.fq.gz\u001b[0m*                                            \u001b[01;32m1SN_14A_1.fq.gz\u001b[0m*\r\n",
      "\u001b[01;32m1HL_29A_1.fq.gz\u001b[0m*                                            \u001b[01;32m1SN_14A_2.fq.gz\u001b[0m*\r\n",
      "\u001b[01;32m1HL_29A_2.fq.gz\u001b[0m*                                            \u001b[01;32m1SN_15A_1.fq.gz\u001b[0m*\r\n",
      "\u001b[01;32m1HL_2A_1.fq.gz\u001b[0m*                                             \u001b[01;32m1SN_15A_2.fq.gz\u001b[0m*\r\n",
      "\u001b[01;32m1HL_2A_2.fq.gz\u001b[0m*                                             \u001b[01;32m1SN_16A_1.fq.gz\u001b[0m*\r\n",
      "\u001b[01;32m1HL_31A_1.fq.gz\u001b[0m*                                            \u001b[01;32m1SN_16A_2.fq.gz\u001b[0m*\r\n",
      "\u001b[01;32m1HL_31A_2.fq.gz\u001b[0m*                                            \u001b[01;32m1SN_17A_1.fq.gz\u001b[0m*\r\n",
      "\u001b[01;32m1HL_33A_1.fq.gz\u001b[0m*                                            \u001b[01;32m1SN_17A_2.fq.gz\u001b[0m*\r\n",
      "\u001b[01;32m1HL_33A_2.fq.gz\u001b[0m*                                            \u001b[01;32m1SN_18A_1.fq.gz\u001b[0m*\r\n",
      "\u001b[01;32m1HL_34A_1.fq.gz\u001b[0m*                                            \u001b[01;32m1SN_18A_2.fq.gz\u001b[0m*\r\n",
      "\u001b[01;32m1HL_34A_2.fq.gz\u001b[0m*                                            \u001b[01;32m1SN_19A_1.fq.gz\u001b[0m*\r\n",
      "\u001b[01;32m1HL_35A_1.fq.gz\u001b[0m*                                            \u001b[01;32m1SN_19A_2.fq.gz\u001b[0m*\r\n",
      "\u001b[01;32m1HL_35A_2.fq.gz\u001b[0m*                                            \u001b[01;32m1SN_1A_1.fq.gz\u001b[0m*\r\n",
      "\u001b[01;32m1HL_3A_1.fq.gz\u001b[0m*                                             \u001b[01;32m1SN_1A_2.fq.gz\u001b[0m*\r\n",
      "\u001b[01;32m1HL_3A_2.fq.gz\u001b[0m*                                             \u001b[01;32m1SN_20A_1.fq.gz\u001b[0m*\r\n",
      "\u001b[01;32m1HL_4A_1.fq.gz\u001b[0m*                                             \u001b[01;32m1SN_20A_2.fq.gz\u001b[0m*\r\n",
      "\u001b[01;32m1HL_4A_2.fq.gz\u001b[0m*                                             \u001b[01;32m1SN_21A_1.fq.gz\u001b[0m*\r\n",
      "\u001b[01;32m1HL_5A_1.fq.gz\u001b[0m*                                             \u001b[01;32m1SN_21A_2.fq.gz\u001b[0m*\r\n",
      "\u001b[01;32m1HL_5A_2.fq.gz\u001b[0m*                                             \u001b[01;32m1SN_22A_1.fq.gz\u001b[0m*\r\n",
      "\u001b[01;32m1HL_6A_1.fq.gz\u001b[0m*                                             \u001b[01;32m1SN_22A_2.fq.gz\u001b[0m*\r\n",
      "\u001b[01;32m1HL_6A_2.fq.gz\u001b[0m*                                             \u001b[01;32m1SN_23A_1.fq.gz\u001b[0m*\r\n",
      "\u001b[01;32m1HL_7A_1.fq.gz\u001b[0m*                                             \u001b[01;32m1SN_23A_2.fq.gz\u001b[0m*\r\n",
      "\u001b[01;32m1HL_7A_2.fq.gz\u001b[0m*                                             \u001b[01;32m1SN_24A_1.fq.gz\u001b[0m*\r\n",
      "\u001b[01;32m1HL_8A_1.fq.gz\u001b[0m*                                             \u001b[01;32m1SN_24A_2.fq.gz\u001b[0m*\r\n",
      "\u001b[01;32m1HL_8A_2.fq.gz\u001b[0m*                                             \u001b[01;32m1SN_25A_1.fq.gz\u001b[0m*\r\n",
      "\u001b[01;32m1HL_9A_1.fq.gz\u001b[0m*                                             \u001b[01;32m1SN_25A_2.fq.gz\u001b[0m*\r\n",
      "\u001b[01;32m1HL_9A_2.fq.gz\u001b[0m*                                             \u001b[01;32m1SN_26A_1.fq.gz\u001b[0m*\r\n",
      "\u001b[01;32m1NF_10A_1.fq.gz\u001b[0m*                                            \u001b[01;32m1SN_26A_2.fq.gz\u001b[0m*\r\n",
      "\u001b[01;32m1NF_10A_2.fq.gz\u001b[0m*                                            \u001b[01;32m1SN_27A_1.fq.gz\u001b[0m*\r\n",
      "\u001b[01;32m1NF_11A_1.fq.gz\u001b[0m*                                            \u001b[01;32m1SN_27A_2.fq.gz\u001b[0m*\r\n",
      "\u001b[01;32m1NF_11A_2.fq.gz\u001b[0m*                                            \u001b[01;32m1SN_28A_1.fq.gz\u001b[0m*\r\n",
      "\u001b[01;32m1NF_12A_1.fq.gz\u001b[0m*                                            \u001b[01;32m1SN_28A_2.fq.gz\u001b[0m*\r\n",
      "\u001b[01;32m1NF_12A_2.fq.gz\u001b[0m*                                            \u001b[01;32m1SN_29A_1.fq.gz\u001b[0m*\r\n",
      "\u001b[01;32m1NF_13A_1.fq.gz\u001b[0m*                                            \u001b[01;32m1SN_29A_2.fq.gz\u001b[0m*\r\n",
      "\u001b[01;32m1NF_13A_2.fq.gz\u001b[0m*                                            \u001b[01;32m1SN_2A_1.fq.gz\u001b[0m*\r\n",
      "\u001b[01;32m1NF_14A_1.fq.gz\u001b[0m*                                            \u001b[01;32m1SN_2A_2.fq.gz\u001b[0m*\r\n",
      "\u001b[01;32m1NF_14A_2.fq.gz\u001b[0m*                                            \u001b[01;32m1SN_30A_1.fq.gz\u001b[0m*\r\n",
      "\u001b[01;32m1NF_15A_1.fq.gz\u001b[0m*                                            \u001b[01;32m1SN_30A_2.fq.gz\u001b[0m*\r\n",
      "\u001b[01;32m1NF_15A_2.fq.gz\u001b[0m*                                            \u001b[01;32m1SN_31A_1.fq.gz\u001b[0m*\r\n",
      "\u001b[01;32m1NF_16A_1.fq.gz\u001b[0m*                                            \u001b[01;32m1SN_31A_2.fq.gz\u001b[0m*\r\n",
      "\u001b[01;32m1NF_16A_2.fq.gz\u001b[0m*                                            \u001b[01;32m1SN_32A_1.fq.gz\u001b[0m*\r\n",
      "\u001b[01;32m1NF_17A_1.fq.gz\u001b[0m*                                            \u001b[01;32m1SN_32A_2.fq.gz\u001b[0m*\r\n",
      "\u001b[01;32m1NF_17A_2.fq.gz\u001b[0m*                                            \u001b[01;32m1SN_3A_1.fq.gz\u001b[0m*\r\n",
      "\u001b[01;32m1NF_18A_1.fq.gz\u001b[0m*                                            \u001b[01;32m1SN_3A_2.fq.gz\u001b[0m*\r\n",
      "\u001b[01;32m1NF_18A_2.fq.gz\u001b[0m*                                            \u001b[01;32m1SN_4A_1.fq.gz\u001b[0m*\r\n",
      "\u001b[01;32m1NF_19A_1.fq.gz\u001b[0m*                                            \u001b[01;32m1SN_4A_2.fq.gz\u001b[0m*\r\n",
      "\u001b[01;32m1NF_19A_2.fq.gz\u001b[0m*                                            \u001b[01;32m1SN_5A_1.fq.gz\u001b[0m*\r\n",
      "\u001b[01;32m1NF_1A_1.fq.gz\u001b[0m*                                             \u001b[01;32m1SN_5A_2.fq.gz\u001b[0m*\r\n",
      "\u001b[01;32m1NF_1A_2.fq.gz\u001b[0m*                                             \u001b[01;32m1SN_6A_1.fq.gz\u001b[0m*\r\n",
      "\u001b[01;32m1NF_20A_1.fq.gz\u001b[0m*                                            \u001b[01;32m1SN_6A_2.fq.gz\u001b[0m*\r\n",
      "\u001b[01;32m1NF_20A_2.fq.gz\u001b[0m*                                            \u001b[01;32m1SN_7A_1.fq.gz\u001b[0m*\r\n",
      "\u001b[01;32m1NF_21A_1.fq.gz\u001b[0m*                                            \u001b[01;32m1SN_7A_2.fq.gz\u001b[0m*\r\n",
      "\u001b[01;32m1NF_21A_2.fq.gz\u001b[0m*                                            \u001b[01;32m1SN_8A_1.fq.gz\u001b[0m*\r\n",
      "\u001b[01;32m1NF_22A_1.fq.gz\u001b[0m*                                            \u001b[01;32m1SN_8A_2.fq.gz\u001b[0m*\r\n",
      "\u001b[01;32m1NF_22A_2.fq.gz\u001b[0m*                                            \u001b[01;32m1SN_9A_1.fq.gz\u001b[0m*\r\n",
      "\u001b[01;32m1NF_23A_1.fq.gz\u001b[0m*                                            \u001b[01;32m1SN_9A_2.fq.gz\u001b[0m*\r\n",
      "\u001b[01;32m1NF_23A_2.fq.gz\u001b[0m*                                            \u001b[01;34manalysis\u001b[0m/\r\n",
      "\u001b[01;32m1NF_24A_1.fq.gz\u001b[0m*                                            radtags.stderr\r\n",
      "\u001b[01;32m1NF_24A_2.fq.gz\u001b[0m*                                            radtags.stdout\r\n",
      "\u001b[01;32m1NF_25A_1.fq.gz\u001b[0m*                                            \u001b[01;34mstacks\u001b[0m/\r\n"
     ]
    }
   ],
   "source": [
    "ls"
   ]
  },
  {
   "cell_type": "markdown",
   "metadata": {},
   "source": [
    "### Rename FASTQ files to match R1 and R2 requirements for pyrad demultiplexing¶"
   ]
  },
  {
   "cell_type": "code",
   "execution_count": 9,
   "metadata": {
    "collapsed": false
   },
   "outputs": [],
   "source": [
    "%%bash\n",
    "mv 160123_I132_FCH3YHMBBXX_L4_OYSzenG1AAD96FAAPEI-109_1.fq.gz 160123_I132_FCH3YHMBBXX_L4_OYSzenG1AAD96FAAPEI-109_R1_.fq.gz"
   ]
  },
  {
   "cell_type": "code",
   "execution_count": 10,
   "metadata": {
    "collapsed": true
   },
   "outputs": [],
   "source": [
    "%%bash\n",
    "mv 160123_I132_FCH3YHMBBXX_L4_OYSzenG1AAD96FAAPEI-109_2.fq.gz 160123_I132_FCH3YHMBBXX_L4_OYSzenG1AAD96FAAPEI-109_R2_.fq.gz"
   ]
  },
  {
   "cell_type": "code",
   "execution_count": 11,
   "metadata": {
    "collapsed": false
   },
   "outputs": [
    {
     "name": "stdout",
     "output_type": "stream",
     "text": [
      "/data/analysis\n"
     ]
    }
   ],
   "source": [
    "cd analysis/"
   ]
  },
  {
   "cell_type": "code",
   "execution_count": 12,
   "metadata": {
    "collapsed": false
   },
   "outputs": [
    {
     "name": "stdout",
     "output_type": "stream",
     "text": [
      "barcodes.txt  params.txt\r\n"
     ]
    }
   ],
   "source": [
    "ls"
   ]
  },
  {
   "cell_type": "code",
   "execution_count": 13,
   "metadata": {
    "collapsed": false
   },
   "outputs": [
    {
     "name": "stdout",
     "output_type": "stream",
     "text": [
      "==** parameter inputs for pyRAD version 3.0.66  **======================== affected step ==\n",
      "./                     ## 1. Working directory                                 (all)\n",
      "/data/oly_gbs/*.gz             \t       ## 2. Loc. of non-demultiplexed files (if not line 18)  (s1)\n",
      "/analysis/20160609_pyrad/barcodes.txt\t               ## 3. Loc. of barcode file (if not line 18)             (s1)\n",
      "/usr/local/bioinformatics/vsearch-1.11.1-linux-x86_64/bin/vsearch                ## 4. command (or path) to call vsearch (or usearch)    (s3,s6)\n",
      "/usr/local/bioinformatics/muscle3.8.31_i86linux64                    ## 5. command (or path) to call muscle                  (s3,s7)\n",
      "CWGC                   ## 6. Restriction overhang (e.g., C|TGCAG -> TGCAG)     (s1,s2)\n",
      "16                     ## 7. N processors (parallel)                           (all)\n",
      "6                      ## 8. Mindepth: min coverage for a cluster              (s4,s5)\n",
      "4                      ## 9. NQual: max # sites with qual < 20 (or see line 20)(s2)\n",
      ".88                    ## 10. Wclust: clustering threshold as a decimal        (s3,s6)\n",
      "pairgbs                 ## 11. Datatype: rad,gbs,pairgbs,pairddrad,(others:see docs)(all)\n",
      "4                      ## 12. MinCov: min samples in a final locus             (s7)\n",
      "3                      ## 13. MaxSH: max inds with shared hetero site          (s7)\n",
      "oly_gbs_pyrad          ## 14. Prefix name for final output (no spaces)         (s7)\n",
      "==== optional params below this line ===================================  affected step ==\n",
      "                       ## 15.opt.: select subset (prefix* only selector)            (s2-s7)\n",
      "                       ## 16.opt.: add-on (outgroup) taxa (list or prefix*)         (s6,s7)\n",
      "                       ## 17.opt.: exclude taxa (list or prefix*)                   (s7)\n",
      "                       ## 18.opt.: loc. of de-multiplexed data                      (s2)\n",
      "                       ## 19.opt.: maxM: N mismatches in barcodes (def= 1)          (s1)\n",
      "                       ## 20.opt.: phred Qscore offset (def= 33)                    (s2)\n",
      "2                      ## 21.opt.: filter: def=0=NQual 1=NQual+adapters. 2=strict   (s2)\n",
      "                       ## 22.opt.: a priori E,H (def= 0.001,0.01, if not estimated) (s5)\n",
      "4                      ## 23.opt.: maxN: max Ns in a cons seq (def=5)               (s5)\n",
      "8                      ## 24.opt.: maxH: max heterozyg. sites in cons seq (def=5)   (s5)\n",
      "                       ## 25.opt.: ploidy: max alleles in cons seq (def=2;see docs) (s4,s5)\n",
      "                       ## 26.opt.: maxSNPs: (def=100). Paired (def=100,100)         (s7)\n",
      "                       ## 27.opt.: maxIndels: within-clust,across-clust (def. 3,99) (s3,s7)\n",
      "                       ## 28.opt.: random number seed (def. 112233)              (s3,s6,s7)\n",
      "                       ## 29.opt.: trim overhang left,right on final loci, def(0,0) (s7)\n",
      "*                      ## 30.opt.: output formats: p,n,a,s,v,u,t,m,k,g,* (see docs) (s7)\n",
      "                       ## 31.opt.: maj. base call at depth>x<mindepth (def.x=mindepth) (s5)\n",
      "50                     ## 32.opt.: keep trimmed reads (def=0). Enter min length.    (s2)\n",
      "                       ## 33.opt.: max stack size (int), def= max(500,mean+2*SD)    (s3)\n",
      "                       ## 34.opt.: minDerep: exclude dereps with <= N copies, def=1 (s3)\n",
      "                       ## 35.opt.: use hierarchical clustering (def.=0, 1=yes)      (s6)\n",
      "                       ## 36.opt.: repeat masking (def.=1='dust' method, 0=no)      (s3,s6)\n",
      "16                     ## 37.opt.: vsearch max threads per job (def.=6; see docs)   (s3,s6)\n",
      "==== optional: list group/clade assignments below this line (see docs) ==================\n",
      "1HL\t5\t1HL*\n",
      "1NF\t5\t1NF*\n",
      "1SN\t5\t1SN*\n"
     ]
    }
   ],
   "source": [
    "%%bash\n",
    "cat params.txt"
   ]
  },
  {
   "cell_type": "code",
   "execution_count": 14,
   "metadata": {
    "collapsed": true
   },
   "outputs": [],
   "source": [
    "%%bash\n",
    "mv /data/160123_I132_FCH3YHMBBXX_L4_OYSzenG1AAD96FAAPEI-109_R1_.fq.gz /data/analysis/"
   ]
  },
  {
   "cell_type": "code",
   "execution_count": 16,
   "metadata": {
    "collapsed": false
   },
   "outputs": [],
   "source": [
    "%%bash\n",
    "mv /data/160123_I132_FCH3YHMBBXX_L4_OYSzenG1AAD96FAAPEI-109_R2_.fq.gz /data/analysis/"
   ]
  },
  {
   "cell_type": "code",
   "execution_count": 17,
   "metadata": {
    "collapsed": false
   },
   "outputs": [
    {
     "name": "stdout",
     "output_type": "stream",
     "text": [
      "160123_I132_FCH3YHMBBXX_L4_OYSzenG1AAD96FAAPEI-109_R1_.fq.gz  barcodes.txt\r\n",
      "160123_I132_FCH3YHMBBXX_L4_OYSzenG1AAD96FAAPEI-109_R2_.fq.gz  params.txt\r\n"
     ]
    }
   ],
   "source": [
    "ls"
   ]
  },
  {
   "cell_type": "markdown",
   "metadata": {},
   "source": [
    "Need to edit params file to match current locations of data files. Will do outside of notebook. BRB..."
   ]
  },
  {
   "cell_type": "code",
   "execution_count": 18,
   "metadata": {
    "collapsed": false
   },
   "outputs": [
    {
     "name": "stdout",
     "output_type": "stream",
     "text": [
      "==** parameter inputs for pyRAD version 3.0.66  **======================== affected step ==\n",
      "/data/analysis/                     ## 1. Working directory                                 (all)\n",
      "/data/analysis/             \t       ## 2. Loc. of non-demultiplexed files (if not line 18)  (s1)\n",
      "/data/analysis/barcodes.txt\t               ## 3. Loc. of barcode file (if not line 18)             (s1)\n",
      "/usr/local/bioinformatics/vsearch-1.11.1-linux-x86_64/bin/vsearch                ## 4. command (or path) to call vsearch (or usearch)    (s3,s6)\n",
      "/usr/local/bioinformatics/muscle3.8.31_i86linux64                    ## 5. command (or path) to call muscle                  (s3,s7)\n",
      "CWGC                   ## 6. Restriction overhang (e.g., C|TGCAG -> TGCAG)     (s1,s2)\n",
      "16                     ## 7. N processors (parallel)                           (all)\n",
      "6                      ## 8. Mindepth: min coverage for a cluster              (s4,s5)\n",
      "4                      ## 9. NQual: max # sites with qual < 20 (or see line 20)(s2)\n",
      ".88                    ## 10. Wclust: clustering threshold as a decimal        (s3,s6)\n",
      "pairgbs                 ## 11. Datatype: rad,gbs,pairgbs,pairddrad,(others:see docs)(all)\n",
      "4                      ## 12. MinCov: min samples in a final locus             (s7)\n",
      "3                      ## 13. MaxSH: max inds with shared hetero site          (s7)\n",
      "oly_gbs_pyrad          ## 14. Prefix name for final output (no spaces)         (s7)\n",
      "==== optional params below this line ===================================  affected step ==\n",
      "                       ## 15.opt.: select subset (prefix* only selector)            (s2-s7)\n",
      "                       ## 16.opt.: add-on (outgroup) taxa (list or prefix*)         (s6,s7)\n",
      "                       ## 17.opt.: exclude taxa (list or prefix*)                   (s7)\n",
      "                       ## 18.opt.: loc. of de-multiplexed data                      (s2)\n",
      "                       ## 19.opt.: maxM: N mismatches in barcodes (def= 1)          (s1)\n",
      "                       ## 20.opt.: phred Qscore offset (def= 33)                    (s2)\n",
      "2                      ## 21.opt.: filter: def=0=NQual 1=NQual+adapters. 2=strict   (s2)\n",
      "                       ## 22.opt.: a priori E,H (def= 0.001,0.01, if not estimated) (s5)\n",
      "4                      ## 23.opt.: maxN: max Ns in a cons seq (def=5)               (s5)\n",
      "8                      ## 24.opt.: maxH: max heterozyg. sites in cons seq (def=5)   (s5)\n",
      "                       ## 25.opt.: ploidy: max alleles in cons seq (def=2;see docs) (s4,s5)\n",
      "                       ## 26.opt.: maxSNPs: (def=100). Paired (def=100,100)         (s7)\n",
      "                       ## 27.opt.: maxIndels: within-clust,across-clust (def. 3,99) (s3,s7)\n",
      "                       ## 28.opt.: random number seed (def. 112233)              (s3,s6,s7)\n",
      "                       ## 29.opt.: trim overhang left,right on final loci, def(0,0) (s7)\n",
      "*                      ## 30.opt.: output formats: p,n,a,s,v,u,t,m,k,g,* (see docs) (s7)\n",
      "                       ## 31.opt.: maj. base call at depth>x<mindepth (def.x=mindepth) (s5)\n",
      "50                     ## 32.opt.: keep trimmed reads (def=0). Enter min length.    (s2)\n",
      "                       ## 33.opt.: max stack size (int), def= max(500,mean+2*SD)    (s3)\n",
      "                       ## 34.opt.: minDerep: exclude dereps with <= N copies, def=1 (s3)\n",
      "                       ## 35.opt.: use hierarchical clustering (def.=0, 1=yes)      (s6)\n",
      "                       ## 36.opt.: repeat masking (def.=1='dust' method, 0=no)      (s3,s6)\n",
      "16                     ## 37.opt.: vsearch max threads per job (def.=6; see docs)   (s3,s6)\n",
      "==== optional: list group/clade assignments below this line (see docs) ==================\n",
      "1HL\t5\t1HL*\n",
      "1NF\t5\t1NF*\n",
      "1SN\t5\t1SN*\n"
     ]
    }
   ],
   "source": [
    "%%bash\n",
    "cat params.txt"
   ]
  },
  {
   "cell_type": "markdown",
   "metadata": {},
   "source": [
    "### View barcodes.txt file"
   ]
  },
  {
   "cell_type": "code",
   "execution_count": 19,
   "metadata": {
    "collapsed": false,
    "scrolled": true
   },
   "outputs": [
    {
     "name": "stdout",
     "output_type": "stream",
     "text": [
      "1NF_1A\tCTCC\n",
      "1NF_2A\tTGCA\n",
      "1NF_4A\tACTA\n",
      "1NF_5A\tCAGA\n",
      "1NF_6A\tAACT\n",
      "1NF_7A\tGCGT\n",
      "1NF_8A\tCGAT\n",
      "1NF_9A\tGTAA\n",
      "1NF_10A\tAGGC\n",
      "1NF_11A\tGATC\n",
      "1NF_12A\tTCAC\n",
      "1NF_13A\tTGCGA\n",
      "1NF_14A\tCGCTT\n",
      "1NF_15A\tTCACC\n",
      "1NF_16A\tCTAGC\n",
      "1NF_17A\tACAAA\n",
      "1NF_18A\tTTCTC\n",
      "1NF_19A\tAGCCC\n",
      "1NF_20A\tGTATT\n",
      "1NF_21A\tCTGTA\n",
      "1NF_22A\tACCGT\n",
      "1NF_23A\tGCTTA\n",
      "1NF_24A\tGGTGT\n",
      "1NF_25A\tAGGAT\n",
      "1NF_26A\tATTGA\n",
      "1NF_27A\tCATCT\n",
      "1NF_28A\tCCTAC\n",
      "1NF_29A\tGAGGA\n",
      "1NF_30A\tGGAAC\n",
      "1NF_31A\tGTCAA\n",
      "1NF_32A\tTAATA\n",
      "1NF_33A\tTACAT\n",
      "1SN_1A\tTCGTT\n",
      "1SN_2A\tGGTTGT\n",
      "1SN_3A\tCCAGCT\n",
      "1SN_4A\tTTCAGA\n",
      "1SN_5A\tTAGGAA\n",
      "1SN_6A\tGCTCTA\n",
      "1SN_7A\tCCACAA\n",
      "1SN_8A\tCTTCCA\n",
      "1SN_9A\tGAGATA\n",
      "1SN_10A\tATGCCT\n",
      "1SN_11A\tAGTGGA\n",
      "1SN_12A\tACCTAA\n",
      "1SN_13A\tATATGT\n",
      "1SN_14A\tATCGTA\n",
      "1SN_15A\tCATCGT\n",
      "1SN_16A\tCGCGGT\n",
      "1SN_17A\tCTATTA\n",
      "1SN_18A\tGCCAGT\n",
      "1SN_19A\tGGAAGA\n",
      "1SN_20A\tGTACTT\n",
      "1SN_21A\tGTTGAA\n",
      "1SN_22A\tTAACGA\n",
      "1SN_23A\tTGGCTA\n",
      "1SN_24A\tTATTTTT\n",
      "1SN_25A\tCTTGCTT\n",
      "1SN_26A\tATGAAAC\n",
      "1SN_27A\tAAAAGTT\n",
      "1SN_28A\tGAATTCA\n",
      "1SN_29A\tGAACTTC\n",
      "1SN_30A\tGGACCTA\n",
      "1SN_31A\tGTCGATT\n",
      "1SN_32A\tAACGCCT\n",
      "1HL_1A\tAATATGC\n",
      "1HL_2A\tACGTGTT\n",
      "1HL_3A\tATTAATT\n",
      "1HL_4A\tATTGGAT\n",
      "1HL_5A\tCATAAGT\n",
      "1HL_6A\tCGCTGAT\n",
      "1HL_7A\tCGGTAGA\n",
      "1HL_8A\tCTACGGA\n",
      "1HL_9A\tGCGGAAT\n",
      "1HL_10A\tTAGCGGA\n",
      "1HL_11A\tTCGAAGA\n",
      "1HL_12A\tTCTGTGA\n",
      "1HL_13A\tTGCTGGA\n",
      "1HL_14A\tACGACTAC\n",
      "1HL_15A\tTAGCATGC\n",
      "1HL_16A\tTAGGCCAT\n",
      "1HL_17A\tTGCAAGGA\n",
      "1HL_19A\tTGGTACGT\n",
      "1HL_20A\tTCTCAGTC\n",
      "1HL_21A\tCCGGATAT\n",
      "1HL_22A\tCGCCTTAT\n",
      "1HL_23A\tAACCGAGA\n",
      "1HL_24A\tACAGGGAA\n",
      "1HL_25A\tACGTGGTA\n",
      "1HL_26A\tCCATGGGT\n",
      "1HL_27A\tCGCGGAGA\n",
      "1HL_28A\tCGTGTGGT\n",
      "1HL_29A\tGCTGTGGA\n",
      "1HL_31A\tGGATTGGT\n",
      "1HL_33A\tGTGAGGGT\n",
      "1HL_34A\tTATCGGGA\n",
      "1HL_35A\tTTCCTGGA\n"
     ]
    }
   ],
   "source": [
    "%%bash\n",
    "cat barcodes.txt"
   ]
  },
  {
   "cell_type": "markdown",
   "metadata": {},
   "source": [
    "### Step 1: De-multiplex reads"
   ]
  },
  {
   "cell_type": "code",
   "execution_count": null,
   "metadata": {
    "collapsed": true
   },
   "outputs": [],
   "source": [
    "%%bash\n",
    "time pyrad -p params.txt -s 1"
   ]
  },
  {
   "cell_type": "code",
   "execution_count": null,
   "metadata": {
    "collapsed": true
   },
   "outputs": [],
   "source": []
  }
 ],
 "metadata": {
  "kernelspec": {
   "display_name": "Python 2",
   "language": "python",
   "name": "python2"
  },
  "language_info": {
   "codemirror_mode": {
    "name": "ipython",
    "version": 2
   },
   "file_extension": ".py",
   "mimetype": "text/x-python",
   "name": "python",
   "nbconvert_exporter": "python",
   "pygments_lexer": "ipython2",
   "version": "2.7.12"
  }
 },
 "nbformat": 4,
 "nbformat_minor": 0
}
