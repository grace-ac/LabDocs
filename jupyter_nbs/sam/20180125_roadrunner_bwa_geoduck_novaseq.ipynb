{
 "cells": [
  {
   "cell_type": "code",
   "execution_count": 1,
   "metadata": {},
   "outputs": [
    {
     "name": "stdout",
     "output_type": "stream",
     "text": [
      "TODAY'S DATE\n",
      "Thu Jan 25 08:57:57 PST 2018\n",
      "------------\n",
      "\n",
      "Distributor ID:\tUbuntu\n",
      "Description:\tUbuntu 16.04.3 LTS\n",
      "Release:\t16.04\n",
      "Codename:\txenial\n",
      "\n",
      "------------\n",
      "HOSTNAME: \n",
      "roadrunner\n",
      "\n",
      "------------\n",
      "Computer Specs:\n",
      "\n",
      "Architecture:          x86_64\n",
      "CPU op-mode(s):        32-bit, 64-bit\n",
      "Byte Order:            Little Endian\n",
      "CPU(s):                16\n",
      "On-line CPU(s) list:   0-15\n",
      "Thread(s) per core:    2\n",
      "Core(s) per socket:    4\n",
      "Socket(s):             2\n",
      "NUMA node(s):          1\n",
      "Vendor ID:             GenuineIntel\n",
      "CPU family:            6\n",
      "Model:                 26\n",
      "Model name:            Intel(R) Xeon(R) CPU           E5520  @ 2.27GHz\n",
      "Stepping:              5\n",
      "CPU MHz:               1596.000\n",
      "CPU max MHz:           2394.0000\n",
      "CPU min MHz:           1596.0000\n",
      "BogoMIPS:              4521.75\n",
      "Virtualization:        VT-x\n",
      "L1d cache:             32K\n",
      "L1i cache:             32K\n",
      "L2 cache:              256K\n",
      "L3 cache:              8192K\n",
      "NUMA node0 CPU(s):     0-15\n",
      "Flags:                 fpu vme de pse tsc msr pae mce cx8 apic sep mtrr pge mca cmov pat pse36 clflush dts acpi mmx fxsr sse sse2 ss ht tm pbe syscall nx rdtscp lm constant_tsc arch_perfmon pebs bts nopl xtopology nonstop_tsc aperfmperf pni dtes64 monitor ds_cpl vmx est tm2 ssse3 cx16 xtpr pdcm dca sse4_1 sse4_2 popcnt lahf_lm kaiser tpr_shadow vnmi flexpriority ept vpid dtherm ida\n",
      "\n",
      "------------\n",
      "\n",
      "Memory Specs\n",
      "\n",
      "              total        used        free      shared  buff/cache   available\n",
      "Mem:            47G        556M         18G         77M         28G         46G\n",
      "Swap:           47G          0B         47G\n"
     ]
    },
    {
     "name": "stderr",
     "output_type": "stream",
     "text": [
      "No LSB modules are available.\n"
     ]
    }
   ],
   "source": [
    "%%bash\n",
    "echo \"TODAY'S DATE\"\n",
    "date\n",
    "echo \"------------\"\n",
    "echo \"\"\n",
    "lsb_release -a\n",
    "echo \"\"\n",
    "echo \"------------\"\n",
    "echo \"HOSTNAME: \"\n",
    "hostname\n",
    "echo \"\"\n",
    "echo \"------------\"\n",
    "echo \"Computer Specs:\"\n",
    "echo \"\"\n",
    "lscpu\n",
    "echo \"\"\n",
    "echo \"------------\"\n",
    "echo \"\"\n",
    "echo \"Memory Specs\"\n",
    "echo \"\"\n",
    "free -mh"
   ]
  },
  {
   "cell_type": "code",
   "execution_count": 2,
   "metadata": {},
   "outputs": [
    {
     "name": "stderr",
     "output_type": "stream",
     "text": [
      "\n",
      "real\t149m27.558s\n",
      "user\t0m6.264s\n",
      "sys\t10m11.356s\n"
     ]
    }
   ],
   "source": [
    "%%bash\n",
    "time cp /home/sam/owl/nightingales/P_generosa/[AN][DR]0*.gz /home/sam/data/geoduck_illumina/"
   ]
  },
  {
   "cell_type": "code",
   "execution_count": 3,
   "metadata": {},
   "outputs": [
    {
     "name": "stderr",
     "output_type": "stream",
     "text": [
      "bash: line 3: emailme: command not found\n"
     ]
    }
   ],
   "source": [
    "%%bash\n",
    "source /etc/environment\n",
    "source ~/.bashrc\n",
    "source ~/.bash_aliases\n",
    "emailme"
   ]
  },
  {
   "cell_type": "markdown",
   "metadata": {},
   "source": [
    "Steven previously ran these through [MultiQC](http://multiqc.info/) and they failed the adapter sequence contamination check. See his results here: [http://owl.fish.washington.edu/halfshell/bu-alanine-wd/17-09-15b/multiqc_report.html#fastqc_adapter_content](http://owl.fish.washington.edu/halfshell/bu-alanine-wd/17-09-15b/multiqc_report.html#fastqc_adapter_content)\n",
    "\n",
    "That means we need to trim them. Will use ```trim_galore``` for this; it has built-in adapter sequences for standar Illumina libraries, as well as Nextera libraries (will probably need to trim for both)."
   ]
  },
  {
   "cell_type": "code",
   "execution_count": 4,
   "metadata": {},
   "outputs": [
    {
     "name": "stdout",
     "output_type": "stream",
     "text": [
      "total 541G\n",
      "-rwxr-xr-x 1 sam sam  15G Jan 25 09:05 AD002_S9_L001_R1_001.fastq.gz\n",
      "-rwxr-xr-x 1 sam sam  15G Jan 25 09:08 AD002_S9_L001_R2_001.fastq.gz\n",
      "-rwxr-xr-x 1 sam sam  17G Jan 25 09:13 AD002_S9_L002_R1_001.fastq.gz\n",
      "-rwxr-xr-x 1 sam sam  18G Jan 25 09:17 AD002_S9_L002_R2_001.fastq.gz\n",
      "-rwxr-xr-x 1 sam sam 3.4M Jan 25 09:17 NR005_S4_L001_R1_001.fastq.gz\n",
      "-rwxr-xr-x 1 sam sam 3.5M Jan 25 09:17 NR005_S4_L001_R2_001.fastq.gz\n",
      "-rwxr-xr-x 1 sam sam 2.8M Jan 25 09:17 NR005_S4_L002_R1_001.fastq.gz\n",
      "-rwxr-xr-x 1 sam sam 2.9M Jan 25 09:17 NR005_S4_L002_R2_001.fastq.gz\n",
      "-rwxr-xr-x 1 sam sam 262M Jan 25 09:17 NR006_S3_L001_R1_001.fastq.gz\n",
      "-rwxr-xr-x 1 sam sam 271M Jan 25 09:17 NR006_S3_L001_R2_001.fastq.gz\n",
      "-rwxr-xr-x 1 sam sam 217M Jan 25 09:17 NR006_S3_L002_R1_001.fastq.gz\n",
      "-rwxr-xr-x 1 sam sam 226M Jan 25 09:17 NR006_S3_L002_R2_001.fastq.gz\n",
      "-rwxr-xr-x 1 sam sam  25M Jan 25 09:17 NR012_S1_L001_R1_001.fastq.gz\n",
      "-rwxr-xr-x 1 sam sam  27M Jan 25 09:17 NR012_S1_L001_R2_001.fastq.gz\n",
      "-rwxr-xr-x 1 sam sam  28M Jan 25 09:17 NR012_S1_L002_R1_001.fastq.gz\n",
      "-rwxr-xr-x 1 sam sam  29M Jan 25 09:17 NR012_S1_L002_R2_001.fastq.gz\n",
      "-rwxr-xr-x 1 sam sam  26G Jan 25 09:23 NR013_AD013_S2_L001_R1_001.fastq.gz\n",
      "-rwxr-xr-x 1 sam sam  28G Jan 25 09:30 NR013_AD013_S2_L001_R2_001.fastq.gz\n",
      "-rwxr-xr-x 1 sam sam  30G Jan 25 09:37 NR013_AD013_S2_L002_R1_001.fastq.gz\n",
      "-rwxr-xr-x 1 sam sam  32G Jan 25 09:44 NR013_AD013_S2_L002_R2_001.fastq.gz\n",
      "-rwxr-xr-x 1 sam sam  64G Jan 25 10:02 NR014_AD014_S5_L001_R1_001.fastq.gz\n",
      "-rwxr-xr-x 1 sam sam  66G Jan 25 10:20 NR014_AD014_S5_L001_R2_001.fastq.gz\n",
      "-rwxr-xr-x 1 sam sam  70G Jan 25 10:39 NR014_AD014_S5_L002_R1_001.fastq.gz\n",
      "-rwxr-xr-x 1 sam sam  73G Jan 25 11:01 NR014_AD014_S5_L002_R2_001.fastq.gz\n",
      "-rwxr-xr-x 1 sam sam  22G Jan 25 11:07 NR015_AD015_S6_L001_R1_001.fastq.gz\n",
      "-rwxr-xr-x 1 sam sam  23G Jan 25 11:15 NR015_AD015_S6_L001_R2_001.fastq.gz\n",
      "-rwxr-xr-x 1 sam sam  23G Jan 25 11:23 NR015_AD015_S6_L002_R1_001.fastq.gz\n",
      "-rwxr-xr-x 1 sam sam  24G Jan 25 11:31 NR015_AD015_S6_L002_R2_001.fastq.gz\n",
      "-rwxr-xr-x 1 sam sam 4.5M Jan 25 11:31 NR019_S7_L001_R1_001.fastq.gz\n",
      "-rwxr-xr-x 1 sam sam 4.5M Jan 25 11:31 NR019_S7_L001_R2_001.fastq.gz\n",
      "-rwxr-xr-x 1 sam sam 2.5M Jan 25 11:31 NR019_S7_L002_R1_001.fastq.gz\n",
      "-rwxr-xr-x 1 sam sam 2.5M Jan 25 11:31 NR019_S7_L002_R2_001.fastq.gz\n",
      "-rwxr-xr-x 1 sam sam 319M Jan 25 11:31 NR021_S8_L001_R1_001.fastq.gz\n",
      "-rwxr-xr-x 1 sam sam 333M Jan 25 11:31 NR021_S8_L001_R2_001.fastq.gz\n",
      "-rwxr-xr-x 1 sam sam 265M Jan 25 11:31 NR021_S8_L002_R1_001.fastq.gz\n",
      "-rwxr-xr-x 1 sam sam 276M Jan 25 11:31 NR021_S8_L002_R2_001.fastq.gz\n"
     ]
    }
   ],
   "source": [
    "%%bash\n",
    "ls -lh /home/sam/data/geoduck_illumina/"
   ]
  },
  {
   "cell_type": "markdown",
   "metadata": {
    "collapsed": true
   },
   "source": [
    "Restarted notebook to load in fixes for email notifications."
   ]
  },
  {
   "cell_type": "code",
   "execution_count": 1,
   "metadata": {},
   "outputs": [
    {
     "name": "stdout",
     "output_type": "stream",
     "text": [
      "Thu Jan 25 11:52:01 PST 2018\n"
     ]
    }
   ],
   "source": [
    "%%bash\n",
    "date"
   ]
  },
  {
   "cell_type": "code",
   "execution_count": 2,
   "metadata": {
    "collapsed": true
   },
   "outputs": [],
   "source": [
    "%%bash\n",
    "mkdir /home/sam/data/geoduck_illumina/trimmed"
   ]
  },
  {
   "cell_type": "code",
   "execution_count": 3,
   "metadata": {},
   "outputs": [
    {
     "name": "stderr",
     "output_type": "stream",
     "text": [
      "No quality encoding type selected. Assuming that the data provided uses Sanger encoded Phred scores (default)\n",
      "\n",
      "\n",
      "Please provide the filename(s) of one or more FastQ file(s) to launch Trim Galore!\n",
      "\n",
      "USAGE:  'trim_galore [options] <filename(s)>'    or    'trim_galore --help'    for more options\n",
      "\n",
      "\n",
      "real\t0m1.499s\n",
      "user\t0m0.036s\n",
      "sys\t0m0.012s\n",
      "bash: line 4: emailme: command not found\n"
     ]
    }
   ],
   "source": [
    "%%bash\n",
    "time /home/shared/trimgalore/trim_galore \\\n",
    "--paired \\\n",
    "--output_dir /home/sam/data/geoduck_illumina/trimmed/\n",
    "emailme"
   ]
  },
  {
   "cell_type": "code",
   "execution_count": 4,
   "metadata": {},
   "outputs": [
    {
     "name": "stdout",
     "output_type": "stream",
     "text": [
      "samwhite@uw.edu\n"
     ]
    }
   ],
   "source": [
    "%%bash\n",
    "echo $EMAIL"
   ]
  },
  {
   "cell_type": "code",
   "execution_count": 5,
   "metadata": {},
   "outputs": [
    {
     "name": "stdout",
     "output_type": "stream",
     "text": [
      "testing\n"
     ]
    },
    {
     "name": "stderr",
     "output_type": "stream",
     "text": [
      "bash: line 1: emailme: command not found\n"
     ]
    }
   ],
   "source": [
    "%%bash\n",
    "echo \"testing\"; emailme"
   ]
  },
  {
   "cell_type": "code",
   "execution_count": 6,
   "metadata": {
    "collapsed": true
   },
   "outputs": [],
   "source": [
    "%%bash\n",
    "source /home/sam/.bash_aliases"
   ]
  },
  {
   "cell_type": "code",
   "execution_count": 7,
   "metadata": {},
   "outputs": [
    {
     "name": "stdout",
     "output_type": "stream",
     "text": [
      "testing\n"
     ]
    },
    {
     "name": "stderr",
     "output_type": "stream",
     "text": [
      "bash: line 1: emailme: command not found\n"
     ]
    }
   ],
   "source": [
    "%%bash\n",
    "echo \"testing\"; emailme"
   ]
  },
  {
   "cell_type": "code",
   "execution_count": 8,
   "metadata": {},
   "outputs": [
    {
     "name": "stdout",
     "output_type": "stream",
     "text": [
      "testing\n"
     ]
    },
    {
     "name": "stderr",
     "output_type": "stream",
     "text": [
      "bash: line 2: emailme: command not found\n"
     ]
    }
   ],
   "source": [
    "%%bash\n",
    "source /home/sam/.bash_aliases\n",
    "echo \"testing\"; emailme"
   ]
  },
  {
   "cell_type": "code",
   "execution_count": 9,
   "metadata": {},
   "outputs": [
    {
     "name": "stdout",
     "output_type": "stream",
     "text": [
      "# Alias for emailing with default email sender/subject\n",
      "alias emailme='cat ~/.default_subject.mail | msmtp \"$EMAIL\"'\n"
     ]
    }
   ],
   "source": [
    "%%bash\n",
    "cat /home/sam/.bash_aliases"
   ]
  },
  {
   "cell_type": "code",
   "execution_count": 10,
   "metadata": {},
   "outputs": [
    {
     "name": "stdout",
     "output_type": "stream",
     "text": [
      "# Alias for emailing with default email sender/subject\n",
      "alias emailme='cat ~/.default-subject.mail | msmtp \"$EMAIL\"'\n"
     ]
    }
   ],
   "source": [
    "%%bash\n",
    "cat /home/sam/.bash_aliases"
   ]
  },
  {
   "cell_type": "code",
   "execution_count": 11,
   "metadata": {},
   "outputs": [
    {
     "name": "stdout",
     "output_type": "stream",
     "text": [
      "testing\n"
     ]
    },
    {
     "name": "stderr",
     "output_type": "stream",
     "text": [
      "bash: line 2: emailme: command not found\n"
     ]
    }
   ],
   "source": [
    "%%bash\n",
    "source /home/sam/.bash_aliases\n",
    "echo \"testing\"; emailme"
   ]
  },
  {
   "cell_type": "code",
   "execution_count": 12,
   "metadata": {},
   "outputs": [
    {
     "name": "stderr",
     "output_type": "stream",
     "text": [
      "bash: line 3: unexpected EOF while looking for matching `\"'\n",
      "bash: line 5: syntax error: unexpected end of file\n"
     ]
    }
   ],
   "source": [
    "%%bash\n",
    "for file in /home/sam/data/geoduck_illumina/*.gz\n",
    "do\n",
    "printf %s/n \"$file \\\"\n",
    "done"
   ]
  },
  {
   "cell_type": "code",
   "execution_count": 13,
   "metadata": {},
   "outputs": [
    {
     "name": "stderr",
     "output_type": "stream",
     "text": [
      "bash: line 3: unexpected EOF while looking for matching `\"'\n",
      "bash: line 5: syntax error: unexpected end of file\n"
     ]
    }
   ],
   "source": [
    "%%bash\n",
    "for file in /home/sam/data/geoduck_illumina/*.gz\n",
    "do\n",
    "printf \"\"%s\\n\"\" \"$file \\\"\n",
    "done"
   ]
  },
  {
   "cell_type": "code",
   "execution_count": 14,
   "metadata": {},
   "outputs": [
    {
     "name": "stderr",
     "output_type": "stream",
     "text": [
      "bash: line 3: unexpected EOF while looking for matching `\"'\n",
      "bash: line 5: syntax error: unexpected end of file\n"
     ]
    }
   ],
   "source": [
    "%%bash\n",
    "for file in /home/sam/data/geoduck_illumina/*.gz\n",
    "do\n",
    "printf \"%s\\n\" \"$file \\\"\n",
    "done"
   ]
  },
  {
   "cell_type": "code",
   "execution_count": 15,
   "metadata": {},
   "outputs": [
    {
     "name": "stdout",
     "output_type": "stream",
     "text": [
      "/home/sam/data/geoduck_illumina/AD002_S9_L001_R1_001.fastq.gz \\\n",
      "/home/sam/data/geoduck_illumina/AD002_S9_L001_R2_001.fastq.gz \\\n",
      "/home/sam/data/geoduck_illumina/AD002_S9_L002_R1_001.fastq.gz \\\n",
      "/home/sam/data/geoduck_illumina/AD002_S9_L002_R2_001.fastq.gz \\\n",
      "/home/sam/data/geoduck_illumina/NR005_S4_L001_R1_001.fastq.gz \\\n",
      "/home/sam/data/geoduck_illumina/NR005_S4_L001_R2_001.fastq.gz \\\n",
      "/home/sam/data/geoduck_illumina/NR005_S4_L002_R1_001.fastq.gz \\\n",
      "/home/sam/data/geoduck_illumina/NR005_S4_L002_R2_001.fastq.gz \\\n",
      "/home/sam/data/geoduck_illumina/NR006_S3_L001_R1_001.fastq.gz \\\n",
      "/home/sam/data/geoduck_illumina/NR006_S3_L001_R2_001.fastq.gz \\\n",
      "/home/sam/data/geoduck_illumina/NR006_S3_L002_R1_001.fastq.gz \\\n",
      "/home/sam/data/geoduck_illumina/NR006_S3_L002_R2_001.fastq.gz \\\n",
      "/home/sam/data/geoduck_illumina/NR012_S1_L001_R1_001.fastq.gz \\\n",
      "/home/sam/data/geoduck_illumina/NR012_S1_L001_R2_001.fastq.gz \\\n",
      "/home/sam/data/geoduck_illumina/NR012_S1_L002_R1_001.fastq.gz \\\n",
      "/home/sam/data/geoduck_illumina/NR012_S1_L002_R2_001.fastq.gz \\\n",
      "/home/sam/data/geoduck_illumina/NR013_AD013_S2_L001_R1_001.fastq.gz \\\n",
      "/home/sam/data/geoduck_illumina/NR013_AD013_S2_L001_R2_001.fastq.gz \\\n",
      "/home/sam/data/geoduck_illumina/NR013_AD013_S2_L002_R1_001.fastq.gz \\\n",
      "/home/sam/data/geoduck_illumina/NR013_AD013_S2_L002_R2_001.fastq.gz \\\n",
      "/home/sam/data/geoduck_illumina/NR014_AD014_S5_L001_R1_001.fastq.gz \\\n",
      "/home/sam/data/geoduck_illumina/NR014_AD014_S5_L001_R2_001.fastq.gz \\\n",
      "/home/sam/data/geoduck_illumina/NR014_AD014_S5_L002_R1_001.fastq.gz \\\n",
      "/home/sam/data/geoduck_illumina/NR014_AD014_S5_L002_R2_001.fastq.gz \\\n",
      "/home/sam/data/geoduck_illumina/NR015_AD015_S6_L001_R1_001.fastq.gz \\\n",
      "/home/sam/data/geoduck_illumina/NR015_AD015_S6_L001_R2_001.fastq.gz \\\n",
      "/home/sam/data/geoduck_illumina/NR015_AD015_S6_L002_R1_001.fastq.gz \\\n",
      "/home/sam/data/geoduck_illumina/NR015_AD015_S6_L002_R2_001.fastq.gz \\\n",
      "/home/sam/data/geoduck_illumina/NR019_S7_L001_R1_001.fastq.gz \\\n",
      "/home/sam/data/geoduck_illumina/NR019_S7_L001_R2_001.fastq.gz \\\n",
      "/home/sam/data/geoduck_illumina/NR019_S7_L002_R1_001.fastq.gz \\\n",
      "/home/sam/data/geoduck_illumina/NR019_S7_L002_R2_001.fastq.gz \\\n",
      "/home/sam/data/geoduck_illumina/NR021_S8_L001_R1_001.fastq.gz \\\n",
      "/home/sam/data/geoduck_illumina/NR021_S8_L001_R2_001.fastq.gz \\\n",
      "/home/sam/data/geoduck_illumina/NR021_S8_L002_R1_001.fastq.gz \\\n",
      "/home/sam/data/geoduck_illumina/NR021_S8_L002_R2_001.fastq.gz \\\n"
     ]
    }
   ],
   "source": [
    "%%bash\n",
    "for file in /home/sam/data/geoduck_illumina/*.gz\n",
    "do\n",
    "printf \"%s\\n\" \"$file \\\\\"\n",
    "done"
   ]
  },
  {
   "cell_type": "code",
   "execution_count": 16,
   "metadata": {},
   "outputs": [
    {
     "name": "stdout",
     "output_type": "stream",
     "text": [
      "AD002_S9_L001_R1_001.fastq.gz \\\n",
      "AD002_S9_L001_R2_001.fastq.gz \\\n",
      "AD002_S9_L002_R1_001.fastq.gz \\\n",
      "AD002_S9_L002_R2_001.fastq.gz \\\n",
      "NR005_S4_L001_R1_001.fastq.gz \\\n",
      "NR005_S4_L001_R2_001.fastq.gz \\\n",
      "NR005_S4_L002_R1_001.fastq.gz \\\n",
      "NR005_S4_L002_R2_001.fastq.gz \\\n",
      "NR006_S3_L001_R1_001.fastq.gz \\\n",
      "NR006_S3_L001_R2_001.fastq.gz \\\n",
      "NR006_S3_L002_R1_001.fastq.gz \\\n",
      "NR006_S3_L002_R2_001.fastq.gz \\\n",
      "NR012_S1_L001_R1_001.fastq.gz \\\n",
      "NR012_S1_L001_R2_001.fastq.gz \\\n",
      "NR012_S1_L002_R1_001.fastq.gz \\\n",
      "NR012_S1_L002_R2_001.fastq.gz \\\n",
      "NR013_AD013_S2_L001_R1_001.fastq.gz \\\n",
      "NR013_AD013_S2_L001_R2_001.fastq.gz \\\n",
      "NR013_AD013_S2_L002_R1_001.fastq.gz \\\n",
      "NR013_AD013_S2_L002_R2_001.fastq.gz \\\n",
      "NR014_AD014_S5_L001_R1_001.fastq.gz \\\n",
      "NR014_AD014_S5_L001_R2_001.fastq.gz \\\n",
      "NR014_AD014_S5_L002_R1_001.fastq.gz \\\n",
      "NR014_AD014_S5_L002_R2_001.fastq.gz \\\n",
      "NR015_AD015_S6_L001_R1_001.fastq.gz \\\n",
      "NR015_AD015_S6_L001_R2_001.fastq.gz \\\n",
      "NR015_AD015_S6_L002_R1_001.fastq.gz \\\n",
      "NR015_AD015_S6_L002_R2_001.fastq.gz \\\n",
      "NR019_S7_L001_R1_001.fastq.gz \\\n",
      "NR019_S7_L001_R2_001.fastq.gz \\\n",
      "NR019_S7_L002_R1_001.fastq.gz \\\n",
      "NR019_S7_L002_R2_001.fastq.gz \\\n",
      "NR021_S8_L001_R1_001.fastq.gz \\\n",
      "NR021_S8_L001_R2_001.fastq.gz \\\n",
      "NR021_S8_L002_R1_001.fastq.gz \\\n",
      "NR021_S8_L002_R2_001.fastq.gz \\\n"
     ]
    }
   ],
   "source": [
    "%%bash\n",
    "for file in /home/sam/data/geoduck_illumina/*.gz\n",
    "do\n",
    "filename=${file##*/}\n",
    "printf \"%s\\n\" \"$filename \\\\\"\n",
    "done"
   ]
  },
  {
   "cell_type": "code",
   "execution_count": 17,
   "metadata": {},
   "outputs": [
    {
     "name": "stdout",
     "output_type": "stream",
     "text": [
      "1.9.1\n"
     ]
    },
    {
     "name": "stderr",
     "output_type": "stream",
     "text": [
      "No quality encoding type selected. Assuming that the data provided uses Sanger encoded Phred scores (default)\n",
      "\n",
      "gzip: AD002_S9_L001_R1_001.fastq.gz: No such file or directory\n",
      "Input file 'AD002_S9_L001_R1_001.fastq.gz' seems to be completely empty. Consider respecifying!\n",
      "\n",
      "Path to Cutadapt set as: 'cutadapt' (default)\n",
      "Cutadapt seems to be working fine (tested command 'cutadapt --version')\n",
      "\n",
      "\n",
      "AUTO-DETECTING ADAPTER TYPE\n",
      "===========================\n",
      "Attempting to auto-detect adapter type from the first 1 million sequences of the first file (>> AD002_S9_L001_R1_001.fastq.gz <<)\n",
      "\n",
      "gzip: AD002_S9_L001_R1_001.fastq.gz: No such file or directory\n",
      "Found perfect matches for the following adapter sequences:\n",
      "Adapter type\tCount\tSequence\tSequences analysed\tPercentage\n",
      "Illegal division by zero at /home/shared/trimgalore/trim_galore line 1229.\n",
      "\n",
      "real\t0m1.615s\n",
      "user\t0m0.112s\n",
      "sys\t0m0.024s\n"
     ]
    }
   ],
   "source": [
    "%%bash\n",
    "time /home/shared/trimgalore/trim_galore \\\n",
    "--paired \\\n",
    "--output_dir /home/sam/data/geoduck_illumina/trimmed/ \\\n",
    "AD002_S9_L001_R1_001.fastq.gz \\\n",
    "AD002_S9_L001_R2_001.fastq.gz \\\n",
    "AD002_S9_L002_R1_001.fastq.gz \\\n",
    "AD002_S9_L002_R2_001.fastq.gz \\\n",
    "NR005_S4_L001_R1_001.fastq.gz \\\n",
    "NR005_S4_L001_R2_001.fastq.gz \\\n",
    "NR005_S4_L002_R1_001.fastq.gz \\\n",
    "NR005_S4_L002_R2_001.fastq.gz \\\n",
    "NR006_S3_L001_R1_001.fastq.gz \\\n",
    "NR006_S3_L001_R2_001.fastq.gz \\\n",
    "NR006_S3_L002_R1_001.fastq.gz \\\n",
    "NR006_S3_L002_R2_001.fastq.gz \\\n",
    "NR012_S1_L001_R1_001.fastq.gz \\\n",
    "NR012_S1_L001_R2_001.fastq.gz \\\n",
    "NR012_S1_L002_R1_001.fastq.gz \\\n",
    "NR012_S1_L002_R2_001.fastq.gz \\\n",
    "NR013_AD013_S2_L001_R1_001.fastq.gz \\\n",
    "NR013_AD013_S2_L001_R2_001.fastq.gz \\\n",
    "NR013_AD013_S2_L002_R1_001.fastq.gz \\\n",
    "NR013_AD013_S2_L002_R2_001.fastq.gz \\\n",
    "NR014_AD014_S5_L001_R1_001.fastq.gz \\\n",
    "NR014_AD014_S5_L001_R2_001.fastq.gz \\\n",
    "NR014_AD014_S5_L002_R1_001.fastq.gz \\\n",
    "NR014_AD014_S5_L002_R2_001.fastq.gz \\\n",
    "NR015_AD015_S6_L001_R1_001.fastq.gz \\\n",
    "NR015_AD015_S6_L001_R2_001.fastq.gz \\\n",
    "NR015_AD015_S6_L002_R1_001.fastq.gz \\\n",
    "NR015_AD015_S6_L002_R2_001.fastq.gz \\\n",
    "NR019_S7_L001_R1_001.fastq.gz \\\n",
    "NR019_S7_L001_R2_001.fastq.gz \\\n",
    "NR019_S7_L002_R1_001.fastq.gz \\\n",
    "NR019_S7_L002_R2_001.fastq.gz \\\n",
    "NR021_S8_L001_R1_001.fastq.gz \\\n",
    "NR021_S8_L001_R2_001.fastq.gz \\\n",
    "NR021_S8_L002_R1_001.fastq.gz \\\n",
    "NR021_S8_L002_R2_001.fastq.gz"
   ]
  },
  {
   "cell_type": "code",
   "execution_count": 18,
   "metadata": {
    "collapsed": true
   },
   "outputs": [],
   "source": [
    "cat ~/.default-subject.mail | msmtp \"$EMAIL\""
   ]
  },
  {
   "cell_type": "code",
   "execution_count": null,
   "metadata": {
    "collapsed": true
   },
   "outputs": [],
   "source": [
    "%%bash\n",
    "time /home/shared/trimgalore/trim_galore \\\n",
    "--paired \\\n",
    "--output_dir /home/sam/data/geoduck_illumina/trimmed/ \\\n",
    "/home/sam/data/geoduck_illumina/AD002_S9_L001_R1_001.fastq.gz \\\n",
    "/home/sam/data/geoduck_illumina/AD002_S9_L001_R2_001.fastq.gz \\\n",
    "/home/sam/data/geoduck_illumina/AD002_S9_L002_R1_001.fastq.gz \\\n",
    "/home/sam/data/geoduck_illumina/AD002_S9_L002_R2_001.fastq.gz \\\n",
    "/home/sam/data/geoduck_illumina/NR005_S4_L001_R1_001.fastq.gz \\\n",
    "/home/sam/data/geoduck_illumina/NR005_S4_L001_R2_001.fastq.gz \\\n",
    "/home/sam/data/geoduck_illumina/NR005_S4_L002_R1_001.fastq.gz \\\n",
    "/home/sam/data/geoduck_illumina/NR005_S4_L002_R2_001.fastq.gz \\\n",
    "/home/sam/data/geoduck_illumina/NR006_S3_L001_R1_001.fastq.gz \\\n",
    "/home/sam/data/geoduck_illumina/NR006_S3_L001_R2_001.fastq.gz \\\n",
    "/home/sam/data/geoduck_illumina/NR006_S3_L002_R1_001.fastq.gz \\\n",
    "/home/sam/data/geoduck_illumina/NR006_S3_L002_R2_001.fastq.gz \\\n",
    "/home/sam/data/geoduck_illumina/NR012_S1_L001_R1_001.fastq.gz \\\n",
    "/home/sam/data/geoduck_illumina/NR012_S1_L001_R2_001.fastq.gz \\\n",
    "/home/sam/data/geoduck_illumina/NR012_S1_L002_R1_001.fastq.gz \\\n",
    "/home/sam/data/geoduck_illumina/NR012_S1_L002_R2_001.fastq.gz \\\n",
    "/home/sam/data/geoduck_illumina/NR013_AD013_S2_L001_R1_001.fastq.gz \\\n",
    "/home/sam/data/geoduck_illumina/NR013_AD013_S2_L001_R2_001.fastq.gz \\\n",
    "/home/sam/data/geoduck_illumina/NR013_AD013_S2_L002_R1_001.fastq.gz \\\n",
    "/home/sam/data/geoduck_illumina/NR013_AD013_S2_L002_R2_001.fastq.gz \\\n",
    "/home/sam/data/geoduck_illumina/NR014_AD014_S5_L001_R1_001.fastq.gz \\\n",
    "/home/sam/data/geoduck_illumina/NR014_AD014_S5_L001_R2_001.fastq.gz \\\n",
    "/home/sam/data/geoduck_illumina/NR014_AD014_S5_L002_R1_001.fastq.gz \\\n",
    "/home/sam/data/geoduck_illumina/NR014_AD014_S5_L002_R2_001.fastq.gz \\\n",
    "/home/sam/data/geoduck_illumina/NR015_AD015_S6_L001_R1_001.fastq.gz \\\n",
    "/home/sam/data/geoduck_illumina/NR015_AD015_S6_L001_R2_001.fastq.gz \\\n",
    "/home/sam/data/geoduck_illumina/NR015_AD015_S6_L002_R1_001.fastq.gz \\\n",
    "/home/sam/data/geoduck_illumina/NR015_AD015_S6_L002_R2_001.fastq.gz \\\n",
    "/home/sam/data/geoduck_illumina/NR019_S7_L001_R1_001.fastq.gz \\\n",
    "/home/sam/data/geoduck_illumina/NR019_S7_L001_R2_001.fastq.gz \\\n",
    "/home/sam/data/geoduck_illumina/NR019_S7_L002_R1_001.fastq.gz \\\n",
    "/home/sam/data/geoduck_illumina/NR019_S7_L002_R2_001.fastq.gz \\\n",
    "/home/sam/data/geoduck_illumina/NR021_S8_L001_R1_001.fastq.gz \\\n",
    "/home/sam/data/geoduck_illumina/NR021_S8_L001_R2_001.fastq.gz \\\n",
    "/home/sam/data/geoduck_illumina/NR021_S8_L002_R1_001.fastq.gz \\\n",
    "/home/sam/data/geoduck_illumina/NR021_S8_L002_R2_001.fastq.gz"
   ]
  },
  {
   "cell_type": "code",
   "execution_count": null,
   "metadata": {
    "collapsed": true
   },
   "outputs": [],
   "source": [
    "cat ~/.default-subject.mail | msmtp \"$EMAIL\""
   ]
  },
  {
   "cell_type": "code",
   "execution_count": null,
   "metadata": {
    "collapsed": true
   },
   "outputs": [],
   "source": []
  }
 ],
 "metadata": {
  "kernelspec": {
   "display_name": "Python 3",
   "language": "python",
   "name": "python3"
  },
  "language_info": {
   "codemirror_mode": {
    "name": "ipython",
    "version": 3
   },
   "file_extension": ".py",
   "mimetype": "text/x-python",
   "name": "python",
   "nbconvert_exporter": "python",
   "pygments_lexer": "ipython3",
   "version": "3.6.3"
  }
 },
 "nbformat": 4,
 "nbformat_minor": 2
}
