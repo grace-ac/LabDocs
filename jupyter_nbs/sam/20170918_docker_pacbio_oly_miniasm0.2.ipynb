{
 "cells": [
  {
   "cell_type": "markdown",
   "metadata": {},
   "source": [
    "### Running in Docker container on Swoose\n",
    "\n",
    "Started Docker container with the following command:\n",
    "\n",
    "```docker run -p 8888:8888 -v /home/sam/data/pacbio_oly/:/home/data -it bioinformatics/bioinformatics:v0 /bin/bash```\n",
    "\n",
    "The command allows ```/home/sam/data/pacbio_oly/``` to be accessible to the Docker container.\n",
    "\n",
    "Once  access to Jupyter Notebook over port 8888 and makes my Jupyter Notebook GitHub repo and my data files the container was started, started Jupyter Notebook with the following command inside the Docker container:\n",
    "\n",
    "```jupyter notebook --allow-root```\n",
    "\n",
    "This is configured in the Docker container to launch a Jupyter Notebook without a browser on port 8888.\n",
    "The Docker container is running on an image created from this [Dockerfile (Git commit 7ee99a4](https://github.com/RobertsLab/code/commit/7ee99a4722180ce89cff4e1e73468764ee440455)"
   ]
  },
  {
   "cell_type": "code",
   "execution_count": 1,
   "metadata": {},
   "outputs": [
    {
     "name": "stdout",
     "output_type": "stream",
     "text": [
      "Mon Sep 18 16:08:15 UTC 2017\n"
     ]
    }
   ],
   "source": [
    "%%bash\n",
    "date"
   ]
  },
  {
   "cell_type": "code",
   "execution_count": 2,
   "metadata": {},
   "outputs": [
    {
     "name": "stdout",
     "output_type": "stream",
     "text": [
      "11cac628f321\n"
     ]
    }
   ],
   "source": [
    "%%bash\n",
    "hostname"
   ]
  },
  {
   "cell_type": "code",
   "execution_count": 3,
   "metadata": {},
   "outputs": [
    {
     "name": "stdout",
     "output_type": "stream",
     "text": [
      "Architecture:          x86_64\n",
      "CPU op-mode(s):        32-bit, 64-bit\n",
      "Byte Order:            Little Endian\n",
      "CPU(s):                24\n",
      "On-line CPU(s) list:   0-23\n",
      "Thread(s) per core:    2\n",
      "Core(s) per socket:    6\n",
      "Socket(s):             2\n",
      "NUMA node(s):          1\n",
      "Vendor ID:             GenuineIntel\n",
      "CPU family:            6\n",
      "Model:                 44\n",
      "Model name:            Intel(R) Xeon(R) CPU           X5670  @ 2.93GHz\n",
      "Stepping:              2\n",
      "CPU MHz:               2926.129\n",
      "BogoMIPS:              5851.98\n",
      "Virtualization:        VT-x\n",
      "L1d cache:             32K\n",
      "L1i cache:             32K\n",
      "L2 cache:              256K\n",
      "L3 cache:              12288K\n",
      "NUMA node0 CPU(s):     0-23\n"
     ]
    }
   ],
   "source": [
    "%%bash\n",
    "lscpu"
   ]
  },
  {
   "cell_type": "code",
   "execution_count": 4,
   "metadata": {},
   "outputs": [
    {
     "name": "stdout",
     "output_type": "stream",
     "text": [
      "             total       used       free     shared    buffers     cached\n",
      "Mem:           70G        55G        15G       252M       544M        47G\n",
      "-/+ buffers/cache:       6.9G        63G\n",
      "Swap:         4.7G       5.4M       4.7G\n"
     ]
    }
   ],
   "source": [
    "%%bash\n",
    "free -mh"
   ]
  },
  {
   "cell_type": "code",
   "execution_count": 5,
   "metadata": {},
   "outputs": [
    {
     "name": "stdout",
     "output_type": "stream",
     "text": [
      "/home/data\n"
     ]
    }
   ],
   "source": [
    "%%bash\n",
    "pwd"
   ]
  },
  {
   "cell_type": "code",
   "execution_count": 6,
   "metadata": {},
   "outputs": [
    {
     "name": "stdout",
     "output_type": "stream",
     "text": [
      "total 96720640\n",
      "-rw-rw-r-- 1 1000 1000  1463327832 Sep 11 18:51 170210_PCB-CC_MS_EEE_20kb_P6v2_D01_1_filtered_subreads.fasta\n",
      "-rwxrwxr-x 1 1000 1000  2852947472 Sep  7 21:26 170210_PCB-CC_MS_EEE_20kb_P6v2_D01_1_filtered_subreads.fastq\n",
      "-rw-rw-r-- 1 1000 1000  1601947458 Sep 11 18:49 170228_PCB-CC_AL_20kb_P6v2_C01_1_filtered_subreads.fasta\n",
      "-rwxrwxr-x 1 1000 1000  3126996263 Sep  7 21:27 170228_PCB-CC_AL_20kb_P6v2_C01_1_filtered_subreads.fastq\n",
      "-rwxrwxr-x 1 1000 1000  2843320527 Sep  7 21:27 170228_PCB-CC_AL_20kb_P6v2_D01_1_filtered_subreads.fastq\n",
      "-rwxrwxr-x 1 1000 1000  3114876304 Sep  7 21:28 170228_PCB-CC_AL_20kb_P6v2_E01_1_filtered_subreads.fastq\n",
      "-rwxrwxr-x 1 1000 1000  2960438946 Sep  7 21:28 170307_PCB-CC_AL_20kb_P6v2_C01_1_filtered_subreads.fastq\n",
      "-rwxrwxr-x 1 1000 1000  2995066419 Sep  7 21:28 170307_PCB-CC_AL_20kb_P6v2_C02_1_filtered_subreads.fastq\n",
      "-rwxrwxr-x 1 1000 1000  2092190052 Sep  7 21:29 170314_PCB-CC_20kb_P6v2_A01_1_filtered_subreads.fastq\n",
      "-rwxrwxr-x 1 1000 1000  1842836662 Sep  7 21:29 170314_PCB-CC_20kb_P6v2_A02_1_filtered_subreads.fastq\n",
      "-rwxrwxr-x 1 1000 1000  1672061431 Sep  7 21:29 170314_PCB-CC_20kb_P6v2_A03_1_filtered_subreads.fastq\n",
      "-rwxrwxr-x 1 1000 1000  1831019208 Sep  7 21:30 170314_PCB-CC_20kb_P6v2_A04_1_filtered_subreads.fastq\n",
      "-rw-r--r-- 1 root root           0 Sep  7 22:40 20170905_minimap2_pacibio_oly.paf\n",
      "-rw-r--r-- 1 root root       44085 Sep 18 16:07 20170907_docker_pacbio_oly_minimap2.ipynb\n",
      "-rw-r--r-- 1 root root 42611690934 Sep 11 22:02 20170911_minimap2_pacbio_oly.paf\n",
      "-rw-r--r-- 1 root root  1350653569 Sep 11 19:11 20170911_minimap2_pacbio_oly_170210_fq.paf\n",
      "-rw-r--r-- 1 root root  1350653569 Sep 11 19:04 20170911_minimap2_pacibio_oly_170210.paf\n",
      "-rw-r--r-- 1 root root           0 Sep 11 18:54 20170911_minimap2_pacibio_oly_170210_vs_170228C01.paf\n",
      "-rw-r--r-- 1 root root 25331753284 Sep 11 19:31 20170911_oly_pacbio_cat.fastq\n",
      "-rw-r--r-- 1 root root        1469 Sep 18 16:07 20170918_docker_pacbio_oly_miniasm0.2.ipynb\n",
      "-rw-rw-r-- 1 1000 1000         902 Sep  7 21:30 md5sums.txt\n"
     ]
    }
   ],
   "source": [
    "%%bash\n",
    "ls -l"
   ]
  },
  {
   "cell_type": "markdown",
   "metadata": {},
   "source": [
    "### Run [miniasm v0.2](https://github.com/lh3/miniasm)\n",
    "\n",
    "#### Mimiasm is a fast <em>de-novo</em> assembler that can be used with PaBio data. Typically accepts the output from  [minimap2](https://github.com/lh3/minimap2) (which is what will be used in this notebook).\n",
    "\n",
    "#### Using as part of pipeline: minimap/miniasm/racon"
   ]
  },
  {
   "cell_type": "code",
   "execution_count": 7,
   "metadata": {},
   "outputs": [
    {
     "name": "stdout",
     "output_type": "stream",
     "text": [
      "/usr/local/bioinformatics/miniasm-0.2/miniasm\n"
     ]
    }
   ],
   "source": [
    "%%bash\n",
    "which miniasm"
   ]
  },
  {
   "cell_type": "code",
   "execution_count": null,
   "metadata": {
    "collapsed": true
   },
   "outputs": [],
   "source": []
  }
 ],
 "metadata": {
  "kernelspec": {
   "display_name": "Python 2",
   "language": "python",
   "name": "python2"
  },
  "language_info": {
   "codemirror_mode": {
    "name": "ipython",
    "version": 2
   },
   "file_extension": ".py",
   "mimetype": "text/x-python",
   "name": "python",
   "nbconvert_exporter": "python",
   "pygments_lexer": "ipython2",
   "version": "2.7.13"
  }
 },
 "nbformat": 4,
 "nbformat_minor": 2
}
