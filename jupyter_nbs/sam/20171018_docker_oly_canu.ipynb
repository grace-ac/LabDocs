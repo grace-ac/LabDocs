{
 "cells": [
  {
   "cell_type": "markdown",
   "metadata": {},
   "source": [
    "### Running in Docker container on Swoose\n",
    "\n",
    "Started Docker container with the following command:\n",
    "\n",
    "```docker run -p 8888:8888 -v /home/sam/data/pacbio_oly/:/home/data -v /mnt/owl/:/home/owl -it bioinformatics/bioinformatics:v0 /bin/bash```\n",
    "\n",
    "The command allows ```/home/sam/data/``` and ```mnt/owl``` (our server Owl) to be accessible to the Docker container.\n",
    "\n",
    "Once  access to Jupyter Notebook over port 8888 and makes my Jupyter Notebook GitHub repo and my data files the container was started, started Jupyter Notebook with the following command inside the Docker container:\n",
    "\n",
    "```jupyter notebook --allow-root```\n",
    "\n",
    "This is configured in the Docker container to launch a Jupyter Notebook without a browser on port 8888.\n",
    "The Docker container is running on an image created from this [Dockerfile (Git commit 4f0d2ff](https://github.com/RobertsLab/code/commit/4f0d2ffb3e1596bd3a267095a01d0b6fcabb2e73)"
   ]
  },
  {
   "cell_type": "code",
   "execution_count": 1,
   "metadata": {},
   "outputs": [
    {
     "name": "stdout",
     "output_type": "stream",
     "text": [
      "TODAY'S DATE\n",
      "Wed Oct 18 14:28:20 UTC 2017\n",
      "------------\n",
      "\n"
     ]
    },
    {
     "name": "stderr",
     "output_type": "stream",
     "text": [
      "bash: line 15: unexpected EOF while looking for matching `\"'\n",
      "bash: line 17: syntax error: unexpected end of file\n"
     ]
    }
   ],
   "source": [
    "%%bash\n",
    "echo \"TODAY'S DATE\"\n",
    "date\n",
    "echo \"------------\"\n",
    "echo \"\"\n",
    "echo \"HOSTNAME: $hostname\"\"\n",
    "echo \"\"\n",
    "echo \"------------\"\n",
    "echo \"Computer Specs:\"\n",
    "echo \"\"\n",
    "lscpu\n",
    "echo \"\"\n",
    "echo \"------------\"\n",
    "echo \"\"\n",
    "echo \"Memory Specs\"\n",
    "echo \"\"\n",
    "free -mh"
   ]
  },
  {
   "cell_type": "code",
   "execution_count": 2,
   "metadata": {},
   "outputs": [
    {
     "name": "stdout",
     "output_type": "stream",
     "text": [
      "TODAY'S DATE\n",
      "Wed Oct 18 14:28:44 UTC 2017\n",
      "------------\n",
      "\n",
      "HOSTNAME: \n",
      "\n",
      "------------\n",
      "Computer Specs:\n",
      "\n",
      "Architecture:          x86_64\n",
      "CPU op-mode(s):        32-bit, 64-bit\n",
      "Byte Order:            Little Endian\n",
      "CPU(s):                24\n",
      "On-line CPU(s) list:   0-23\n",
      "Thread(s) per core:    2\n",
      "Core(s) per socket:    6\n",
      "Socket(s):             2\n",
      "NUMA node(s):          1\n",
      "Vendor ID:             GenuineIntel\n",
      "CPU family:            6\n",
      "Model:                 44\n",
      "Model name:            Intel(R) Xeon(R) CPU           X5670  @ 2.93GHz\n",
      "Stepping:              2\n",
      "CPU MHz:               2925.850\n",
      "BogoMIPS:              5851.96\n",
      "Virtualization:        VT-x\n",
      "L1d cache:             32K\n",
      "L1i cache:             32K\n",
      "L2 cache:              256K\n",
      "L3 cache:              12288K\n",
      "NUMA node0 CPU(s):     0-23\n",
      "\n",
      "------------\n",
      "\n",
      "Memory Specs\n",
      "\n",
      "             total       used       free     shared    buffers     cached\n",
      "Mem:           70G       5.7G        65G       120M       596M       1.6G\n",
      "-/+ buffers/cache:       3.6G        67G\n",
      "Swap:         4.7G         0B       4.7G\n"
     ]
    }
   ],
   "source": [
    "%%bash\n",
    "echo \"TODAY'S DATE\"\n",
    "date\n",
    "echo \"------------\"\n",
    "echo \"\"\n",
    "echo \"HOSTNAME: $hostname\"\n",
    "echo \"\"\n",
    "echo \"------------\"\n",
    "echo \"Computer Specs:\"\n",
    "echo \"\"\n",
    "lscpu\n",
    "echo \"\"\n",
    "echo \"------------\"\n",
    "echo \"\"\n",
    "echo \"Memory Specs\"\n",
    "echo \"\"\n",
    "free -mh"
   ]
  },
  {
   "cell_type": "code",
   "execution_count": 3,
   "metadata": {},
   "outputs": [
    {
     "name": "stdout",
     "output_type": "stream",
     "text": [
      "473812ccc24f\n"
     ]
    }
   ],
   "source": [
    "%%bash\n",
    "hostname"
   ]
  },
  {
   "cell_type": "code",
   "execution_count": 4,
   "metadata": {},
   "outputs": [
    {
     "name": "stdout",
     "output_type": "stream",
     "text": [
      "/home/data\n"
     ]
    }
   ],
   "source": [
    "%%bash\n",
    "pwd"
   ]
  },
  {
   "cell_type": "markdown",
   "metadata": {},
   "source": [
    "### Assemble PacBio data with [Canu v1.6](https://github.com/marbl/canu/releases)"
   ]
  },
  {
   "cell_type": "code",
   "execution_count": 5,
   "metadata": {},
   "outputs": [
    {
     "name": "stdout",
     "output_type": "stream",
     "text": [
      "/usr/local/bioinformatics/canu-1.6/Linux-amd64/bin/canu\n"
     ]
    }
   ],
   "source": [
    "%%bash\n",
    "which canu"
   ]
  },
  {
   "cell_type": "code",
   "execution_count": 6,
   "metadata": {},
   "outputs": [],
   "source": [
    "%%bash\n",
    "mkdir 20171018_oly_pacbio_canu"
   ]
  },
  {
   "cell_type": "code",
   "execution_count": 7,
   "metadata": {},
   "outputs": [],
   "source": [
    "%%bash\n",
    "ls 20171018_oly_pacbio_canu/"
   ]
  },
  {
   "cell_type": "code",
   "execution_count": 8,
   "metadata": {},
   "outputs": [],
   "source": [
    "ls 20171018_oly_pacbio_canu/"
   ]
  },
  {
   "cell_type": "code",
   "execution_count": 9,
   "metadata": {},
   "outputs": [
    {
     "name": "stdout",
     "output_type": "stream",
     "text": [
      "m130619_081336_42134_c100525122550000001823081109281326_s1_p0.fastq\n",
      "m170211_224036_42134_c101073082550000001823236402101737_s1_X0_filtered_subreads.fastq.gz\n",
      "m170301_100013_42134_c101174162550000001823269408211761_s1_p0_filtered_subreads.fastq.gz\n",
      "m170301_162825_42134_c101174162550000001823269408211762_s1_p0_filtered_subreads.fastq.gz\n",
      "m170301_225711_42134_c101174162550000001823269408211763_s1_p0_filtered_subreads.fastq.gz\n",
      "m170308_163922_42134_c101174252550000001823269408211742_s1_p0_filtered_subreads.fastq.gz\n",
      "m170308_230815_42134_c101174252550000001823269408211743_s1_p0_filtered_subreads.fastq.gz\n",
      "m170315_001112_42134_c101169372550000001823273008151717_s1_p0_filtered_subreads.fastq.gz\n",
      "m170315_063041_42134_c101169382550000001823273008151700_s1_p0_filtered_subreads.fastq.gz\n",
      "m170315_124938_42134_c101169382550000001823273008151701_s1_p0_filtered_subreads.fastq.gz\n",
      "m170315_190851_42134_c101169382550000001823273008151702_s1_p0_filtered_subreads.fastq.gz\n"
     ]
    }
   ],
   "source": [
    "%%bash\n",
    "ls m*"
   ]
  },
  {
   "cell_type": "code",
   "execution_count": 10,
   "metadata": {},
   "outputs": [
    {
     "name": "stdout",
     "output_type": "stream",
     "text": [
      "\n",
      "usage:   canu [-version] [-citation] \\\n",
      "              [-correct | -trim | -assemble | -trim-assemble] \\\n",
      "              [-s <assembly-specifications-file>] \\\n",
      "               -p <assembly-prefix> \\\n",
      "               -d <assembly-directory> \\\n",
      "               genomeSize=<number>[g|m|k] \\\n",
      "              [other-options] \\\n",
      "              [-pacbio-raw |\n",
      "               -pacbio-corrected |\n",
      "               -nanopore-raw |\n",
      "               -nanopore-corrected] file1 file2 ...\n",
      "\n",
      "example: canu -d run1 -p godzilla genomeSize=1g -nanopore-raw reads/*.fasta.gz \n",
      "\n",
      "\n",
      "  To restrict canu to only a specific stage, use:\n",
      "    -correct       - generate corrected reads\n",
      "    -trim          - generate trimmed reads\n",
      "    -assemble      - generate an assembly\n",
      "    -trim-assemble - generate trimmed reads and then assemble them\n",
      "\n",
      "  The assembly is computed in the -d <assembly-directory>, with output files named\n",
      "  using the -p <assembly-prefix>.  This directory is created if needed.  It is not\n",
      "  possible to run multiple assemblies in the same directory.\n",
      "\n",
      "  The genome size should be your best guess of the haploid genome size of what is being\n",
      "  assembled.  It is used primarily to estimate coverage in reads, NOT as the desired\n",
      "  assembly size.  Fractional values are allowed: '4.7m' equals '4700k' equals '4700000'\n",
      "\n",
      "  Some common options:\n",
      "    useGrid=string\n",
      "      - Run under grid control (true), locally (false), or set up for grid control\n",
      "        but don't submit any jobs (remote)\n",
      "    rawErrorRate=fraction-error\n",
      "      - The allowed difference in an overlap between two raw uncorrected reads.  For lower\n",
      "        quality reads, use a higher number.  The defaults are 0.300 for PacBio reads and\n",
      "        0.500 for Nanopore reads.\n",
      "    correctedErrorRate=fraction-error\n",
      "      - The allowed difference in an overlap between two corrected reads.  Assemblies of\n",
      "        low coverage or data with biological differences will benefit from a slight increase\n",
      "        in this.  Defaults are 0.045 for PacBio reads and 0.144 for Nanopore reads.\n",
      "    gridOptions=string\n",
      "      - Pass string to the command used to submit jobs to the grid.  Can be used to set\n",
      "        maximum run time limits.  Should NOT be used to set memory limits; Canu will do\n",
      "        that for you.\n",
      "    minReadLength=number\n",
      "      - Ignore reads shorter than 'number' bases long.  Default: 1000.\n",
      "    minOverlapLength=number\n",
      "      - Ignore read-to-read overlaps shorter than 'number' bases long.  Default: 500.\n",
      "  A full list of options can be printed with '-options'.  All options can be supplied in\n",
      "  an optional sepc file with the -s option.\n",
      "\n",
      "  Reads can be either FASTA or FASTQ format, uncompressed, or compressed with gz, bz2 or xz.\n",
      "  Reads are specified by the technology they were generated with:\n",
      "    -pacbio-raw         <files>\n",
      "    -pacbio-corrected   <files>\n",
      "    -nanopore-raw       <files>\n",
      "    -nanopore-corrected <files>\n",
      "\n",
      "Complete documentation at http://canu.readthedocs.org/en/latest/\n",
      "\n",
      "ERROR:  mhap overlapper requires java version at least 1.8.0; you have 1.7.0_151 (from 'java').\n",
      "ERROR:  'java -showversion' reports:\n",
      "ERROR:    'java version \"1.7.0_151\"'\n",
      "ERROR:    'OpenJDK Runtime Environment (IcedTea 2.6.11) (7u151-2.6.11-1~deb8u1)'\n",
      "ERROR:    'OpenJDK 64-Bit Server VM (build 24.151-b01, mixed mode)'\n",
      "ERROR:    ''\n",
      "ERROR:    'Usage: java [-options] class [args...]'\n",
      "ERROR:    '           (to execute a class)'\n",
      "ERROR:    '   or  java [-options] -jar jarfile [args...]'\n",
      "ERROR:    '           (to execute a jar file)'\n",
      "ERROR:    'where options include:'\n",
      "ERROR:    '    -d32\t  use a 32-bit data model if available'\n",
      "ERROR:    '    -d64\t  use a 64-bit data model if available'\n",
      "ERROR:    '    -server\t  to select the \"server\" VM'\n",
      "ERROR:    '    -zero\t  to select the \"zero\" VM'\n",
      "ERROR:    '    -jamvm\t  to select the \"jamvm\" VM'\n",
      "ERROR:    '    -avian\t  to select the \"avian\" VM'\n",
      "ERROR:    '    -dcevm\t  to select the \"dcevm\" VM'\n",
      "ERROR:    '                  The default VM is server,'\n",
      "ERROR:    '                  because you are running on a server-class machine.'\n",
      "ERROR:    ''\n",
      "ERROR:    ''\n",
      "ERROR:    '    -cp <class search path of directories and zip/jar files>'\n",
      "ERROR:    '    -classpath <class search path of directories and zip/jar files>'\n",
      "ERROR:    '                  A : separated list of directories, JAR archives,'\n",
      "ERROR:    '                  and ZIP archives to search for class files.'\n",
      "ERROR:    '    -D<name>=<value>'\n",
      "ERROR:    '                  set a system property'\n",
      "ERROR:    '    -verbose:[class|gc|jni]'\n",
      "ERROR:    '                  enable verbose output'\n",
      "ERROR:    '    -version      print product version and exit'\n",
      "ERROR:    '    -version:<value>'\n",
      "ERROR:    '                  require the specified version to run'\n",
      "ERROR:    '    -showversion  print product version and continue'\n",
      "ERROR:    '    -jre-restrict-search | -no-jre-restrict-search'\n",
      "ERROR:    '                  include/exclude user private JREs in the version search'\n",
      "ERROR:    '    -? -help      print this help message'\n",
      "ERROR:    '    -X            print help on non-standard options'\n",
      "ERROR:    '    -ea[:<packagename>...|:<classname>]'\n",
      "ERROR:    '    -enableassertions[:<packagename>...|:<classname>]'\n",
      "ERROR:    '                  enable assertions with specified granularity'\n",
      "ERROR:    '    -da[:<packagename>...|:<classname>]'\n",
      "ERROR:    '    -disableassertions[:<packagename>...|:<classname>]'\n",
      "ERROR:    '                  disable assertions with specified granularity'\n",
      "ERROR:    '    -esa | -enablesystemassertions'\n",
      "ERROR:    '                  enable system assertions'\n",
      "ERROR:    '    -dsa | -disablesystemassertions'\n",
      "ERROR:    '                  disable system assertions'\n",
      "ERROR:    '    -agentlib:<libname>[=<options>]'\n",
      "ERROR:    '                  load native agent library <libname>, e.g. -agentlib:hprof'\n",
      "ERROR:    '                  see also, -agentlib:jdwp=help and -agentlib:hprof=help'\n",
      "ERROR:    '    -agentpath:<pathname>[=<options>]'\n",
      "ERROR:    '                  load native agent library by full pathname'\n",
      "ERROR:    '    -javaagent:<jarpath>[=<options>]'\n",
      "ERROR:    '                  load Java programming language agent, see java.lang.instrument'\n",
      "ERROR:    '    -splash:<imagepath>'\n",
      "ERROR:    '                  show splash screen with specified image'\n",
      "ERROR:    'See http://www.oracle.com/technetwork/java/javase/documentation/index.html for more details.'\n",
      "ERROR:  Failed to run gnuplot from 'gnuplot'.ERROR:  Set option gnuplot=<path-to-gnuplot> or gnuplotTested=true to skip this test and not generate plots.\n",
      "\n"
     ]
    },
    {
     "name": "stderr",
     "output_type": "stream",
     "text": [
      "-- Canu 1.6\n",
      "--\n",
      "-- CITATIONS\n",
      "--\n",
      "-- Koren S, Walenz BP, Berlin K, Miller JR, Phillippy AM.\n",
      "-- Canu: scalable and accurate long-read assembly via adaptive k-mer weighting and repeat separation.\n",
      "-- Genome Res. 2017 May;27(5):722-736.\n",
      "-- http://doi.org/10.1101/gr.215087.116\n",
      "-- \n",
      "-- Read and contig alignments during correction, consensus and GFA building use:\n",
      "--   Šošic M, Šikic M.\n",
      "--   Edlib: a C/C ++ library for fast, exact sequence alignment using edit distance.\n",
      "--   Bioinformatics. 2017 May 1;33(9):1394-1395.\n",
      "--   http://doi.org/10.1093/bioinformatics/btw753\n",
      "-- \n",
      "-- Overlaps are generated using:\n",
      "--   Berlin K, et al.\n",
      "--   Assembling large genomes with single-molecule sequencing and locality-sensitive hashing.\n",
      "--   Nat Biotechnol. 2015 Jun;33(6):623-30.\n",
      "--   http://doi.org/10.1038/nbt.3238\n",
      "-- \n",
      "--   Myers EW, et al.\n",
      "--   A Whole-Genome Assembly of Drosophila.\n",
      "--   Science. 2000 Mar 24;287(5461):2196-204.\n",
      "--   http://doi.org/10.1126/science.287.5461.2196\n",
      "-- \n",
      "--   Li H.\n",
      "--   Minimap and miniasm: fast mapping and de novo assembly for noisy long sequences.\n",
      "--   Bioinformatics. 2016 Jul 15;32(14):2103-10.\n",
      "--   http://doi.org/10.1093/bioinformatics/btw152\n",
      "-- \n",
      "-- Corrected read consensus sequences are generated using an algorithm derived from FALCON-sense:\n",
      "--   Chin CS, et al.\n",
      "--   Phased diploid genome assembly with single-molecule real-time sequencing.\n",
      "--   Nat Methods. 2016 Dec;13(12):1050-1054.\n",
      "--   http://doi.org/10.1038/nmeth.4035\n",
      "-- \n",
      "-- Contig consensus sequences are generated using an algorithm derived from pbdagcon:\n",
      "--   Chin CS, et al.\n",
      "--   Nonhybrid, finished microbial genome assemblies from long-read SMRT sequencing data.\n",
      "--   Nat Methods. 2013 Jun;10(6):563-9\n",
      "--   http://doi.org/10.1038/nmeth.2474\n",
      "-- \n",
      "-- CONFIGURE CANU\n",
      "--\n",
      "\n",
      "real\t0m2.252s\n",
      "user\t0m0.304s\n",
      "sys\t0m0.076s\n"
     ]
    }
   ],
   "source": [
    "%%bash\n",
    "time canu \\\n",
    "useGrid=false \\\n",
    "-p 20171009_oly_pacbio \\\n",
    "-d /home/data/20171018_oly_pacbio_canu/ \\\n",
    "genomeSize=1.9g \\\n",
    "correctedErrorRate=0.075 \\\n",
    "-pacbio-raw m*"
   ]
  },
  {
   "cell_type": "markdown",
   "metadata": {},
   "source": [
    "Hmmmm, java version isn't current. In theory, the Dockerfile should pull the most current version. Will fix..."
   ]
  },
  {
   "cell_type": "code",
   "execution_count": 11,
   "metadata": {},
   "outputs": [
    {
     "name": "stderr",
     "output_type": "stream",
     "text": [
      "java version \"1.7.0_151\"\n",
      "OpenJDK Runtime Environment (IcedTea 2.6.11) (7u151-2.6.11-1~deb8u1)\n",
      "OpenJDK 64-Bit Server VM (build 24.151-b01, mixed mode)\n",
      "\n",
      "Usage: java [-options] class [args...]\n",
      "           (to execute a class)\n",
      "   or  java [-options] -jar jarfile [args...]\n",
      "           (to execute a jar file)\n",
      "where options include:\n",
      "    -d32\t  use a 32-bit data model if available\n",
      "    -d64\t  use a 64-bit data model if available\n",
      "    -server\t  to select the \"server\" VM\n",
      "    -zero\t  to select the \"zero\" VM\n",
      "    -jamvm\t  to select the \"jamvm\" VM\n",
      "    -avian\t  to select the \"avian\" VM\n",
      "    -dcevm\t  to select the \"dcevm\" VM\n",
      "                  The default VM is server,\n",
      "                  because you are running on a server-class machine.\n",
      "\n",
      "\n",
      "    -cp <class search path of directories and zip/jar files>\n",
      "    -classpath <class search path of directories and zip/jar files>\n",
      "                  A : separated list of directories, JAR archives,\n",
      "                  and ZIP archives to search for class files.\n",
      "    -D<name>=<value>\n",
      "                  set a system property\n",
      "    -verbose:[class|gc|jni]\n",
      "                  enable verbose output\n",
      "    -version      print product version and exit\n",
      "    -version:<value>\n",
      "                  require the specified version to run\n",
      "    -showversion  print product version and continue\n",
      "    -jre-restrict-search | -no-jre-restrict-search\n",
      "                  include/exclude user private JREs in the version search\n",
      "    -? -help      print this help message\n",
      "    -X            print help on non-standard options\n",
      "    -ea[:<packagename>...|:<classname>]\n",
      "    -enableassertions[:<packagename>...|:<classname>]\n",
      "                  enable assertions with specified granularity\n",
      "    -da[:<packagename>...|:<classname>]\n",
      "    -disableassertions[:<packagename>...|:<classname>]\n",
      "                  disable assertions with specified granularity\n",
      "    -esa | -enablesystemassertions\n",
      "                  enable system assertions\n",
      "    -dsa | -disablesystemassertions\n",
      "                  disable system assertions\n",
      "    -agentlib:<libname>[=<options>]\n",
      "                  load native agent library <libname>, e.g. -agentlib:hprof\n",
      "                  see also, -agentlib:jdwp=help and -agentlib:hprof=help\n",
      "    -agentpath:<pathname>[=<options>]\n",
      "                  load native agent library by full pathname\n",
      "    -javaagent:<jarpath>[=<options>]\n",
      "                  load Java programming language agent, see java.lang.instrument\n",
      "    -splash:<imagepath>\n",
      "                  show splash screen with specified image\n",
      "See http://www.oracle.com/technetwork/java/javase/documentation/index.html for more details.\n"
     ]
    }
   ],
   "source": [
    "%%bash\n",
    "java -showversion"
   ]
  },
  {
   "cell_type": "code",
   "execution_count": 1,
   "metadata": {},
   "outputs": [
    {
     "name": "stdout",
     "output_type": "stream",
     "text": [
      "Wed Oct 18 16:48:11 UTC 2017\n"
     ]
    }
   ],
   "source": [
    "%%bash\n",
    "date"
   ]
  },
  {
   "cell_type": "code",
   "execution_count": 2,
   "metadata": {},
   "outputs": [
    {
     "name": "stderr",
     "output_type": "stream",
     "text": [
      "bash: line 1: fg: no job control\n",
      "openjdk version \"1.8.0_131\"\n",
      "OpenJDK Runtime Environment (build 1.8.0_131-8u131-b11-1~bpo8+1-b11)\n",
      "OpenJDK 64-Bit Server VM (build 25.131-b11, mixed mode)\n",
      "\n",
      "Usage: java [-options] class [args...]\n",
      "           (to execute a class)\n",
      "   or  java [-options] -jar jarfile [args...]\n",
      "           (to execute a jar file)\n",
      "where options include:\n",
      "    -d32\t  use a 32-bit data model if available\n",
      "    -d64\t  use a 64-bit data model if available\n",
      "    -server\t  to select the \"server\" VM\n",
      "    -zero\t  to select the \"zero\" VM\n",
      "    -dcevm\t  to select the \"dcevm\" VM\n",
      "                  The default VM is server,\n",
      "                  because you are running on a server-class machine.\n",
      "\n",
      "\n",
      "    -cp <class search path of directories and zip/jar files>\n",
      "    -classpath <class search path of directories and zip/jar files>\n",
      "                  A : separated list of directories, JAR archives,\n",
      "                  and ZIP archives to search for class files.\n",
      "    -D<name>=<value>\n",
      "                  set a system property\n",
      "    -verbose:[class|gc|jni]\n",
      "                  enable verbose output\n",
      "    -version      print product version and exit\n",
      "    -version:<value>\n",
      "                  Warning: this feature is deprecated and will be removed\n",
      "                  in a future release.\n",
      "                  require the specified version to run\n",
      "    -showversion  print product version and continue\n",
      "    -jre-restrict-search | -no-jre-restrict-search\n",
      "                  Warning: this feature is deprecated and will be removed\n",
      "                  in a future release.\n",
      "                  include/exclude user private JREs in the version search\n",
      "    -? -help      print this help message\n",
      "    -X            print help on non-standard options\n",
      "    -ea[:<packagename>...|:<classname>]\n",
      "    -enableassertions[:<packagename>...|:<classname>]\n",
      "                  enable assertions with specified granularity\n",
      "    -da[:<packagename>...|:<classname>]\n",
      "    -disableassertions[:<packagename>...|:<classname>]\n",
      "                  disable assertions with specified granularity\n",
      "    -esa | -enablesystemassertions\n",
      "                  enable system assertions\n",
      "    -dsa | -disablesystemassertions\n",
      "                  disable system assertions\n",
      "    -agentlib:<libname>[=<options>]\n",
      "                  load native agent library <libname>, e.g. -agentlib:hprof\n",
      "                  see also, -agentlib:jdwp=help and -agentlib:hprof=help\n",
      "    -agentpath:<pathname>[=<options>]\n",
      "                  load native agent library by full pathname\n",
      "    -javaagent:<jarpath>[=<options>]\n",
      "                  load Java programming language agent, see java.lang.instrument\n",
      "    -splash:<imagepath>\n",
      "                  show splash screen with specified image\n",
      "See http://www.oracle.com/technetwork/java/javase/documentation/index.html for more details.\n"
     ]
    }
   ],
   "source": [
    "%%bash\n",
    "%%bash\n",
    "java -showversion"
   ]
  },
  {
   "cell_type": "code",
   "execution_count": 3,
   "metadata": {},
   "outputs": [
    {
     "name": "stdout",
     "output_type": "stream",
     "text": [
      "\n",
      "usage:   canu [-version] [-citation] \\\n",
      "              [-correct | -trim | -assemble | -trim-assemble] \\\n",
      "              [-s <assembly-specifications-file>] \\\n",
      "               -p <assembly-prefix> \\\n",
      "               -d <assembly-directory> \\\n",
      "               genomeSize=<number>[g|m|k] \\\n",
      "              [other-options] \\\n",
      "              [-pacbio-raw |\n",
      "               -pacbio-corrected |\n",
      "               -nanopore-raw |\n",
      "               -nanopore-corrected] file1 file2 ...\n",
      "\n",
      "example: canu -d run1 -p godzilla genomeSize=1g -nanopore-raw reads/*.fasta.gz \n",
      "\n",
      "\n",
      "  To restrict canu to only a specific stage, use:\n",
      "    -correct       - generate corrected reads\n",
      "    -trim          - generate trimmed reads\n",
      "    -assemble      - generate an assembly\n",
      "    -trim-assemble - generate trimmed reads and then assemble them\n",
      "\n",
      "  The assembly is computed in the -d <assembly-directory>, with output files named\n",
      "  using the -p <assembly-prefix>.  This directory is created if needed.  It is not\n",
      "  possible to run multiple assemblies in the same directory.\n",
      "\n",
      "  The genome size should be your best guess of the haploid genome size of what is being\n",
      "  assembled.  It is used primarily to estimate coverage in reads, NOT as the desired\n",
      "  assembly size.  Fractional values are allowed: '4.7m' equals '4700k' equals '4700000'\n",
      "\n",
      "  Some common options:\n",
      "    useGrid=string\n",
      "      - Run under grid control (true), locally (false), or set up for grid control\n",
      "        but don't submit any jobs (remote)\n",
      "    rawErrorRate=fraction-error\n",
      "      - The allowed difference in an overlap between two raw uncorrected reads.  For lower\n",
      "        quality reads, use a higher number.  The defaults are 0.300 for PacBio reads and\n",
      "        0.500 for Nanopore reads.\n",
      "    correctedErrorRate=fraction-error\n",
      "      - The allowed difference in an overlap between two corrected reads.  Assemblies of\n",
      "        low coverage or data with biological differences will benefit from a slight increase\n",
      "        in this.  Defaults are 0.045 for PacBio reads and 0.144 for Nanopore reads.\n",
      "    gridOptions=string\n",
      "      - Pass string to the command used to submit jobs to the grid.  Can be used to set\n",
      "        maximum run time limits.  Should NOT be used to set memory limits; Canu will do\n",
      "        that for you.\n",
      "    minReadLength=number\n",
      "      - Ignore reads shorter than 'number' bases long.  Default: 1000.\n",
      "    minOverlapLength=number\n",
      "      - Ignore read-to-read overlaps shorter than 'number' bases long.  Default: 500.\n",
      "  A full list of options can be printed with '-options'.  All options can be supplied in\n",
      "  an optional sepc file with the -s option.\n",
      "\n",
      "  Reads can be either FASTA or FASTQ format, uncompressed, or compressed with gz, bz2 or xz.\n",
      "  Reads are specified by the technology they were generated with:\n",
      "    -pacbio-raw         <files>\n",
      "    -pacbio-corrected   <files>\n",
      "    -nanopore-raw       <files>\n",
      "    -nanopore-corrected <files>\n",
      "\n",
      "Complete documentation at http://canu.readthedocs.org/en/latest/\n",
      "\n",
      "ERROR:  Failed to run gnuplot from 'gnuplot'.ERROR:  Set option gnuplot=<path-to-gnuplot> or gnuplotTested=true to skip this test and not generate plots.\n",
      "\n"
     ]
    },
    {
     "name": "stderr",
     "output_type": "stream",
     "text": [
      "-- Canu 1.6\n",
      "--\n",
      "-- CITATIONS\n",
      "--\n",
      "-- Koren S, Walenz BP, Berlin K, Miller JR, Phillippy AM.\n",
      "-- Canu: scalable and accurate long-read assembly via adaptive k-mer weighting and repeat separation.\n",
      "-- Genome Res. 2017 May;27(5):722-736.\n",
      "-- http://doi.org/10.1101/gr.215087.116\n",
      "-- \n",
      "-- Read and contig alignments during correction, consensus and GFA building use:\n",
      "--   Šošic M, Šikic M.\n",
      "--   Edlib: a C/C ++ library for fast, exact sequence alignment using edit distance.\n",
      "--   Bioinformatics. 2017 May 1;33(9):1394-1395.\n",
      "--   http://doi.org/10.1093/bioinformatics/btw753\n",
      "-- \n",
      "-- Overlaps are generated using:\n",
      "--   Berlin K, et al.\n",
      "--   Assembling large genomes with single-molecule sequencing and locality-sensitive hashing.\n",
      "--   Nat Biotechnol. 2015 Jun;33(6):623-30.\n",
      "--   http://doi.org/10.1038/nbt.3238\n",
      "-- \n",
      "--   Myers EW, et al.\n",
      "--   A Whole-Genome Assembly of Drosophila.\n",
      "--   Science. 2000 Mar 24;287(5461):2196-204.\n",
      "--   http://doi.org/10.1126/science.287.5461.2196\n",
      "-- \n",
      "--   Li H.\n",
      "--   Minimap and miniasm: fast mapping and de novo assembly for noisy long sequences.\n",
      "--   Bioinformatics. 2016 Jul 15;32(14):2103-10.\n",
      "--   http://doi.org/10.1093/bioinformatics/btw152\n",
      "-- \n",
      "-- Corrected read consensus sequences are generated using an algorithm derived from FALCON-sense:\n",
      "--   Chin CS, et al.\n",
      "--   Phased diploid genome assembly with single-molecule real-time sequencing.\n",
      "--   Nat Methods. 2016 Dec;13(12):1050-1054.\n",
      "--   http://doi.org/10.1038/nmeth.4035\n",
      "-- \n",
      "-- Contig consensus sequences are generated using an algorithm derived from pbdagcon:\n",
      "--   Chin CS, et al.\n",
      "--   Nonhybrid, finished microbial genome assemblies from long-read SMRT sequencing data.\n",
      "--   Nat Methods. 2013 Jun;10(6):563-9\n",
      "--   http://doi.org/10.1038/nmeth.2474\n",
      "-- \n",
      "-- CONFIGURE CANU\n",
      "--\n",
      "-- Detected Java(TM) Runtime Environment '1.8.0_131' (from 'java').\n",
      "\n",
      "real\t0m0.234s\n",
      "user\t0m0.184s\n",
      "sys\t0m0.064s\n"
     ]
    }
   ],
   "source": [
    "%%bash\n",
    "time canu \\\n",
    "useGrid=false \\\n",
    "-p 20171009_oly_pacbio \\\n",
    "-d /home/data/20171018_oly_pacbio_canu/ \\\n",
    "genomeSize=1.9g \\\n",
    "correctedErrorRate=0.075 \\\n",
    "-pacbio-raw m*"
   ]
  },
  {
   "cell_type": "markdown",
   "metadata": {},
   "source": [
    "Error message says it can't find gnuplot. Will update Docker file to install gnuplot. BRB..."
   ]
  },
  {
   "cell_type": "code",
   "execution_count": 1,
   "metadata": {},
   "outputs": [
    {
     "name": "stdout",
     "output_type": "stream",
     "text": [
      "Wed Oct 18 17:05:55 UTC 2017\n"
     ]
    }
   ],
   "source": [
    "%%bash\n",
    "date"
   ]
  },
  {
   "cell_type": "code",
   "execution_count": 2,
   "metadata": {},
   "outputs": [
    {
     "name": "stdout",
     "output_type": "stream",
     "text": [
      "\n",
      "usage:   canu [-version] [-citation] \\\n",
      "              [-correct | -trim | -assemble | -trim-assemble] \\\n",
      "              [-s <assembly-specifications-file>] \\\n",
      "               -p <assembly-prefix> \\\n",
      "               -d <assembly-directory> \\\n",
      "               genomeSize=<number>[g|m|k] \\\n",
      "              [other-options] \\\n",
      "              [-pacbio-raw |\n",
      "               -pacbio-corrected |\n",
      "               -nanopore-raw |\n",
      "               -nanopore-corrected] file1 file2 ...\n",
      "\n",
      "example: canu -d run1 -p godzilla genomeSize=1g -nanopore-raw reads/*.fasta.gz \n",
      "\n",
      "\n",
      "  To restrict canu to only a specific stage, use:\n",
      "    -correct       - generate corrected reads\n",
      "    -trim          - generate trimmed reads\n",
      "    -assemble      - generate an assembly\n",
      "    -trim-assemble - generate trimmed reads and then assemble them\n",
      "\n",
      "  The assembly is computed in the -d <assembly-directory>, with output files named\n",
      "  using the -p <assembly-prefix>.  This directory is created if needed.  It is not\n",
      "  possible to run multiple assemblies in the same directory.\n",
      "\n",
      "  The genome size should be your best guess of the haploid genome size of what is being\n",
      "  assembled.  It is used primarily to estimate coverage in reads, NOT as the desired\n",
      "  assembly size.  Fractional values are allowed: '4.7m' equals '4700k' equals '4700000'\n",
      "\n",
      "  Some common options:\n",
      "    useGrid=string\n",
      "      - Run under grid control (true), locally (false), or set up for grid control\n",
      "        but don't submit any jobs (remote)\n",
      "    rawErrorRate=fraction-error\n",
      "      - The allowed difference in an overlap between two raw uncorrected reads.  For lower\n",
      "        quality reads, use a higher number.  The defaults are 0.300 for PacBio reads and\n",
      "        0.500 for Nanopore reads.\n",
      "    correctedErrorRate=fraction-error\n",
      "      - The allowed difference in an overlap between two corrected reads.  Assemblies of\n",
      "        low coverage or data with biological differences will benefit from a slight increase\n",
      "        in this.  Defaults are 0.045 for PacBio reads and 0.144 for Nanopore reads.\n",
      "    gridOptions=string\n",
      "      - Pass string to the command used to submit jobs to the grid.  Can be used to set\n",
      "        maximum run time limits.  Should NOT be used to set memory limits; Canu will do\n",
      "        that for you.\n",
      "    minReadLength=number\n",
      "      - Ignore reads shorter than 'number' bases long.  Default: 1000.\n",
      "    minOverlapLength=number\n",
      "      - Ignore read-to-read overlaps shorter than 'number' bases long.  Default: 500.\n",
      "  A full list of options can be printed with '-options'.  All options can be supplied in\n",
      "  an optional sepc file with the -s option.\n",
      "\n",
      "  Reads can be either FASTA or FASTQ format, uncompressed, or compressed with gz, bz2 or xz.\n",
      "  Reads are specified by the technology they were generated with:\n",
      "    -pacbio-raw         <files>\n",
      "    -pacbio-corrected   <files>\n",
      "    -nanopore-raw       <files>\n",
      "    -nanopore-corrected <files>\n",
      "\n",
      "Complete documentation at http://canu.readthedocs.org/en/latest/\n",
      "\n",
      "ERROR:  ovsMethod=parallel requires useGrid=true or useGrid=remote.  Set ovsMethod=sequential if no grid is available\n",
      "\n"
     ]
    },
    {
     "name": "stderr",
     "output_type": "stream",
     "text": [
      "-- Canu 1.6\n",
      "--\n",
      "-- CITATIONS\n",
      "--\n",
      "-- Koren S, Walenz BP, Berlin K, Miller JR, Phillippy AM.\n",
      "-- Canu: scalable and accurate long-read assembly via adaptive k-mer weighting and repeat separation.\n",
      "-- Genome Res. 2017 May;27(5):722-736.\n",
      "-- http://doi.org/10.1101/gr.215087.116\n",
      "-- \n",
      "-- Read and contig alignments during correction, consensus and GFA building use:\n",
      "--   Šošic M, Šikic M.\n",
      "--   Edlib: a C/C ++ library for fast, exact sequence alignment using edit distance.\n",
      "--   Bioinformatics. 2017 May 1;33(9):1394-1395.\n",
      "--   http://doi.org/10.1093/bioinformatics/btw753\n",
      "-- \n",
      "-- Overlaps are generated using:\n",
      "--   Berlin K, et al.\n",
      "--   Assembling large genomes with single-molecule sequencing and locality-sensitive hashing.\n",
      "--   Nat Biotechnol. 2015 Jun;33(6):623-30.\n",
      "--   http://doi.org/10.1038/nbt.3238\n",
      "-- \n",
      "--   Myers EW, et al.\n",
      "--   A Whole-Genome Assembly of Drosophila.\n",
      "--   Science. 2000 Mar 24;287(5461):2196-204.\n",
      "--   http://doi.org/10.1126/science.287.5461.2196\n",
      "-- \n",
      "--   Li H.\n",
      "--   Minimap and miniasm: fast mapping and de novo assembly for noisy long sequences.\n",
      "--   Bioinformatics. 2016 Jul 15;32(14):2103-10.\n",
      "--   http://doi.org/10.1093/bioinformatics/btw152\n",
      "-- \n",
      "-- Corrected read consensus sequences are generated using an algorithm derived from FALCON-sense:\n",
      "--   Chin CS, et al.\n",
      "--   Phased diploid genome assembly with single-molecule real-time sequencing.\n",
      "--   Nat Methods. 2016 Dec;13(12):1050-1054.\n",
      "--   http://doi.org/10.1038/nmeth.4035\n",
      "-- \n",
      "-- Contig consensus sequences are generated using an algorithm derived from pbdagcon:\n",
      "--   Chin CS, et al.\n",
      "--   Nonhybrid, finished microbial genome assemblies from long-read SMRT sequencing data.\n",
      "--   Nat Methods. 2013 Jun;10(6):563-9\n",
      "--   http://doi.org/10.1038/nmeth.2474\n",
      "-- \n",
      "-- CONFIGURE CANU\n",
      "--\n",
      "-- Detected Java(TM) Runtime Environment '1.8.0_131' (from 'java').\n",
      "-- Detected gnuplot version '5.2 patchlevel 0' (from 'gnuplot') and image format 'svg'.\n",
      "-- Detected 24 CPUs and 71 gigabytes of memory.\n",
      "-- No grid engine detected, grid disabled.\n",
      "--\n",
      "--                            (tag)Concurrency\n",
      "--                     (tag)Threads          |\n",
      "--            (tag)Memory         |          |\n",
      "--        (tag)         |         |          |  algorithm\n",
      "--        -------  ------  --------   --------  -----------------------------\n",
      "-- Local: meryl     71 GB   24 CPUs x   1 job   (k-mer counting)\n",
      "-- Local: cormhap   32 GB   12 CPUs x   2 jobs  (overlap detection with mhap)\n",
      "-- Local: obtovl    12 GB    8 CPUs x   3 jobs  (overlap detection)\n",
      "-- Local: utgovl    12 GB    8 CPUs x   3 jobs  (overlap detection)\n",
      "-- Local: cor       11 GB    4 CPUs x   6 jobs  (read correction)\n",
      "-- Local: ovb        2 GB    1 CPU  x  24 jobs  (overlap store bucketizer)\n",
      "-- Local: ovs       32 GB    1 CPU  x  24 jobs  (overlap store sorting)\n",
      "-- Local: red        8 GB    8 CPUs x   3 jobs  (read error detection)\n",
      "-- Local: oea        2 GB    1 CPU  x  24 jobs  (overlap error adjustment)\n",
      "-- Local: bat       35 GB   12 CPUs x   2 jobs  (contig construction)\n",
      "-- Local: cns       71 GB    8 CPUs x   3 jobs  (consensus)\n",
      "-- Local: gfa       16 GB   12 CPUs x   2 jobs  (GFA alignment and processing)\n",
      "--\n",
      "-- Found PacBio uncorrected reads in the input files.\n",
      "\n",
      "real\t0m0.297s\n",
      "user\t0m0.232s\n",
      "sys\t0m0.056s\n"
     ]
    }
   ],
   "source": [
    "%%bash\n",
    "time canu \\\n",
    "useGrid=false \\\n",
    "-p 20171009_oly_pacbio \\\n",
    "-d /home/data/20171018_oly_pacbio_canu/ \\\n",
    "genomeSize=1.9g \\\n",
    "correctedErrorRate=0.075 \\\n",
    "-pacbio-raw m*"
   ]
  },
  {
   "cell_type": "markdown",
   "metadata": {},
   "source": [
    "Error message says I need to change ```ovsMethod=``` to sequentila if no grid available. Figured that'd be adjusted when I specified ```useGrid=false```... Will change command."
   ]
  },
  {
   "cell_type": "markdown",
   "metadata": {},
   "source": [
    "#### Code overview:\n",
    "\n",
    "- ```useGrid=false```: Needed to disable Canu's parallel computing scheduler thingy (on by default)\n",
    "- ```ovsMethod=sequential```: Same as above.\n",
    "- ```-p```: The assembly prefix string. Screwed this up; leftover from copy/paste of earlier attempt.\n",
    "- ```-d```: Destination folder for output.\n",
    "- ```genomeSize=```: Needs estimated genome size. Used 1.9g [based on BGI k-mer estimate](http://owl.fish.washington.edu/O_lurida_genome_assemblies_BGI/20160512/20160512_F15FTSUSAT0327_genome_survey.pdf).\n",
    "- ```correctedErrorRate=```: Expecting low coverage, so increased this from the default (4.5% to 7.5%)."
   ]
  },
  {
   "cell_type": "code",
   "execution_count": 3,
   "metadata": {},
   "outputs": [
    {
     "name": "stdout",
     "output_type": "stream",
     "text": [
      "Process is interrupted.\n"
     ]
    }
   ],
   "source": [
    "%%bash\n",
    "time canu \\\n",
    "useGrid=false \\\n",
    "ovsMethod=sequential \\\n",
    "-p 20171009_oly_pacbio \\\n",
    "-d /home/data/20171018_oly_pacbio_canu/ \\\n",
    "genomeSize=1.9g \\\n",
    "correctedErrorRate=0.075 \\\n",
    "-pacbio-raw m*"
   ]
  },
  {
   "cell_type": "code",
   "execution_count": 4,
   "metadata": {},
   "outputs": [
    {
     "ename": "OSError",
     "evalue": "\"sh\" shell not found",
     "output_type": "error",
     "traceback": [
      "\u001b[0;31m---------------------------------------------------------------------------\u001b[0m",
      "\u001b[0;31mOSError\u001b[0m                                   Traceback (most recent call last)",
      "\u001b[0;32m<ipython-input-4-3c08e02d176d>\u001b[0m in \u001b[0;36m<module>\u001b[0;34m()\u001b[0m\n\u001b[0;32m----> 1\u001b[0;31m \u001b[0mget_ipython\u001b[0m\u001b[0;34m(\u001b[0m\u001b[0;34m)\u001b[0m\u001b[0;34m.\u001b[0m\u001b[0mmagic\u001b[0m\u001b[0;34m(\u001b[0m\u001b[0;34mu'ls -l'\u001b[0m\u001b[0;34m)\u001b[0m\u001b[0;34m\u001b[0m\u001b[0m\n\u001b[0m",
      "\u001b[0;32m/root/miniconda2/lib/python2.7/site-packages/IPython/core/interactiveshell.pyc\u001b[0m in \u001b[0;36mmagic\u001b[0;34m(self, arg_s)\u001b[0m\n\u001b[1;32m   2158\u001b[0m         \u001b[0mmagic_name\u001b[0m\u001b[0;34m,\u001b[0m \u001b[0m_\u001b[0m\u001b[0;34m,\u001b[0m \u001b[0mmagic_arg_s\u001b[0m \u001b[0;34m=\u001b[0m \u001b[0marg_s\u001b[0m\u001b[0;34m.\u001b[0m\u001b[0mpartition\u001b[0m\u001b[0;34m(\u001b[0m\u001b[0;34m' '\u001b[0m\u001b[0;34m)\u001b[0m\u001b[0;34m\u001b[0m\u001b[0m\n\u001b[1;32m   2159\u001b[0m         \u001b[0mmagic_name\u001b[0m \u001b[0;34m=\u001b[0m \u001b[0mmagic_name\u001b[0m\u001b[0;34m.\u001b[0m\u001b[0mlstrip\u001b[0m\u001b[0;34m(\u001b[0m\u001b[0mprefilter\u001b[0m\u001b[0;34m.\u001b[0m\u001b[0mESC_MAGIC\u001b[0m\u001b[0;34m)\u001b[0m\u001b[0;34m\u001b[0m\u001b[0m\n\u001b[0;32m-> 2160\u001b[0;31m         \u001b[0;32mreturn\u001b[0m \u001b[0mself\u001b[0m\u001b[0;34m.\u001b[0m\u001b[0mrun_line_magic\u001b[0m\u001b[0;34m(\u001b[0m\u001b[0mmagic_name\u001b[0m\u001b[0;34m,\u001b[0m \u001b[0mmagic_arg_s\u001b[0m\u001b[0;34m)\u001b[0m\u001b[0;34m\u001b[0m\u001b[0m\n\u001b[0m\u001b[1;32m   2161\u001b[0m \u001b[0;34m\u001b[0m\u001b[0m\n\u001b[1;32m   2162\u001b[0m     \u001b[0;31m#-------------------------------------------------------------------------\u001b[0m\u001b[0;34m\u001b[0m\u001b[0;34m\u001b[0m\u001b[0m\n",
      "\u001b[0;32m/root/miniconda2/lib/python2.7/site-packages/IPython/core/interactiveshell.pyc\u001b[0m in \u001b[0;36mrun_line_magic\u001b[0;34m(self, magic_name, line)\u001b[0m\n\u001b[1;32m   2079\u001b[0m                 \u001b[0mkwargs\u001b[0m\u001b[0;34m[\u001b[0m\u001b[0;34m'local_ns'\u001b[0m\u001b[0;34m]\u001b[0m \u001b[0;34m=\u001b[0m \u001b[0msys\u001b[0m\u001b[0;34m.\u001b[0m\u001b[0m_getframe\u001b[0m\u001b[0;34m(\u001b[0m\u001b[0mstack_depth\u001b[0m\u001b[0;34m)\u001b[0m\u001b[0;34m.\u001b[0m\u001b[0mf_locals\u001b[0m\u001b[0;34m\u001b[0m\u001b[0m\n\u001b[1;32m   2080\u001b[0m             \u001b[0;32mwith\u001b[0m \u001b[0mself\u001b[0m\u001b[0;34m.\u001b[0m\u001b[0mbuiltin_trap\u001b[0m\u001b[0;34m:\u001b[0m\u001b[0;34m\u001b[0m\u001b[0m\n\u001b[0;32m-> 2081\u001b[0;31m                 \u001b[0mresult\u001b[0m \u001b[0;34m=\u001b[0m \u001b[0mfn\u001b[0m\u001b[0;34m(\u001b[0m\u001b[0;34m*\u001b[0m\u001b[0margs\u001b[0m\u001b[0;34m,\u001b[0m\u001b[0;34m**\u001b[0m\u001b[0mkwargs\u001b[0m\u001b[0;34m)\u001b[0m\u001b[0;34m\u001b[0m\u001b[0m\n\u001b[0m\u001b[1;32m   2082\u001b[0m             \u001b[0;32mreturn\u001b[0m \u001b[0mresult\u001b[0m\u001b[0;34m\u001b[0m\u001b[0m\n\u001b[1;32m   2083\u001b[0m \u001b[0;34m\u001b[0m\u001b[0m\n",
      "\u001b[0;32m/root/miniconda2/lib/python2.7/site-packages/IPython/core/alias.pyc\u001b[0m in \u001b[0;36m__call__\u001b[0;34m(self, rest)\u001b[0m\n\u001b[1;32m    185\u001b[0m             \u001b[0mcmd\u001b[0m \u001b[0;34m=\u001b[0m \u001b[0;34m'%s %s'\u001b[0m \u001b[0;34m%\u001b[0m \u001b[0;34m(\u001b[0m\u001b[0mcmd\u001b[0m \u001b[0;34m%\u001b[0m \u001b[0mtuple\u001b[0m\u001b[0;34m(\u001b[0m\u001b[0margs\u001b[0m\u001b[0;34m[\u001b[0m\u001b[0;34m:\u001b[0m\u001b[0mnargs\u001b[0m\u001b[0;34m]\u001b[0m\u001b[0;34m)\u001b[0m\u001b[0;34m,\u001b[0m\u001b[0;34m' '\u001b[0m\u001b[0;34m.\u001b[0m\u001b[0mjoin\u001b[0m\u001b[0;34m(\u001b[0m\u001b[0margs\u001b[0m\u001b[0;34m[\u001b[0m\u001b[0mnargs\u001b[0m\u001b[0;34m:\u001b[0m\u001b[0;34m]\u001b[0m\u001b[0;34m)\u001b[0m\u001b[0;34m)\u001b[0m\u001b[0;34m\u001b[0m\u001b[0m\n\u001b[1;32m    186\u001b[0m \u001b[0;34m\u001b[0m\u001b[0m\n\u001b[0;32m--> 187\u001b[0;31m         \u001b[0mself\u001b[0m\u001b[0;34m.\u001b[0m\u001b[0mshell\u001b[0m\u001b[0;34m.\u001b[0m\u001b[0msystem\u001b[0m\u001b[0;34m(\u001b[0m\u001b[0mcmd\u001b[0m\u001b[0;34m)\u001b[0m\u001b[0;34m\u001b[0m\u001b[0m\n\u001b[0m\u001b[1;32m    188\u001b[0m \u001b[0;34m\u001b[0m\u001b[0m\n\u001b[1;32m    189\u001b[0m \u001b[0;31m#-----------------------------------------------------------------------------\u001b[0m\u001b[0;34m\u001b[0m\u001b[0;34m\u001b[0m\u001b[0m\n",
      "\u001b[0;32m/root/miniconda2/lib/python2.7/site-packages/IPython/core/interactiveshell.pyc\u001b[0m in \u001b[0;36msystem_piped\u001b[0;34m(self, cmd)\u001b[0m\n\u001b[1;32m   2209\u001b[0m         \u001b[0;31m# a non-None value would trigger :func:`sys.displayhook` calls.\u001b[0m\u001b[0;34m\u001b[0m\u001b[0;34m\u001b[0m\u001b[0m\n\u001b[1;32m   2210\u001b[0m         \u001b[0;31m# Instead, we store the exit_code in user_ns.\u001b[0m\u001b[0;34m\u001b[0m\u001b[0;34m\u001b[0m\u001b[0m\n\u001b[0;32m-> 2211\u001b[0;31m         \u001b[0mself\u001b[0m\u001b[0;34m.\u001b[0m\u001b[0muser_ns\u001b[0m\u001b[0;34m[\u001b[0m\u001b[0;34m'_exit_code'\u001b[0m\u001b[0;34m]\u001b[0m \u001b[0;34m=\u001b[0m \u001b[0msystem\u001b[0m\u001b[0;34m(\u001b[0m\u001b[0mself\u001b[0m\u001b[0;34m.\u001b[0m\u001b[0mvar_expand\u001b[0m\u001b[0;34m(\u001b[0m\u001b[0mcmd\u001b[0m\u001b[0;34m,\u001b[0m \u001b[0mdepth\u001b[0m\u001b[0;34m=\u001b[0m\u001b[0;36m1\u001b[0m\u001b[0;34m)\u001b[0m\u001b[0;34m)\u001b[0m\u001b[0;34m\u001b[0m\u001b[0m\n\u001b[0m\u001b[1;32m   2212\u001b[0m \u001b[0;34m\u001b[0m\u001b[0m\n\u001b[1;32m   2213\u001b[0m     \u001b[0;32mdef\u001b[0m \u001b[0msystem_raw\u001b[0m\u001b[0;34m(\u001b[0m\u001b[0mself\u001b[0m\u001b[0;34m,\u001b[0m \u001b[0mcmd\u001b[0m\u001b[0;34m)\u001b[0m\u001b[0;34m:\u001b[0m\u001b[0;34m\u001b[0m\u001b[0m\n",
      "\u001b[0;32m/root/miniconda2/lib/python2.7/site-packages/IPython/utils/_process_posix.pyc\u001b[0m in \u001b[0;36msystem\u001b[0;34m(self, cmd)\u001b[0m\n\u001b[1;32m    155\u001b[0m                 \u001b[0mchild\u001b[0m \u001b[0;34m=\u001b[0m \u001b[0mpexpect\u001b[0m\u001b[0;34m.\u001b[0m\u001b[0mspawnb\u001b[0m\u001b[0;34m(\u001b[0m\u001b[0mself\u001b[0m\u001b[0;34m.\u001b[0m\u001b[0msh\u001b[0m\u001b[0;34m,\u001b[0m \u001b[0margs\u001b[0m\u001b[0;34m=\u001b[0m\u001b[0;34m[\u001b[0m\u001b[0;34m'-c'\u001b[0m\u001b[0;34m,\u001b[0m \u001b[0mcmd\u001b[0m\u001b[0;34m]\u001b[0m\u001b[0;34m)\u001b[0m \u001b[0;31m# Pexpect-U\u001b[0m\u001b[0;34m\u001b[0m\u001b[0m\n\u001b[1;32m    156\u001b[0m             \u001b[0;32melse\u001b[0m\u001b[0;34m:\u001b[0m\u001b[0;34m\u001b[0m\u001b[0m\n\u001b[0;32m--> 157\u001b[0;31m                 \u001b[0mchild\u001b[0m \u001b[0;34m=\u001b[0m \u001b[0mpexpect\u001b[0m\u001b[0;34m.\u001b[0m\u001b[0mspawn\u001b[0m\u001b[0;34m(\u001b[0m\u001b[0mself\u001b[0m\u001b[0;34m.\u001b[0m\u001b[0msh\u001b[0m\u001b[0;34m,\u001b[0m \u001b[0margs\u001b[0m\u001b[0;34m=\u001b[0m\u001b[0;34m[\u001b[0m\u001b[0;34m'-c'\u001b[0m\u001b[0;34m,\u001b[0m \u001b[0mcmd\u001b[0m\u001b[0;34m]\u001b[0m\u001b[0;34m)\u001b[0m  \u001b[0;31m# Vanilla Pexpect\u001b[0m\u001b[0;34m\u001b[0m\u001b[0m\n\u001b[0m\u001b[1;32m    158\u001b[0m             \u001b[0mflush\u001b[0m \u001b[0;34m=\u001b[0m \u001b[0msys\u001b[0m\u001b[0;34m.\u001b[0m\u001b[0mstdout\u001b[0m\u001b[0;34m.\u001b[0m\u001b[0mflush\u001b[0m\u001b[0;34m\u001b[0m\u001b[0m\n\u001b[1;32m    159\u001b[0m             \u001b[0;32mwhile\u001b[0m \u001b[0mTrue\u001b[0m\u001b[0;34m:\u001b[0m\u001b[0;34m\u001b[0m\u001b[0m\n",
      "\u001b[0;32m/root/miniconda2/lib/python2.7/site-packages/IPython/utils/_process_posix.pyc\u001b[0m in \u001b[0;36msh\u001b[0;34m(self)\u001b[0m\n\u001b[1;32m     64\u001b[0m             \u001b[0mself\u001b[0m\u001b[0;34m.\u001b[0m\u001b[0m_sh\u001b[0m \u001b[0;34m=\u001b[0m \u001b[0mpexpect\u001b[0m\u001b[0;34m.\u001b[0m\u001b[0mwhich\u001b[0m\u001b[0;34m(\u001b[0m\u001b[0;34m'sh'\u001b[0m\u001b[0;34m)\u001b[0m\u001b[0;34m\u001b[0m\u001b[0m\n\u001b[1;32m     65\u001b[0m             \u001b[0;32mif\u001b[0m \u001b[0mself\u001b[0m\u001b[0;34m.\u001b[0m\u001b[0m_sh\u001b[0m \u001b[0;32mis\u001b[0m \u001b[0mNone\u001b[0m\u001b[0;34m:\u001b[0m\u001b[0;34m\u001b[0m\u001b[0m\n\u001b[0;32m---> 66\u001b[0;31m                 \u001b[0;32mraise\u001b[0m \u001b[0mOSError\u001b[0m\u001b[0;34m(\u001b[0m\u001b[0;34m'\"sh\" shell not found'\u001b[0m\u001b[0;34m)\u001b[0m\u001b[0;34m\u001b[0m\u001b[0m\n\u001b[0m\u001b[1;32m     67\u001b[0m \u001b[0;34m\u001b[0m\u001b[0m\n\u001b[1;32m     68\u001b[0m         \u001b[0;32mreturn\u001b[0m \u001b[0mself\u001b[0m\u001b[0;34m.\u001b[0m\u001b[0m_sh\u001b[0m\u001b[0;34m\u001b[0m\u001b[0m\n",
      "\u001b[0;31mOSError\u001b[0m: \"sh\" shell not found"
     ]
    }
   ],
   "source": [
    "ls -l"
   ]
  },
  {
   "cell_type": "code",
   "execution_count": 5,
   "metadata": {},
   "outputs": [
    {
     "name": "stdout",
     "output_type": "stream",
     "text": [
      "Couldn't find program: 'bash'\n"
     ]
    }
   ],
   "source": [
    "%%bash\n",
    "ls -l"
   ]
  },
  {
   "cell_type": "code",
   "execution_count": 1,
   "metadata": {},
   "outputs": [
    {
     "name": "stdout",
     "output_type": "stream",
     "text": [
      "Wed Oct 18 22:36:30 UTC 2017\n",
      "a56217b83023\n"
     ]
    }
   ],
   "source": [
    "%%bash\n",
    "date\n",
    "hostname"
   ]
  },
  {
   "cell_type": "code",
   "execution_count": 2,
   "metadata": {},
   "outputs": [
    {
     "name": "stdout",
     "output_type": "stream",
     "text": [
      "total 11249952\r\n",
      "-rw-r--r-- 1 root root      52177 Oct 18 22:09 20171018_docker_oly_canu.ipynb\r\n",
      "-rw-rw-r-- 1 1000 1000  389254888 Oct 18 22:25 m130619_081336_42134_c100525122550000001823081109281326_s1_p0.fastq\r\n",
      "-rwxrwxr-x 1 1000 1000 1243634577 Oct 18 22:25 \u001b[0m\u001b[01;32mm170211_224036_42134_c101073082550000001823236402101737_s1_X0_filtered_subreads.fastq.gz\u001b[0m\u001b[K*\r\n",
      "-rwxrwxr-x 1 1000 1000 1388585547 Oct 18 22:26 \u001b[01;32mm170301_100013_42134_c101174162550000001823269408211761_s1_p0_filtered_subreads.fastq.gz\u001b[0m\u001b[K*\r\n",
      "-rwxrwxr-x 1 1000 1000 1258960377 Oct 18 22:26 \u001b[01;32mm170301_162825_42134_c101174162550000001823269408211762_s1_p0_filtered_subreads.fastq.gz\u001b[0m\u001b[K*\r\n",
      "-rwxrwxr-x 1 1000 1000 1384102715 Oct 18 22:26 \u001b[01;32mm170301_225711_42134_c101174162550000001823269408211763_s1_p0_filtered_subreads.fastq.gz\u001b[0m\u001b[K*\r\n",
      "-rwxrwxr-x 1 1000 1000 1305285460 Oct 18 22:27 \u001b[01;32mm170308_163922_42134_c101174252550000001823269408211742_s1_p0_filtered_subreads.fastq.gz\u001b[0m\u001b[K*\r\n",
      "-rwxrwxr-x 1 1000 1000 1321354256 Oct 18 22:27 \u001b[01;32mm170308_230815_42134_c101174252550000001823269408211743_s1_p0_filtered_subreads.fastq.gz\u001b[0m\u001b[K*\r\n",
      "-rwxrwxr-x 1 1000 1000  910321803 Oct 18 22:27 \u001b[01;32mm170315_001112_42134_c101169372550000001823273008151717_s1_p0_filtered_subreads.fastq.gz\u001b[0m\u001b[K*\r\n",
      "-rwxrwxr-x 1 1000 1000  798040545 Oct 18 22:28 \u001b[01;32mm170315_063041_42134_c101169382550000001823273008151700_s1_p0_filtered_subreads.fastq.gz\u001b[0m\u001b[K*\r\n",
      "-rwxrwxr-x 1 1000 1000  724173972 Oct 18 22:28 \u001b[01;32mm170315_124938_42134_c101169382550000001823273008151701_s1_p0_filtered_subreads.fastq.gz\u001b[0m\u001b[K*\r\n",
      "-rwxrwxr-x 1 1000 1000  796112682 Oct 18 22:28 \u001b[01;32mm170315_190851_42134_c101169382550000001823273008151702_s1_p0_filtered_subreads.fastq.gz\u001b[0m\u001b[K*\r\n"
     ]
    }
   ],
   "source": [
    "ls -l"
   ]
  },
  {
   "cell_type": "code",
   "execution_count": 3,
   "metadata": {},
   "outputs": [],
   "source": [
    "%%bash\n",
    "mkdir /home/data/20171018_oly_pacbio_canu"
   ]
  },
  {
   "cell_type": "code",
   "execution_count": 4,
   "metadata": {},
   "outputs": [
    {
     "name": "stdout",
     "output_type": "stream",
     "text": [
      "20171018_docker_oly_canu.ipynb\r\n",
      "\u001b[0m\u001b[01;34m20171018_oly_pacbio_canu\u001b[0m/\r\n",
      "m130619_081336_42134_c100525122550000001823081109281326_s1_p0.fastq\r\n",
      "\u001b[01;32mm170211_224036_42134_c101073082550000001823236402101737_s1_X0_filtered_subreads.fastq.gz\u001b[0m\u001b[K*\r\n",
      "\u001b[01;32mm170301_100013_42134_c101174162550000001823269408211761_s1_p0_filtered_subreads.fastq.gz\u001b[0m\u001b[K*\r\n",
      "\u001b[01;32mm170301_162825_42134_c101174162550000001823269408211762_s1_p0_filtered_subreads.fastq.gz\u001b[0m\u001b[K*\r\n",
      "\u001b[01;32mm170301_225711_42134_c101174162550000001823269408211763_s1_p0_filtered_subreads.fastq.gz\u001b[0m\u001b[K*\r\n",
      "\u001b[01;32mm170308_163922_42134_c101174252550000001823269408211742_s1_p0_filtered_subreads.fastq.gz\u001b[0m\u001b[K*\r\n",
      "\u001b[01;32mm170308_230815_42134_c101174252550000001823269408211743_s1_p0_filtered_subreads.fastq.gz\u001b[0m\u001b[K*\r\n",
      "\u001b[01;32mm170315_001112_42134_c101169372550000001823273008151717_s1_p0_filtered_subreads.fastq.gz\u001b[0m\u001b[K*\r\n",
      "\u001b[01;32mm170315_063041_42134_c101169382550000001823273008151700_s1_p0_filtered_subreads.fastq.gz\u001b[0m\u001b[K*\r\n",
      "\u001b[01;32mm170315_124938_42134_c101169382550000001823273008151701_s1_p0_filtered_subreads.fastq.gz\u001b[0m\u001b[K*\r\n",
      "\u001b[01;32mm170315_190851_42134_c101169382550000001823273008151702_s1_p0_filtered_subreads.fastq.gz\u001b[0m\u001b[K*\r\n"
     ]
    }
   ],
   "source": [
    "ls -F"
   ]
  },
  {
   "cell_type": "code",
   "execution_count": null,
   "metadata": {},
   "outputs": [],
   "source": [
    "%%bash\n",
    "time canu \\\n",
    "useGrid=false \\\n",
    "ovsMethod=sequential \\\n",
    "-p 20171018_oly_pacbio \\\n",
    "-d /home/data/20171018_oly_pacbio_canu/ \\\n",
    "genomeSize=1.9g \\\n",
    "correctedErrorRate=0.075 \\\n",
    "-pacbio-raw m*"
   ]
  },
  {
   "cell_type": "code",
   "execution_count": null,
   "metadata": {},
   "outputs": [],
   "source": []
  }
 ],
 "metadata": {
  "kernelspec": {
   "display_name": "Python 2",
   "language": "python",
   "name": "python2"
  },
  "language_info": {
   "codemirror_mode": {
    "name": "ipython",
    "version": 2
   },
   "file_extension": ".py",
   "mimetype": "text/x-python",
   "name": "python",
   "nbconvert_exporter": "python",
   "pygments_lexer": "ipython2",
   "version": "2.7.11"
  }
 },
 "nbformat": 4,
 "nbformat_minor": 2
}
