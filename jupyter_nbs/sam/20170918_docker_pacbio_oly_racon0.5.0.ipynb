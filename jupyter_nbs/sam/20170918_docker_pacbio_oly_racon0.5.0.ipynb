{
 "cells": [
  {
   "cell_type": "markdown",
   "metadata": {
    "collapsed": true
   },
   "source": [
    "### Running in Docker container on Swoose\n",
    "\n",
    "Started Docker container with the following command:\n",
    "\n",
    "```docker run -p 8888:8888 -v /home/sam/data/pacbio_oly/:/home/data -it bioinformatics/bioinformatics:v0 /bin/bash```\n",
    "\n",
    "The command allows ```/home/sam/data/pacbio_oly/``` to be accessible to the Docker container.\n",
    "\n",
    "Once  access to Jupyter Notebook over port 8888 and makes my Jupyter Notebook GitHub repo and my data files the container was started, started Jupyter Notebook with the following command inside the Docker container:\n",
    "\n",
    "```jupyter notebook --allow-root```\n",
    "\n",
    "This is configured in the Docker container to launch a Jupyter Notebook without a browser on port 8888.\n",
    "The Docker container is running on an image created from this [Dockerfile (Git commit db26291a](https://github.com/RobertsLab/code/commit/db26291a69d909ff41caa26a479b927ea6e501c8)"
   ]
  },
  {
   "cell_type": "code",
   "execution_count": 1,
   "metadata": {},
   "outputs": [
    {
     "name": "stdout",
     "output_type": "stream",
     "text": [
      "Mon Sep 18 18:15:36 UTC 2017\n"
     ]
    }
   ],
   "source": [
    "%%bash\n",
    "date"
   ]
  },
  {
   "cell_type": "code",
   "execution_count": 2,
   "metadata": {},
   "outputs": [
    {
     "name": "stdout",
     "output_type": "stream",
     "text": [
      "3291cf2bcb28\n"
     ]
    }
   ],
   "source": [
    "%%bash\n",
    "hostname"
   ]
  },
  {
   "cell_type": "code",
   "execution_count": 3,
   "metadata": {},
   "outputs": [
    {
     "name": "stdout",
     "output_type": "stream",
     "text": [
      "Architecture:          x86_64\n",
      "CPU op-mode(s):        32-bit, 64-bit\n",
      "Byte Order:            Little Endian\n",
      "CPU(s):                24\n",
      "On-line CPU(s) list:   0-23\n",
      "Thread(s) per core:    2\n",
      "Core(s) per socket:    6\n",
      "Socket(s):             2\n",
      "NUMA node(s):          1\n",
      "Vendor ID:             GenuineIntel\n",
      "CPU family:            6\n",
      "Model:                 44\n",
      "Model name:            Intel(R) Xeon(R) CPU           X5670  @ 2.93GHz\n",
      "Stepping:              2\n",
      "CPU MHz:               2926.129\n",
      "BogoMIPS:              5851.98\n",
      "Virtualization:        VT-x\n",
      "L1d cache:             32K\n",
      "L1i cache:             32K\n",
      "L2 cache:              256K\n",
      "L3 cache:              12288K\n",
      "NUMA node0 CPU(s):     0-23\n"
     ]
    }
   ],
   "source": [
    "%%bash\n",
    "lscpu"
   ]
  },
  {
   "cell_type": "code",
   "execution_count": 4,
   "metadata": {},
   "outputs": [
    {
     "name": "stdout",
     "output_type": "stream",
     "text": [
      "             total       used       free     shared    buffers     cached\n",
      "Mem:           70G        68G       2.1G       232M       550M        61G\n",
      "-/+ buffers/cache:       7.1G        63G\n",
      "Swap:         4.7G       5.4M       4.7G\n"
     ]
    }
   ],
   "source": [
    "%%bash\n",
    "free -mh"
   ]
  },
  {
   "cell_type": "code",
   "execution_count": 5,
   "metadata": {},
   "outputs": [
    {
     "name": "stdout",
     "output_type": "stream",
     "text": [
      "/home/data\n"
     ]
    }
   ],
   "source": [
    "%%bash\n",
    "pwd"
   ]
  },
  {
   "cell_type": "markdown",
   "metadata": {},
   "source": [
    "### Run [Racon v0.5.0](https://github.com/isovic/racon)\n",
    "\n",
    "#### Racon is an \"ultrafast consensus module for raw de novo genome assembly of long uncorrected reads.\"\n",
    "\n",
    "#### Using as part of pipeline: minimap/miniasm/racon"
   ]
  },
  {
   "cell_type": "code",
   "execution_count": 7,
   "metadata": {
    "collapsed": true
   },
   "outputs": [],
   "source": [
    "%%bash\n",
    "which racon"
   ]
  },
  {
   "cell_type": "code",
   "execution_count": 8,
   "metadata": {},
   "outputs": [
    {
     "name": "stderr",
     "output_type": "stream",
     "text": [
      "  /usr/local/bioinformatics/racon-v0.5.0/bin/racon [options] <reads.fastq> <overlaps.paf> <raw_contigs.fasta> <out_consensus.fasta>\n",
      "\n",
      "Options\n",
      "  Input/Output options:\n",
      "    reads               STR   Reads in FASTQ format.\n",
      "    alnpath             STR   Path to a MHAP file with read-to-target overlaps.\n",
      "    raw                 STR   Path to the raw contig/read sequences (output from the layout step). GFA, FASTA/FASTQ or\n",
      "                              SAM formats allowed.\n",
      "    out                 STR   Output consensus sequence.\n",
      "        --sam            -    SAM is provided instead of MHAP. The reads file will be ignored, and seq and qual fields\n",
      "                              from the SAM file will be used. [false]\n",
      "        --mhap           -    Overlaps are in PAF format instead of MHAP. [false]\n",
      "\n",
      "  Algorithm:\n",
      "        --bq            FLT   Threshold for the average base quality of the input reads. If a read has average BQ <\n",
      "                              specified, the read will be skipped. If value is < 0.0, filtering is disabled. [10.0]\n",
      "        --use-contig-qv  -    If false, dummy QVs equal to '!' will be assigned to each contig base during window\n",
      "                              consensus. Otherwise, QVs will be loaded from the contigs file if the file is in FASTQ format. [false]\n",
      "    -w, --winlen        INT   Length of the window to perform POA on. [500]\n",
      "        --pileup         -    Simple pileup + majority vote consensus will be performed instead of using Spoa. Much\n",
      "                              faster, but less accurate. [false]\n",
      "    -e, --error-rate    FLT   Maximum allowed error rate. Used for filtering faulty overlaps. [0.30]\n",
      "        --ovl-margin    FLT   Fraction of the window size to overlap the windows by. [0.0]\n",
      "\n",
      "  Control:\n",
      "    -t, --threads       INT   Number of threads to use. [4]\n",
      "    -b, --winbatch      INT   Size of the batch in which to process windows. After a batch is finished, consensus of\n",
      "                              the windows is joined and output to file. [20000]\n",
      "        --num-batches   INT   The number of batches which to process [-1]\n",
      "        --start-window  INT   ID of the window to start processing from. [0]\n",
      "        --erc            -    Perform error-correction instead of contig consensus. The only difference is in the type\n",
      "                              of parallelization to achieve better performance. [false]\n",
      "\n",
      "  Alignment:\n",
      "    -M, --match         INT   Match score (positive value). [5]\n",
      "    -X, --mismatch      INT   Mismatch penalty (negative value expected). [-4]\n",
      "    -G, --gapopen       INT   Gap open penalty (negative value expected). [-8]\n",
      "    -E, --gapext        INT   Gap extend penalty (negative value expected). [-6]\n",
      "\n",
      "  Other:\n",
      "    -v, --verbose       INT   Verbose level. 0 off, 1 low, 2 medium, 3 high, 4 and 5 all levels, 6-9 debug. [5]\n",
      "\n",
      "  Other options:\n",
      "    -h, --help           -    View this help. [false]\n",
      "\n",
      "\n"
     ]
    }
   ],
   "source": [
    "%%bash\n",
    "/usr/local/bioinformatics/racon-v0.5.0/bin/racon"
   ]
  },
  {
   "cell_type": "code",
   "execution_count": 9,
   "metadata": {},
   "outputs": [
    {
     "name": "stderr",
     "output_type": "stream",
     "text": [
      "[18:20:50 main] Using PAF for input alignments. (20170911_minimap2_pacbio_oly.paf)\n",
      "[18:20:50 main] Loading reads.\n",
      "[18:23:58 main] Hashing qnames.\n",
      "[18:24:05 main] Parsing the overlaps file.\n",
      "[18:24:05 main] Unique overlaps will be filtered on the fly.\n",
      "[Mon, 18 Sep 17 18:24:05 +0000 ERROR] #5: Unexpected value found! Could not find qname 'm170301_162825_42134_c101174162550000001823269408211762_s1_p0/27749/11100_22781' in the input contigs file! Exiting.In function: 'ParsePAF'.\n",
      "\n",
      "[Mon, 18 Sep 17 18:24:05 +0000 ERROR] #5: Unexpected value found! Could not find qname 'm170301_162825_42134_c101174162550000001823269408211762_s1_p0/27749/11100_22781' in the input contigs file! Exiting.In function: 'ParsePAF'.\n",
      "Exiting.\n",
      "\n",
      "real\t3m16.449s\n",
      "user\t2m28.040s\n",
      "sys\t0m17.592s\n"
     ]
    }
   ],
   "source": [
    "%%bash\n",
    "time \\\n",
    "/usr/local/bioinformatics/racon-v0.5.0/bin/racon \\\n",
    "20170911_oly_pacbio_cat.fastq \\\n",
    "20170911_minimap2_pacbio_oly.paf \\\n",
    "20170918_oly_pacbio_miniasm_reads.gfa \\\n",
    "20170918_oly_pacbio_racon_consensus.fasta"
   ]
  },
  {
   "cell_type": "markdown",
   "metadata": {},
   "source": [
    "#### Reading through the [example on the Racon GitHub page](https://github.com/isovic/racon#consensus-from-mappingsoverlaps-in-pafmhap-format), it seems like I need to do another step with [Minimap](https://github.com/lh3/minimap2) before I can run Racon.\n",
    "\n",
    "#### Using the default settings in Minimap will map the reads to contigs, which is needed for Racon."
   ]
  },
  {
   "cell_type": "code",
   "execution_count": 10,
   "metadata": {},
   "outputs": [
    {
     "name": "stderr",
     "output_type": "stream",
     "text": [
      "[M::mm_idx_gen::116.151*1.50] collected minimizers\n",
      "[M::mm_idx_gen::120.734*2.20] sorted minimizers\n",
      "[M::main::120.735*2.20] loaded/built the index for 537523 target sequence(s)\n",
      "[M::mm_mapopt_update::129.279*2.12] mid_occ = 288; max_occ = 1715\n",
      "[M::mm_idx_stat] kmer size: 15; skip: 10; is_HPC: 0; #seq: 537523\n",
      "[M::mm_idx_stat::131.206*2.11] distinct minimizers: 153278982 (34.77% are singletons); average occurrences: 4.884; average spacing: 5.344\n",
      "[M::mm_idx_gen::263.975*1.78] collected minimizers\n",
      "[M::mm_idx_gen::267.588*2.05] sorted minimizers\n",
      "[M::main::267.588*2.05] loaded/built the index for 537296 target sequence(s)\n",
      "[M::mm_mapopt_update::278.744*2.01] mid_occ = 260; max_occ = 1515\n",
      "[M::mm_idx_stat] kmer size: 15; skip: 10; is_HPC: 0; #seq: 537296\n",
      "[M::mm_idx_stat::280.708*2.01] distinct minimizers: 155901188 (34.32% are singletons); average occurrences: 4.800; average spacing: 5.345\n",
      "[M::mm_idx_gen::412.938*1.82] collected minimizers\n",
      "[M::mm_idx_gen::416.895*2.00] sorted minimizers\n",
      "[M::main::416.895*2.00] loaded/built the index for 612559 target sequence(s)\n",
      "[M::mm_mapopt_update::425.925*1.98] mid_occ = 367; max_occ = 2400\n",
      "[M::mm_idx_stat] kmer size: 15; skip: 10; is_HPC: 0; #seq: 612559\n",
      "[M::mm_idx_stat::427.856*1.98] distinct minimizers: 148368314 (35.70% are singletons); average occurrences: 5.051; average spacing: 5.337\n",
      "[M::mm_idx_gen::449.047*1.94] collected minimizers\n",
      "[M::mm_idx_gen::449.665*1.97] sorted minimizers\n",
      "[M::main::449.665*1.97] loaded/built the index for 92539 target sequence(s)\n",
      "[M::mm_mapopt_update::452.276*1.96] mid_occ = 107; max_occ = 750\n",
      "[M::mm_idx_stat] kmer size: 15; skip: 10; is_HPC: 0; #seq: 92539\n",
      "[M::mm_idx_stat::453.197*1.96] distinct minimizers: 55262287 (64.62% are singletons); average occurrences: 2.004; average spacing: 5.336\n",
      "[M::main] Version: 2.1.1-r341\n",
      "[M::main] CMD: /usr/local/bioinformatics/minimap2-2.1.1_x64-linux/minimap2 -t 23 20170911_oly_pacbio_cat.fastq 20170905_minimap2_pacibio_oly.paf\n",
      "[M::main] Real time: 453.650 sec; CPU: 889.828 sec\n",
      "\n",
      "real\t7m34.152s\n",
      "user\t13m12.928s\n",
      "sys\t1m37.328s\n"
     ]
    }
   ],
   "source": [
    "%%bash\n",
    "time \\\n",
    "/usr/local/bioinformatics/minimap2-2.1.1_x64-linux/minimap2 \\\n",
    "-t 23 \\\n",
    "20170911_oly_pacbio_cat.fastq 20170905_minimap2_pacibio_oly.paf > 20170918_minimap2_mapping_oly_pacbio.paf"
   ]
  },
  {
   "cell_type": "markdown",
   "metadata": {},
   "source": [
    "#### Presumbly that worked. Let's run Racon..."
   ]
  },
  {
   "cell_type": "code",
   "execution_count": null,
   "metadata": {
    "collapsed": true
   },
   "outputs": [],
   "source": [
    "%%bash\n",
    "time \\\n",
    "/usr/local/bioinformatics/racon-v0.5.0/bin/racon -t 24\\\n",
    "20170911_oly_pacbio_cat.fastq \\\n",
    "20170911_minimap2_pacbio_oly.paf \\\n",
    "20170918_oly_pacbio_miniasm_reads.gfa \\\n",
    "20170918_oly_pacbio_racon_consensus.fasta"
   ]
  }
 ],
 "metadata": {
  "kernelspec": {
   "display_name": "Python 2",
   "language": "python",
   "name": "python2"
  },
  "language_info": {
   "codemirror_mode": {
    "name": "ipython",
    "version": 2
   },
   "file_extension": ".py",
   "mimetype": "text/x-python",
   "name": "python",
   "nbconvert_exporter": "python",
   "pygments_lexer": "ipython2",
   "version": "2.7.13"
  }
 },
 "nbformat": 4,
 "nbformat_minor": 2
}
