{
 "cells": [
  {
   "cell_type": "code",
   "execution_count": 1,
   "metadata": {
    "collapsed": false
   },
   "outputs": [
    {
     "name": "stdout",
     "output_type": "stream",
     "text": [
      "Thu Jun 22 14:26:20 PDT 2017\n"
     ]
    }
   ],
   "source": [
    "%%bash\n",
    "date"
   ]
  },
  {
   "cell_type": "code",
   "execution_count": 2,
   "metadata": {
    "collapsed": false
   },
   "outputs": [
    {
     "name": "stdout",
     "output_type": "stream",
     "text": [
      "Software:\n",
      "\n",
      "    System Software Overview:\n",
      "\n",
      "      System Version: Mac OS X 10.7.5 (11G63)\n",
      "      Kernel Version: Darwin 11.4.2\n",
      "      Boot Volume: SSD2\n",
      "      Boot Mode: Normal\n",
      "      Computer Name: greenbird (2)\n",
      "      User Name: Sam (Sam)\n",
      "      Secure Virtual Memory: Enabled\n",
      "      64-bit Kernel and Extensions: No\n",
      "      Time since boot: 38 days 3:04\n",
      "\n"
     ]
    }
   ],
   "source": [
    "%%bash\n",
    "system_profiler SPSoftwareDataType"
   ]
  },
  {
   "cell_type": "code",
   "execution_count": 3,
   "metadata": {
    "collapsed": false
   },
   "outputs": [
    {
     "name": "stdout",
     "output_type": "stream",
     "text": [
      "\n",
      "\n",
      "      Model Name: Mac Pro\n",
      "      Model Identifier: MacPro1,1\n",
      "      Processor Name: Dual-Core Intel Xeon\n",
      "      Processor Speed: 3 GHz\n",
      "      Number of Processors: 2\n",
      "      Total Number of Cores: 4\n",
      "      L2 Cache (per Processor): 4 MB\n",
      "      Memory: 14 GB\n",
      "      Bus Speed: 1.33 GHz\n",
      "      Boot ROM Version: MP11.005C.B08\n",
      "      SMC Version (system): 1.7f10\n",
      "\n"
     ]
    }
   ],
   "source": [
    "%%bash\n",
    "#Uses grep to exclude lines that display serial number and hardware UUID\n",
    "system_profiler SPHardwareDataType | grep -v [SH][ea]"
   ]
  },
  {
   "cell_type": "markdown",
   "metadata": {},
   "source": [
    "```\n",
    "Create md5 checksums of original files\n",
    "```"
   ]
  },
  {
   "cell_type": "markdown",
   "metadata": {},
   "source": [
    "```\n",
    "XML array: xml_array=($(find . -maxdepth 2 -name \"*.xml\"))\n",
    "fastq array: fastq_array=($(find . -maxdepth 2 -name \"*.fastq.gz\"))\n",
    "rm path: xml_nopath_array=($(echo \"${array[@]##*/}\"))\n",
    "rm suffix: xml_nosuffix_array=($(echo \"${array3[@]%%.*}\"))\n",
    "renaming loop:\n",
    "for item in \"${!fastq_array[@]}\"; do\n",
    "fastq_name=${fastq_array[$item]}\n",
    "xml_name=${xml_nosuffix_array[$item]}\n",
    "cp fastq_name /owl/nightingales/O_lurida/\"${xml_name}_${fastq_name}\"\n",
    "```"
   ]
  },
  {
   "cell_type": "code",
   "execution_count": null,
   "metadata": {
    "collapsed": true
   },
   "outputs": [],
   "source": []
  }
 ],
 "metadata": {
  "kernelspec": {
   "display_name": "Python 2",
   "language": "python",
   "name": "python2"
  },
  "language_info": {
   "codemirror_mode": {
    "name": "ipython",
    "version": 2
   },
   "file_extension": ".py",
   "mimetype": "text/x-python",
   "name": "python",
   "nbconvert_exporter": "python",
   "pygments_lexer": "ipython2",
   "version": "2.7.11"
  }
 },
 "nbformat": 4,
 "nbformat_minor": 0
}
