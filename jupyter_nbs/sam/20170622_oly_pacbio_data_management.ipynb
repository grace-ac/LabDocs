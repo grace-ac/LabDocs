{
 "cells": [
  {
   "cell_type": "code",
   "execution_count": 1,
   "metadata": {
    "collapsed": false
   },
   "outputs": [
    {
     "name": "stdout",
     "output_type": "stream",
     "text": [
      "Thu Jun 22 14:26:20 PDT 2017\n"
     ]
    }
   ],
   "source": [
    "%%bash\n",
    "date"
   ]
  },
  {
   "cell_type": "code",
   "execution_count": 2,
   "metadata": {
    "collapsed": false
   },
   "outputs": [
    {
     "name": "stdout",
     "output_type": "stream",
     "text": [
      "Software:\n",
      "\n",
      "    System Software Overview:\n",
      "\n",
      "      System Version: Mac OS X 10.7.5 (11G63)\n",
      "      Kernel Version: Darwin 11.4.2\n",
      "      Boot Volume: SSD2\n",
      "      Boot Mode: Normal\n",
      "      Computer Name: greenbird (2)\n",
      "      User Name: Sam (Sam)\n",
      "      Secure Virtual Memory: Enabled\n",
      "      64-bit Kernel and Extensions: No\n",
      "      Time since boot: 38 days 3:04\n",
      "\n"
     ]
    }
   ],
   "source": [
    "%%bash\n",
    "system_profiler SPSoftwareDataType"
   ]
  },
  {
   "cell_type": "code",
   "execution_count": 3,
   "metadata": {
    "collapsed": false
   },
   "outputs": [
    {
     "name": "stdout",
     "output_type": "stream",
     "text": [
      "\n",
      "\n",
      "      Model Name: Mac Pro\n",
      "      Model Identifier: MacPro1,1\n",
      "      Processor Name: Dual-Core Intel Xeon\n",
      "      Processor Speed: 3 GHz\n",
      "      Number of Processors: 2\n",
      "      Total Number of Cores: 4\n",
      "      L2 Cache (per Processor): 4 MB\n",
      "      Memory: 14 GB\n",
      "      Bus Speed: 1.33 GHz\n",
      "      Boot ROM Version: MP11.005C.B08\n",
      "      SMC Version (system): 1.7f10\n",
      "\n"
     ]
    }
   ],
   "source": [
    "%%bash\n",
    "#Uses grep to exclude lines that display serial number and hardware UUID\n",
    "system_profiler SPHardwareDataType | grep -v [SH][ea]"
   ]
  },
  {
   "cell_type": "markdown",
   "metadata": {},
   "source": [
    "---\n",
    "\n",
    "The goal of this notebook is to copy the PacBio fastq.gz files for the oly genome sequencing project to the ```/owl/nightingales/O_lurida``` folder to be in compliance with our data management plan. Since these files do not have unique names (they're all named the same thing, but are stored in different subdirectories), they need to be renamed. Additionally, to confirm that the files were copied and renamed correctly, an md5 checkusm verification needs to take place.\n",
    "\n",
    "---"
   ]
  },
  {
   "cell_type": "markdown",
   "metadata": {},
   "source": [
    "### Create md5 checksums of original gzipped fastq files"
   ]
  },
  {
   "cell_type": "code",
   "execution_count": 1,
   "metadata": {
    "collapsed": true
   },
   "outputs": [],
   "source": [
    "%%bash\n",
    "cd /Volumes/owl/nightingales/O_lurida/20170323_pacbio/"
   ]
  },
  {
   "cell_type": "markdown",
   "metadata": {},
   "source": [
    "#### Use find to locate all the gzipped fastq files, create an md5 checksum, and write the output from each file to a new file"
   ]
  },
  {
   "cell_type": "code",
   "execution_count": 2,
   "metadata": {
    "collapsed": false
   },
   "outputs": [
    {
     "name": "stderr",
     "output_type": "stream",
     "text": [
      "\n",
      "real\t0m0.011s\n",
      "user\t0m0.001s\n",
      "sys\t0m0.005s\n"
     ]
    }
   ],
   "source": [
    "%%bash\n",
    "time find . -maxdepth 2 -name \"*.fastq.gz\" -exec md5 {} + > md5checksums_fastq.gz.md5"
   ]
  },
  {
   "cell_type": "markdown",
   "metadata": {},
   "source": [
    "Well, that didn't work. I think it didn't change directories. Should have caught this after executing cell #1 above, since there was no output listed. Let's see where I am..."
   ]
  },
  {
   "cell_type": "code",
   "execution_count": 3,
   "metadata": {
    "collapsed": false
   },
   "outputs": [
    {
     "name": "stdout",
     "output_type": "stream",
     "text": [
      "/Users/Sam/GitRepos/LabDocs/jupyter_nbs/sam\n"
     ]
    }
   ],
   "source": [
    "%%bash\n",
    "pwd"
   ]
  },
  {
   "cell_type": "markdown",
   "metadata": {},
   "source": [
    "Yep, didn't change directories. I think it's because I used the ```bash``` shell magics for the ```cd``` command. Annoying!"
   ]
  },
  {
   "cell_type": "code",
   "execution_count": 4,
   "metadata": {
    "collapsed": false
   },
   "outputs": [
    {
     "name": "stdout",
     "output_type": "stream",
     "text": [
      "/Volumes/owl/nightingales/O_lurida/20170323_pacbio\n"
     ]
    }
   ],
   "source": [
    "cd /Volumes/owl/nightingales/O_lurida/20170323_pacbio/"
   ]
  },
  {
   "cell_type": "markdown",
   "metadata": {},
   "source": [
    "#### Use find to locate all the gzipped fastq files, create an md5 checksum, and write the output from each file to a new file"
   ]
  },
  {
   "cell_type": "code",
   "execution_count": 5,
   "metadata": {
    "collapsed": false
   },
   "outputs": [
    {
     "name": "stderr",
     "output_type": "stream",
     "text": [
      "\n",
      "real\t3m56.425s\n",
      "user\t0m27.842s\n",
      "sys\t0m43.239s\n"
     ]
    }
   ],
   "source": [
    "%%bash\n",
    "time find . -maxdepth 2 -name \"*.fastq.gz\" -exec md5 {} + > md5checksums_fastq.gz.md5"
   ]
  },
  {
   "cell_type": "code",
   "execution_count": 6,
   "metadata": {
    "collapsed": false
   },
   "outputs": [
    {
     "name": "stdout",
     "output_type": "stream",
     "text": [
      "MD5 (./170210_PCB-CC_MS_EEE_20kb_P6v2_D01_1/filtered_subreads.fastq.gz) = cc30d6e17499a36960dab140991af9b7\n",
      "MD5 (./170228_PCB-CC_AL_20kb_P6v2_C01_1/filtered_subreads.fastq.gz) = c0f549d4867c2d45f0a4c5ebb65a7163\n",
      "MD5 (./170228_PCB-CC_AL_20kb_P6v2_D01_1/filtered_subreads.fastq.gz) = 601c182bceec111f286b1a75f9276613\n",
      "MD5 (./170228_PCB-CC_AL_20kb_P6v2_E01_1/filtered_subreads.fastq.gz) = 1d8c89d18d976d82f977f53f11657c96\n",
      "MD5 (./170307_PCB-CC_AL_20kb_P6v2_C01_1/filtered_subreads.fastq.gz) = c000bb09dd10ea85028cd73ba1f8ce51\n",
      "MD5 (./170307_PCB-CC_AL_20kb_P6v2_C02_1/filtered_subreads.fastq.gz) = 7f387f334adad2c11f71c4216b0d8fe2\n",
      "MD5 (./170314_PCB-CC_20kb_P6v2_A01_1/filtered_subreads.fastq.gz) = c21ce30b76f57485a3cbe8712a623bd5\n",
      "MD5 (./170314_PCB-CC_20kb_P6v2_A02_1/filtered_subreads.fastq.gz) = 20b0b0743fe0214bde319d2d40a40067\n",
      "MD5 (./170314_PCB-CC_20kb_P6v2_A03_1/filtered_subreads.fastq.gz) = 511866d0fc60fe3e8bb6dea4ce87a64f\n",
      "MD5 (./170314_PCB-CC_20kb_P6v2_A04_1/filtered_subreads.fastq.gz) = 206b30a4b231541a85d4707f0b907153\n"
     ]
    }
   ],
   "source": [
    "%%bash\n",
    "cat md5checksums_fastq.gz.md5"
   ]
  },
  {
   "cell_type": "markdown",
   "metadata": {},
   "source": [
    "### Copy, rename, and generate new md5 checksums"
   ]
  },
  {
   "cell_type": "markdown",
   "metadata": {},
   "source": []
  },
  {
   "cell_type": "code",
   "execution_count": 7,
   "metadata": {
    "collapsed": false
   },
   "outputs": [
    {
     "name": "stdout",
     "output_type": "stream",
     "text": [
      "Contents of xml_array:\n",
      "./170210_PCB-CC_MS_EEE_20kb_P6v2_D01_1/m170211_224036_42134_c101073082550000001823236402101737_s1_X0.metadata.xml\n",
      "./170228_PCB-CC_AL_20kb_P6v2_C01_1/m170301_100013_42134_c101174162550000001823269408211761_s1_p0.metadata.xml\n",
      "./170228_PCB-CC_AL_20kb_P6v2_D01_1/m170301_162825_42134_c101174162550000001823269408211762_s1_p0.metadata.xml\n",
      "./170228_PCB-CC_AL_20kb_P6v2_E01_1/m170301_225711_42134_c101174162550000001823269408211763_s1_p0.metadata.xml\n",
      "./170307_PCB-CC_AL_20kb_P6v2_C01_1/m170308_163922_42134_c101174252550000001823269408211742_s1_p0.metadata.xml\n",
      "./170307_PCB-CC_AL_20kb_P6v2_C02_1/m170308_230815_42134_c101174252550000001823269408211743_s1_p0.metadata.xml\n",
      "./170314_PCB-CC_20kb_P6v2_A01_1/m170315_001112_42134_c101169372550000001823273008151717_s1_p0.metadata.xml\n",
      "./170314_PCB-CC_20kb_P6v2_A02_1/m170315_063041_42134_c101169382550000001823273008151700_s1_p0.metadata.xml\n",
      "./170314_PCB-CC_20kb_P6v2_A03_1/m170315_124938_42134_c101169382550000001823273008151701_s1_p0.metadata.xml\n",
      "./170314_PCB-CC_20kb_P6v2_A04_1/m170315_190851_42134_c101169382550000001823273008151702_s1_p0.metadata.xml\n",
      "\n",
      "-------------\n",
      "Contents of xml_array:\n",
      "./170210_PCB-CC_MS_EEE_20kb_P6v2_D01_1/filtered_subreads.fastq.gz\n",
      "./170228_PCB-CC_AL_20kb_P6v2_C01_1/filtered_subreads.fastq.gz\n",
      "./170228_PCB-CC_AL_20kb_P6v2_D01_1/filtered_subreads.fastq.gz\n",
      "./170228_PCB-CC_AL_20kb_P6v2_E01_1/filtered_subreads.fastq.gz\n",
      "./170307_PCB-CC_AL_20kb_P6v2_C01_1/filtered_subreads.fastq.gz\n",
      "./170307_PCB-CC_AL_20kb_P6v2_C02_1/filtered_subreads.fastq.gz\n",
      "./170314_PCB-CC_20kb_P6v2_A01_1/filtered_subreads.fastq.gz\n",
      "./170314_PCB-CC_20kb_P6v2_A02_1/filtered_subreads.fastq.gz\n",
      "./170314_PCB-CC_20kb_P6v2_A03_1/filtered_subreads.fastq.gz\n",
      "./170314_PCB-CC_20kb_P6v2_A04_1/filtered_subreads.fastq.gz\n",
      "\n",
      "-------------\n",
      "Contents of fastq_nopath_array:\n",
      "filtered_subreads.fastq.gz\n",
      "filtered_subreads.fastq.gz\n",
      "filtered_subreads.fastq.gz\n",
      "filtered_subreads.fastq.gz\n",
      "filtered_subreads.fastq.gz\n",
      "filtered_subreads.fastq.gz\n",
      "filtered_subreads.fastq.gz\n",
      "filtered_subreads.fastq.gz\n",
      "filtered_subreads.fastq.gz\n",
      "filtered_subreads.fastq.gz\n",
      "\n",
      "-------------\n",
      "Contents of xml_nopath_array:\n",
      "m170211_224036_42134_c101073082550000001823236402101737_s1_X0.metadata.xml\n",
      "m170301_100013_42134_c101174162550000001823269408211761_s1_p0.metadata.xml\n",
      "m170301_162825_42134_c101174162550000001823269408211762_s1_p0.metadata.xml\n",
      "m170301_225711_42134_c101174162550000001823269408211763_s1_p0.metadata.xml\n",
      "m170308_163922_42134_c101174252550000001823269408211742_s1_p0.metadata.xml\n",
      "m170308_230815_42134_c101174252550000001823269408211743_s1_p0.metadata.xml\n",
      "m170315_001112_42134_c101169372550000001823273008151717_s1_p0.metadata.xml\n",
      "m170315_063041_42134_c101169382550000001823273008151700_s1_p0.metadata.xml\n",
      "m170315_124938_42134_c101169382550000001823273008151701_s1_p0.metadata.xml\n",
      "m170315_190851_42134_c101169382550000001823273008151702_s1_p0.metadata.xml\n",
      "\n",
      "-------------\n",
      "Contents of xml_nosuffix_array:\n",
      "m170211_224036_42134_c101073082550000001823236402101737_s1_X0\n",
      "m170301_100013_42134_c101174162550000001823269408211761_s1_p0\n",
      "m170301_162825_42134_c101174162550000001823269408211762_s1_p0\n",
      "m170301_225711_42134_c101174162550000001823269408211763_s1_p0\n",
      "m170308_163922_42134_c101174252550000001823269408211742_s1_p0\n",
      "m170308_230815_42134_c101174252550000001823269408211743_s1_p0\n",
      "m170315_001112_42134_c101169372550000001823273008151717_s1_p0\n",
      "m170315_063041_42134_c101169382550000001823273008151700_s1_p0\n",
      "m170315_124938_42134_c101169382550000001823273008151701_s1_p0\n",
      "m170315_190851_42134_c101169382550000001823273008151702_s1_p0\n",
      "\n",
      "-------------\n",
      "/Volumes/owl/nightingales/O_lurida/m170211_224036_42134_c101073082550000001823236402101737_s1_X0_filtered_subreads.fastq.gz\n",
      "MD5 (/Volumes/owl/nightingales/O_lurida/m170211_224036_42134_c101073082550000001823236402101737_s1_X0_filtered_subreads.fastq.gz) = cc30d6e17499a36960dab140991af9b7\n",
      "/Volumes/owl/nightingales/O_lurida/m170301_100013_42134_c101174162550000001823269408211761_s1_p0_filtered_subreads.fastq.gz\n",
      "MD5 (/Volumes/owl/nightingales/O_lurida/m170301_100013_42134_c101174162550000001823269408211761_s1_p0_filtered_subreads.fastq.gz) = c0f549d4867c2d45f0a4c5ebb65a7163\n",
      "/Volumes/owl/nightingales/O_lurida/m170301_162825_42134_c101174162550000001823269408211762_s1_p0_filtered_subreads.fastq.gz\n",
      "MD5 (/Volumes/owl/nightingales/O_lurida/m170301_162825_42134_c101174162550000001823269408211762_s1_p0_filtered_subreads.fastq.gz) = 601c182bceec111f286b1a75f9276613\n",
      "/Volumes/owl/nightingales/O_lurida/m170301_225711_42134_c101174162550000001823269408211763_s1_p0_filtered_subreads.fastq.gz\n",
      "MD5 (/Volumes/owl/nightingales/O_lurida/m170301_225711_42134_c101174162550000001823269408211763_s1_p0_filtered_subreads.fastq.gz) = 1d8c89d18d976d82f977f53f11657c96\n",
      "/Volumes/owl/nightingales/O_lurida/m170308_163922_42134_c101174252550000001823269408211742_s1_p0_filtered_subreads.fastq.gz\n",
      "MD5 (/Volumes/owl/nightingales/O_lurida/m170308_163922_42134_c101174252550000001823269408211742_s1_p0_filtered_subreads.fastq.gz) = c000bb09dd10ea85028cd73ba1f8ce51\n",
      "/Volumes/owl/nightingales/O_lurida/m170308_230815_42134_c101174252550000001823269408211743_s1_p0_filtered_subreads.fastq.gz\n",
      "MD5 (/Volumes/owl/nightingales/O_lurida/m170308_230815_42134_c101174252550000001823269408211743_s1_p0_filtered_subreads.fastq.gz) = 7f387f334adad2c11f71c4216b0d8fe2\n",
      "/Volumes/owl/nightingales/O_lurida/m170315_001112_42134_c101169372550000001823273008151717_s1_p0_filtered_subreads.fastq.gz\n",
      "MD5 (/Volumes/owl/nightingales/O_lurida/m170315_001112_42134_c101169372550000001823273008151717_s1_p0_filtered_subreads.fastq.gz) = c21ce30b76f57485a3cbe8712a623bd5\n",
      "/Volumes/owl/nightingales/O_lurida/m170315_063041_42134_c101169382550000001823273008151700_s1_p0_filtered_subreads.fastq.gz\n",
      "MD5 (/Volumes/owl/nightingales/O_lurida/m170315_063041_42134_c101169382550000001823273008151700_s1_p0_filtered_subreads.fastq.gz) = 20b0b0743fe0214bde319d2d40a40067\n",
      "/Volumes/owl/nightingales/O_lurida/m170315_124938_42134_c101169382550000001823273008151701_s1_p0_filtered_subreads.fastq.gz\n",
      "MD5 (/Volumes/owl/nightingales/O_lurida/m170315_124938_42134_c101169382550000001823273008151701_s1_p0_filtered_subreads.fastq.gz) = 511866d0fc60fe3e8bb6dea4ce87a64f\n",
      "/Volumes/owl/nightingales/O_lurida/m170315_190851_42134_c101169382550000001823273008151702_s1_p0_filtered_subreads.fastq.gz\n",
      "MD5 (/Volumes/owl/nightingales/O_lurida/m170315_190851_42134_c101169382550000001823273008151702_s1_p0_filtered_subreads.fastq.gz) = 206b30a4b231541a85d4707f0b907153\n"
     ]
    }
   ],
   "source": [
    "%%bash\n",
    "# Find all xml files and store results in array\n",
    "xml_array=($(find . -maxdepth 2 -name \"*.xml\"))\n",
    "\n",
    "# Print contents of array, with some formatting for easier reading.\n",
    "echo \"Contents of xml_array:\"\n",
    "printf '%s\\n' \"${xml_array[@]}\"\n",
    "echo \"\"\n",
    "echo \"-------------\"\n",
    "\n",
    "# Find all fastq.gz files and store results in array\n",
    "fastq_array=($(find . -maxdepth 2 -name \"*.fastq.gz\"))\n",
    "echo \"Contents of xml_array:\"\n",
    "printf '%s\\n' \"${fastq_array[@]}\"\n",
    "echo \"\"\n",
    "echo \"-------------\"\n",
    "\n",
    "# Use parameter expansion to remove path from each component in fastq_array.\n",
    "# Store results in new array.\n",
    "fastq_nopath_array=($(echo \"${fastq_array[@]##*/}\"))\n",
    "\n",
    "# Print contents of array, with some formatting for easier reading.\n",
    "echo \"Contents of fastq_nopath_array:\"\n",
    "printf '%s\\n' \"${fastq_nopath_array[@]}\"\n",
    "echo \"\"\n",
    "echo \"-------------\"\n",
    "\n",
    "# Use parameter expansion to remove path from each component in xml_array.\n",
    "# Store results in new array.\n",
    "xml_nopath_array=($(echo \"${xml_array[@]##*/}\"))\n",
    "\n",
    "# Print contents of array, with some formatting for easier reading.\n",
    "echo \"Contents of xml_nopath_array:\"\n",
    "printf '%s\\n' \"${xml_nopath_array[@]}\"\n",
    "echo \"\"\n",
    "echo \"-------------\"\n",
    "\n",
    "# Use parameter expansion to remove the suffix (.xml) from each component in xml_nopath_array.\n",
    "# Store results in new array.\n",
    "xml_nosuffix_array=($(echo \"${xml_nopath_array[@]%%.*}\"))\n",
    "\n",
    "# Print contents of array, with some formatting for easier reading.\n",
    "echo \"Contents of xml_nosuffix_array:\"\n",
    "printf '%s\\n' \"${xml_nosuffix_array[@]}\"\n",
    "echo \"\"\n",
    "echo \"-------------\"\n",
    "\n",
    "# Loop through each index (i.e. the number corresponding to each element in the array).\n",
    "# Using the paths to each fastq.gz stored in the fastq_array, copy the fastq.gz file to the O_lurida nigthtingales folder &\n",
    "# use array elements to provide new name to copied file.\n",
    "# List the newly copied/named file to verify it got copied/renamed.\n",
    "# Create md5 checksums for each newly copied/renamed file and append to checksums.md5 file.\n",
    "# Use grep to verify info was written to checksums.md5 file\n",
    "for item in \"${!fastq_array[@]}\"; do\n",
    "    cp \"${fastq_array[$item]}\" /Volumes/owl/nightingales/O_lurida/\"${xml_nosuffix_array[$item]}_${fastq_nopath_array[$item]}\"\n",
    "    ls /Volumes/owl/nightingales/O_lurida/\"${xml_nosuffix_array[$item]}_${fastq_nopath_array[$item]}\"\n",
    "    md5 /Volumes/owl/nightingales/O_lurida/\"${xml_nosuffix_array[$item]}_${fastq_nopath_array[$item]}\" >> \\\n",
    "    /Volumes/owl/nightingales/O_lurida/checksums.md5\n",
    "    grep \"${xml_nosuffix_array[$item]}_${fastq_nopath_array[$item]}\" /Volumes/owl/nightingales/O_lurida/checksums.md5\n",
    "done"
   ]
  },
  {
   "cell_type": "markdown",
   "metadata": {},
   "source": [
    "Wow! I'm impressed with myself! It nearly all came out as intended!! Forgot to change the second ```echo``` statement to read \"Contents of fastq_array:\". Other than that, it all worked. Feels good!"
   ]
  },
  {
   "cell_type": "markdown",
   "metadata": {},
   "source": [
    "### Compare md5 checksums\n",
    "\n",
    "#### Need to compare original checksums with that of the copied/renamed files to ensure file integrity didn't change during the copying process."
   ]
  },
  {
   "cell_type": "markdown",
   "metadata": {},
   "source": [
    "Quick test of using ```grep``` and ```awk``` to isolate just the checksum values..."
   ]
  },
  {
   "cell_type": "code",
   "execution_count": 8,
   "metadata": {
    "collapsed": false
   },
   "outputs": [
    {
     "ename": "SyntaxError",
     "evalue": "invalid syntax (<ipython-input-8-0e82f528bf91>, line 1)",
     "output_type": "error",
     "traceback": [
      "\u001b[0;36m  File \u001b[0;32m\"<ipython-input-8-0e82f528bf91>\"\u001b[0;36m, line \u001b[0;32m1\u001b[0m\n\u001b[0;31m    grep \"filtered_subreads.fastq.gz\" /Volumes/owl/nightingales/O_lurida/checksums.md5 | awk '{print \"$4\"}'\u001b[0m\n\u001b[0m                                    ^\u001b[0m\n\u001b[0;31mSyntaxError\u001b[0m\u001b[0;31m:\u001b[0m invalid syntax\n"
     ]
    }
   ],
   "source": [
    "grep \"filtered_subreads.fastq.gz\" /Volumes/owl/nightingales/O_lurida/checksums.md5 | awk '{print \"$4\"}'"
   ]
  },
  {
   "cell_type": "code",
   "execution_count": 9,
   "metadata": {
    "collapsed": false
   },
   "outputs": [
    {
     "name": "stdout",
     "output_type": "stream",
     "text": [
      "$4\n",
      "$4\n",
      "$4\n",
      "$4\n",
      "$4\n",
      "$4\n",
      "$4\n",
      "$4\n",
      "$4\n",
      "$4\n"
     ]
    }
   ],
   "source": [
    "%%bash\n",
    "grep \"filtered_subreads.fastq.gz\" /Volumes/owl/nightingales/O_lurida/checksums.md5 | awk '{print \"$4\"}'"
   ]
  },
  {
   "cell_type": "code",
   "execution_count": 10,
   "metadata": {
    "collapsed": false
   },
   "outputs": [
    {
     "name": "stdout",
     "output_type": "stream",
     "text": [
      "cc30d6e17499a36960dab140991af9b7\n",
      "c0f549d4867c2d45f0a4c5ebb65a7163\n",
      "601c182bceec111f286b1a75f9276613\n",
      "1d8c89d18d976d82f977f53f11657c96\n",
      "c000bb09dd10ea85028cd73ba1f8ce51\n",
      "7f387f334adad2c11f71c4216b0d8fe2\n",
      "c21ce30b76f57485a3cbe8712a623bd5\n",
      "20b0b0743fe0214bde319d2d40a40067\n",
      "511866d0fc60fe3e8bb6dea4ce87a64f\n",
      "206b30a4b231541a85d4707f0b907153\n"
     ]
    }
   ],
   "source": [
    "%%bash\n",
    "grep \"filtered_subreads.fastq.gz\" /Volumes/owl/nightingales/O_lurida/checksums.md5 | awk '{print $4}'"
   ]
  },
  {
   "cell_type": "markdown",
   "metadata": {},
   "source": [
    "Well, I just looked through some previously used code and realized I didn't need to perform the above grep/awk test."
   ]
  },
  {
   "cell_type": "code",
   "execution_count": 11,
   "metadata": {
    "collapsed": false
   },
   "outputs": [
    {
     "name": "stderr",
     "output_type": "stream",
     "text": [
      "bash: line 2: unexpected EOF while looking for matching `)'\n",
      "bash: line 8: syntax error: unexpected end of file\n"
     ]
    }
   ],
   "source": [
    "%%bash\n",
    "original_md5=($(awk '/filtered_subreads.fastq.gz/{print $4}' /Volumes/owl/nightingales/O_lurida/20170323_pacbio/md5checksums_fastq.gz.md5))\n",
    "current_md5=($(awk '/filtered_subreads.fastq.gz/{print $4}' /Volumes/owl/nightingales/O_lurida/checksums.md5\n",
    "for ((i=0;i<=$count;++i))\n",
    "    do\n",
    "        printf \"%s\\n\" \"${original_md5[$i]}\"\n",
    "        printf \"%s\\n\\n\" \"${current_md5[$i]}\"\n",
    "    done"
   ]
  },
  {
   "cell_type": "code",
   "execution_count": 13,
   "metadata": {
    "collapsed": false
   },
   "outputs": [
    {
     "name": "stdout",
     "output_type": "stream",
     "text": [
      "cc30d6e17499a36960dab140991af9b7\n",
      "cc30d6e17499a36960dab140991af9b7\n",
      "\n",
      "c0f549d4867c2d45f0a4c5ebb65a7163\n",
      "c0f549d4867c2d45f0a4c5ebb65a7163\n",
      "\n",
      "601c182bceec111f286b1a75f9276613\n",
      "601c182bceec111f286b1a75f9276613\n",
      "\n",
      "1d8c89d18d976d82f977f53f11657c96\n",
      "1d8c89d18d976d82f977f53f11657c96\n",
      "\n",
      "c000bb09dd10ea85028cd73ba1f8ce51\n",
      "c000bb09dd10ea85028cd73ba1f8ce51\n",
      "\n",
      "7f387f334adad2c11f71c4216b0d8fe2\n",
      "7f387f334adad2c11f71c4216b0d8fe2\n",
      "\n",
      "c21ce30b76f57485a3cbe8712a623bd5\n",
      "c21ce30b76f57485a3cbe8712a623bd5\n",
      "\n",
      "20b0b0743fe0214bde319d2d40a40067\n",
      "20b0b0743fe0214bde319d2d40a40067\n",
      "\n",
      "511866d0fc60fe3e8bb6dea4ce87a64f\n",
      "511866d0fc60fe3e8bb6dea4ce87a64f\n",
      "\n",
      "206b30a4b231541a85d4707f0b907153\n",
      "206b30a4b231541a85d4707f0b907153\n",
      "\n"
     ]
    }
   ],
   "source": [
    "%%bash\n",
    "original_md5=($(awk '/filtered_subreads.fastq.gz/{print $4}' /Volumes/owl/nightingales/O_lurida/20170323_pacbio/md5checksums_fastq.gz.md5))\n",
    "current_md5=($(awk '/filtered_subreads.fastq.gz/{print $4}' /Volumes/owl/nightingales/O_lurida/checksums.md5))\n",
    "count=$(( ${#original_md5[@]} - 1 ))\n",
    "for ((i=0;i<=$count;++i))\n",
    "    do\n",
    "        printf \"%s\\n\" \"${original_md5[$i]}\"\n",
    "        printf \"%s\\n\\n\" \"${current_md5[$i]}\"\n",
    "    done"
   ]
  },
  {
   "cell_type": "markdown",
   "metadata": {},
   "source": [
    "Great! Visual inspection indicates the MD5 checkums have not changed during the copying/renaming process!"
   ]
  },
  {
   "cell_type": "markdown",
   "metadata": {},
   "source": [
    "#### Explanation of the above command:\n",
    "\n",
    "##### The gist is that the output from the awk command is saved to an array. Then a for loop is run which iterates over the array and prints the element at each position.\n",
    "\n",
    "---\n",
    "###### Break down the first line:\n",
    "\n",
    "```original_md5=()``` - This is an empty array called \"original_md5\".\n",
    "\n",
    "```$()``` - This is an empty command substitution. The stdout of commands within the parentheses are stored.\n",
    "\n",
    "```awk '/filtered_subreads.fastq.gz/{print $4}' md5_file``` - Awk looks for any lines from the input file (md5_file) with \"filtered_subreads.fastq.gz\" in them. If a line contains \"filtered_subreads.fastq.gz\", awk prints the fourth field (i.e. the fourth column).\n",
    "\n",
    "Summary - The output from each result printed by awk is saved in an auto-incrementing fashion in the array called \"original_md5\".\n",
    "\n",
    "---\n",
    "###### Break down the 3rd line:\n",
    "\n",
    "```count=$(())``` - A variable called \"count\". This is a combination of empty command substitution and bash arithmeetic. Double parentheses are required for bash arithmetic.\n",
    "\n",
    "\n",
    "```${#current_md5[@]} - 1``` - This prints the number of indices (#) in the array called \"original_md5\" and subtracts 1 from that number. Subtraction of one is necessary because bash is a zero-based language (e.g. the array starts at index 0).\n",
    "\n",
    "Summary - The length of the array minus one is saved to the variable called \"count\".\n",
    "\n",
    "---\n",
    "###### Break down the for loop:\n",
    "\n",
    "```((i=0;i<=$count;++i))``` - Sets variable \"i\" to 0. Then, the loop evaluates whether or not the value of \"i\" is less than/equal to the value in the variable \"count\". If that condition is met, the loop increases the value stored in \"i\" by 1 and continues through the loop.\n",
    "\n",
    "```printf \"%s\\n\" \"${original_md5[$i]}\"``` - Prints the value at the array index designated by the value currently stored in \"i\" (the printing is specified by the \"%s\", which means string). This is followed by printing a new line (\\n).\n",
    "\n",
    "Summary - This prints the value at each position within the array and uses printf to improve legibility of output."
   ]
  },
  {
   "cell_type": "code",
   "execution_count": null,
   "metadata": {
    "collapsed": true
   },
   "outputs": [],
   "source": []
  }
 ],
 "metadata": {
  "kernelspec": {
   "display_name": "Python 2",
   "language": "python",
   "name": "python2"
  },
  "language_info": {
   "codemirror_mode": {
    "name": "ipython",
    "version": 2
   },
   "file_extension": ".py",
   "mimetype": "text/x-python",
   "name": "python",
   "nbconvert_exporter": "python",
   "pygments_lexer": "ipython2",
   "version": "2.7.11"
  }
 },
 "nbformat": 4,
 "nbformat_minor": 0
}
